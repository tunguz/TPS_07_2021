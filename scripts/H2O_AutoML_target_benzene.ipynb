{
 "cells": [
  {
   "cell_type": "code",
   "execution_count": 1,
   "metadata": {},
   "outputs": [],
   "source": [
    "import h2o\n",
    "import pandas as pd"
   ]
  },
  {
   "cell_type": "code",
   "execution_count": 2,
   "metadata": {},
   "outputs": [
    {
     "name": "stdout",
     "output_type": "stream",
     "text": [
      "Checking whether there is an H2O instance running at http://localhost:54321 ..... not found.\n",
      "Attempting to start a local H2O server...\n",
      "  Java Version: openjdk version \"11.0.11\" 2021-04-20; OpenJDK Runtime Environment (build 11.0.11+9-Ubuntu-0ubuntu2.18.04); OpenJDK 64-Bit Server VM (build 11.0.11+9-Ubuntu-0ubuntu2.18.04, mixed mode, sharing)\n",
      "  Starting server from /home/tunguz/.local/lib/python3.6/site-packages/h2o/backend/bin/h2o.jar\n",
      "  Ice root: /tmp/tmpwz1e3mjo\n",
      "  JVM stdout: /tmp/tmpwz1e3mjo/h2o_tunguz_started_from_python.out\n",
      "  JVM stderr: /tmp/tmpwz1e3mjo/h2o_tunguz_started_from_python.err\n",
      "  Server is running at http://127.0.0.1:54321\n",
      "Connecting to H2O server at http://127.0.0.1:54321 ... successful.\n"
     ]
    },
    {
     "data": {
      "text/html": [
       "<div style=\"overflow:auto\"><table style=\"width:50%\"><tr><td>H2O_cluster_uptime:</td>\n",
       "<td>01 secs</td></tr>\n",
       "<tr><td>H2O_cluster_timezone:</td>\n",
       "<td>America/Los_Angeles</td></tr>\n",
       "<tr><td>H2O_data_parsing_timezone:</td>\n",
       "<td>UTC</td></tr>\n",
       "<tr><td>H2O_cluster_version:</td>\n",
       "<td>3.32.1.3</td></tr>\n",
       "<tr><td>H2O_cluster_version_age:</td>\n",
       "<td>1 month and 16 days </td></tr>\n",
       "<tr><td>H2O_cluster_name:</td>\n",
       "<td>H2O_from_python_tunguz_s7jb5k</td></tr>\n",
       "<tr><td>H2O_cluster_total_nodes:</td>\n",
       "<td>1</td></tr>\n",
       "<tr><td>H2O_cluster_free_memory:</td>\n",
       "<td>30 Gb</td></tr>\n",
       "<tr><td>H2O_cluster_total_cores:</td>\n",
       "<td>8</td></tr>\n",
       "<tr><td>H2O_cluster_allowed_cores:</td>\n",
       "<td>8</td></tr>\n",
       "<tr><td>H2O_cluster_status:</td>\n",
       "<td>accepting new members, healthy</td></tr>\n",
       "<tr><td>H2O_connection_url:</td>\n",
       "<td>http://127.0.0.1:54321</td></tr>\n",
       "<tr><td>H2O_connection_proxy:</td>\n",
       "<td>{\"http\": null, \"https\": null}</td></tr>\n",
       "<tr><td>H2O_internal_security:</td>\n",
       "<td>False</td></tr>\n",
       "<tr><td>H2O_API_Extensions:</td>\n",
       "<td>Amazon S3, XGBoost, Algos, AutoML, Core V3, TargetEncoder, Core V4</td></tr>\n",
       "<tr><td>Python_version:</td>\n",
       "<td>3.6.9 final</td></tr></table></div>"
      ],
      "text/plain": [
       "--------------------------  ------------------------------------------------------------------\n",
       "H2O_cluster_uptime:         01 secs\n",
       "H2O_cluster_timezone:       America/Los_Angeles\n",
       "H2O_data_parsing_timezone:  UTC\n",
       "H2O_cluster_version:        3.32.1.3\n",
       "H2O_cluster_version_age:    1 month and 16 days\n",
       "H2O_cluster_name:           H2O_from_python_tunguz_s7jb5k\n",
       "H2O_cluster_total_nodes:    1\n",
       "H2O_cluster_free_memory:    30 Gb\n",
       "H2O_cluster_total_cores:    8\n",
       "H2O_cluster_allowed_cores:  8\n",
       "H2O_cluster_status:         accepting new members, healthy\n",
       "H2O_connection_url:         http://127.0.0.1:54321\n",
       "H2O_connection_proxy:       {\"http\": null, \"https\": null}\n",
       "H2O_internal_security:      False\n",
       "H2O_API_Extensions:         Amazon S3, XGBoost, Algos, AutoML, Core V3, TargetEncoder, Core V4\n",
       "Python_version:             3.6.9 final\n",
       "--------------------------  ------------------------------------------------------------------"
      ]
     },
     "metadata": {},
     "output_type": "display_data"
    }
   ],
   "source": [
    "from h2o.automl import H2OAutoML\n",
    "\n",
    "h2o.init(max_mem_size='30G')"
   ]
  },
  {
   "cell_type": "code",
   "execution_count": 3,
   "metadata": {},
   "outputs": [
    {
     "name": "stdout",
     "output_type": "stream",
     "text": [
      "Parse progress: |█████████████████████████████████████████████████████████| 100%\n",
      "Parse progress: |█████████████████████████████████████████████████████████| 100%\n"
     ]
    }
   ],
   "source": [
    "train = h2o.import_file(\"../input/train.csv\")\n",
    "test = h2o.import_file(\"../input/test.csv\")"
   ]
  },
  {
   "cell_type": "code",
   "execution_count": 5,
   "metadata": {},
   "outputs": [
    {
     "data": {
      "text/html": [
       "<table>\n",
       "<thead>\n",
       "<tr><th>date_time          </th><th style=\"text-align: right;\">  deg_C</th><th style=\"text-align: right;\">  relative_humidity</th><th style=\"text-align: right;\">  absolute_humidity</th><th style=\"text-align: right;\">  sensor_1</th><th style=\"text-align: right;\">  sensor_2</th><th style=\"text-align: right;\">  sensor_3</th><th style=\"text-align: right;\">  sensor_4</th><th style=\"text-align: right;\">  sensor_5</th><th style=\"text-align: right;\">  target_carbon_monoxide</th><th style=\"text-align: right;\">  target_benzene</th><th style=\"text-align: right;\">  target_nitrogen_oxides</th></tr>\n",
       "</thead>\n",
       "<tbody>\n",
       "<tr><td>2010-03-10 18:00:00</td><td style=\"text-align: right;\">   13.1</td><td style=\"text-align: right;\">               46  </td><td style=\"text-align: right;\">             0.7578</td><td style=\"text-align: right;\">    1387.2</td><td style=\"text-align: right;\">    1087.8</td><td style=\"text-align: right;\">    1056  </td><td style=\"text-align: right;\">    1742.8</td><td style=\"text-align: right;\">    1293.4</td><td style=\"text-align: right;\">                     2.5</td><td style=\"text-align: right;\">            12  </td><td style=\"text-align: right;\">                   167.7</td></tr>\n",
       "<tr><td>2010-03-10 19:00:00</td><td style=\"text-align: right;\">   13.2</td><td style=\"text-align: right;\">               45.3</td><td style=\"text-align: right;\">             0.7255</td><td style=\"text-align: right;\">    1279.1</td><td style=\"text-align: right;\">     888.2</td><td style=\"text-align: right;\">    1197.5</td><td style=\"text-align: right;\">    1449.9</td><td style=\"text-align: right;\">    1010.9</td><td style=\"text-align: right;\">                     2.1</td><td style=\"text-align: right;\">             9.9</td><td style=\"text-align: right;\">                    98.9</td></tr>\n",
       "<tr><td>2010-03-10 20:00:00</td><td style=\"text-align: right;\">   12.6</td><td style=\"text-align: right;\">               56.2</td><td style=\"text-align: right;\">             0.7502</td><td style=\"text-align: right;\">    1331.9</td><td style=\"text-align: right;\">     929.6</td><td style=\"text-align: right;\">    1060.2</td><td style=\"text-align: right;\">    1586.1</td><td style=\"text-align: right;\">    1117  </td><td style=\"text-align: right;\">                     2.2</td><td style=\"text-align: right;\">             9.2</td><td style=\"text-align: right;\">                   127.1</td></tr>\n",
       "<tr><td>2010-03-10 21:00:00</td><td style=\"text-align: right;\">   11  </td><td style=\"text-align: right;\">               62.4</td><td style=\"text-align: right;\">             0.7867</td><td style=\"text-align: right;\">    1321  </td><td style=\"text-align: right;\">     929  </td><td style=\"text-align: right;\">    1102.9</td><td style=\"text-align: right;\">    1536.5</td><td style=\"text-align: right;\">    1263.2</td><td style=\"text-align: right;\">                     2.2</td><td style=\"text-align: right;\">             9.7</td><td style=\"text-align: right;\">                   177.2</td></tr>\n",
       "<tr><td>2010-03-10 22:00:00</td><td style=\"text-align: right;\">   11.9</td><td style=\"text-align: right;\">               59  </td><td style=\"text-align: right;\">             0.7888</td><td style=\"text-align: right;\">    1272  </td><td style=\"text-align: right;\">     852.7</td><td style=\"text-align: right;\">    1180.9</td><td style=\"text-align: right;\">    1415.5</td><td style=\"text-align: right;\">    1132.2</td><td style=\"text-align: right;\">                     1.5</td><td style=\"text-align: right;\">             6.4</td><td style=\"text-align: right;\">                   121.8</td></tr>\n",
       "<tr><td>2010-03-10 23:00:00</td><td style=\"text-align: right;\">   11.2</td><td style=\"text-align: right;\">               56.8</td><td style=\"text-align: right;\">             0.7848</td><td style=\"text-align: right;\">    1220.9</td><td style=\"text-align: right;\">     697.5</td><td style=\"text-align: right;\">    1417.2</td><td style=\"text-align: right;\">    1462.6</td><td style=\"text-align: right;\">     949  </td><td style=\"text-align: right;\">                     1.2</td><td style=\"text-align: right;\">             4.4</td><td style=\"text-align: right;\">                    88.1</td></tr>\n",
       "<tr><td>2010-03-11 00:00:00</td><td style=\"text-align: right;\">   10.7</td><td style=\"text-align: right;\">               55.7</td><td style=\"text-align: right;\">             0.7603</td><td style=\"text-align: right;\">    1244.2</td><td style=\"text-align: right;\">     669.3</td><td style=\"text-align: right;\">    1491.2</td><td style=\"text-align: right;\">    1413  </td><td style=\"text-align: right;\">     769.6</td><td style=\"text-align: right;\">                     1.2</td><td style=\"text-align: right;\">             3.7</td><td style=\"text-align: right;\">                    59.5</td></tr>\n",
       "<tr><td>2010-03-11 01:00:00</td><td style=\"text-align: right;\">   10.3</td><td style=\"text-align: right;\">               57  </td><td style=\"text-align: right;\">             0.7702</td><td style=\"text-align: right;\">    1181.4</td><td style=\"text-align: right;\">     631.7</td><td style=\"text-align: right;\">    1511.1</td><td style=\"text-align: right;\">    1359.7</td><td style=\"text-align: right;\">     715.4</td><td style=\"text-align: right;\">                     1  </td><td style=\"text-align: right;\">             3.4</td><td style=\"text-align: right;\">                    63.9</td></tr>\n",
       "<tr><td>2010-03-11 02:00:00</td><td style=\"text-align: right;\">   10.1</td><td style=\"text-align: right;\">               62.7</td><td style=\"text-align: right;\">             0.7648</td><td style=\"text-align: right;\">    1159.6</td><td style=\"text-align: right;\">     602.9</td><td style=\"text-align: right;\">    1610.6</td><td style=\"text-align: right;\">    1212.2</td><td style=\"text-align: right;\">     657.2</td><td style=\"text-align: right;\">                     0.9</td><td style=\"text-align: right;\">             2.2</td><td style=\"text-align: right;\">                    46.4</td></tr>\n",
       "<tr><td>2010-03-11 03:00:00</td><td style=\"text-align: right;\">   10.5</td><td style=\"text-align: right;\">               59.6</td><td style=\"text-align: right;\">             0.7517</td><td style=\"text-align: right;\">    1030.2</td><td style=\"text-align: right;\">     521.7</td><td style=\"text-align: right;\">    1790.2</td><td style=\"text-align: right;\">    1148.6</td><td style=\"text-align: right;\">     491  </td><td style=\"text-align: right;\">                     0.6</td><td style=\"text-align: right;\">             1.6</td><td style=\"text-align: right;\">                    43  </td></tr>\n",
       "</tbody>\n",
       "</table>"
      ]
     },
     "metadata": {},
     "output_type": "display_data"
    },
    {
     "data": {
      "text/plain": []
     },
     "execution_count": 5,
     "metadata": {},
     "output_type": "execute_result"
    }
   ],
   "source": [
    "train.head()"
   ]
  },
  {
   "cell_type": "code",
   "execution_count": 6,
   "metadata": {},
   "outputs": [
    {
     "data": {
      "text/html": [
       "<table>\n",
       "<thead>\n",
       "<tr><th>date_time          </th><th style=\"text-align: right;\">  deg_C</th><th style=\"text-align: right;\">  relative_humidity</th><th style=\"text-align: right;\">  absolute_humidity</th><th style=\"text-align: right;\">  sensor_1</th><th style=\"text-align: right;\">  sensor_2</th><th style=\"text-align: right;\">  sensor_3</th><th style=\"text-align: right;\">  sensor_4</th><th style=\"text-align: right;\">  sensor_5</th></tr>\n",
       "</thead>\n",
       "<tbody>\n",
       "<tr><td>2011-01-01 00:00:00</td><td style=\"text-align: right;\">    8  </td><td style=\"text-align: right;\">               41.3</td><td style=\"text-align: right;\">             0.4375</td><td style=\"text-align: right;\">    1108.8</td><td style=\"text-align: right;\">     745.7</td><td style=\"text-align: right;\">     797.1</td><td style=\"text-align: right;\">     880  </td><td style=\"text-align: right;\">    1273.1</td></tr>\n",
       "<tr><td>2011-01-01 01:00:00</td><td style=\"text-align: right;\">    5.1</td><td style=\"text-align: right;\">               51.7</td><td style=\"text-align: right;\">             0.4564</td><td style=\"text-align: right;\">    1249.5</td><td style=\"text-align: right;\">     864.9</td><td style=\"text-align: right;\">     687.9</td><td style=\"text-align: right;\">     972.8</td><td style=\"text-align: right;\">    1714  </td></tr>\n",
       "<tr><td>2011-01-01 02:00:00</td><td style=\"text-align: right;\">    5.8</td><td style=\"text-align: right;\">               51.5</td><td style=\"text-align: right;\">             0.4689</td><td style=\"text-align: right;\">    1102.6</td><td style=\"text-align: right;\">     878  </td><td style=\"text-align: right;\">     693.7</td><td style=\"text-align: right;\">     941.9</td><td style=\"text-align: right;\">    1300.8</td></tr>\n",
       "<tr><td>2011-01-01 03:00:00</td><td style=\"text-align: right;\">    5  </td><td style=\"text-align: right;\">               52.3</td><td style=\"text-align: right;\">             0.4693</td><td style=\"text-align: right;\">    1139.7</td><td style=\"text-align: right;\">     916.2</td><td style=\"text-align: right;\">     725.6</td><td style=\"text-align: right;\">    1011  </td><td style=\"text-align: right;\">    1283  </td></tr>\n",
       "<tr><td>2011-01-01 04:00:00</td><td style=\"text-align: right;\">    4.5</td><td style=\"text-align: right;\">               57.5</td><td style=\"text-align: right;\">             0.465 </td><td style=\"text-align: right;\">    1022.4</td><td style=\"text-align: right;\">     838.5</td><td style=\"text-align: right;\">     871.5</td><td style=\"text-align: right;\">     967  </td><td style=\"text-align: right;\">    1142.3</td></tr>\n",
       "<tr><td>2011-01-01 05:00:00</td><td style=\"text-align: right;\">    4.5</td><td style=\"text-align: right;\">               53.7</td><td style=\"text-align: right;\">             0.4759</td><td style=\"text-align: right;\">    1004  </td><td style=\"text-align: right;\">     745.5</td><td style=\"text-align: right;\">     914.2</td><td style=\"text-align: right;\">     989.1</td><td style=\"text-align: right;\">     973.8</td></tr>\n",
       "<tr><td>2011-01-01 06:00:00</td><td style=\"text-align: right;\">    3.3</td><td style=\"text-align: right;\">               54.8</td><td style=\"text-align: right;\">             0.4636</td><td style=\"text-align: right;\">     940.9</td><td style=\"text-align: right;\">     738.2</td><td style=\"text-align: right;\">     816  </td><td style=\"text-align: right;\">     896.8</td><td style=\"text-align: right;\">    1049.4</td></tr>\n",
       "<tr><td>2011-01-01 07:00:00</td><td style=\"text-align: right;\">    3.2</td><td style=\"text-align: right;\">               60.7</td><td style=\"text-align: right;\">             0.4667</td><td style=\"text-align: right;\">     954.5</td><td style=\"text-align: right;\">     713.9</td><td style=\"text-align: right;\">     834.7</td><td style=\"text-align: right;\">     935.6</td><td style=\"text-align: right;\">     956.3</td></tr>\n",
       "<tr><td>2011-01-01 08:00:00</td><td style=\"text-align: right;\">    2.5</td><td style=\"text-align: right;\">               65.7</td><td style=\"text-align: right;\">             0.4721</td><td style=\"text-align: right;\">     969.9</td><td style=\"text-align: right;\">     679.1</td><td style=\"text-align: right;\">     943.8</td><td style=\"text-align: right;\">     959.3</td><td style=\"text-align: right;\">     892  </td></tr>\n",
       "<tr><td>2011-01-01 09:00:00</td><td style=\"text-align: right;\">    3.9</td><td style=\"text-align: right;\">               57.8</td><td style=\"text-align: right;\">             0.4807</td><td style=\"text-align: right;\">     976.6</td><td style=\"text-align: right;\">     655.5</td><td style=\"text-align: right;\">     996  </td><td style=\"text-align: right;\">     906  </td><td style=\"text-align: right;\">     817.5</td></tr>\n",
       "</tbody>\n",
       "</table>"
      ]
     },
     "metadata": {},
     "output_type": "display_data"
    },
    {
     "data": {
      "text/plain": []
     },
     "execution_count": 6,
     "metadata": {},
     "output_type": "execute_result"
    }
   ],
   "source": [
    "test.head()"
   ]
  },
  {
   "cell_type": "code",
   "execution_count": 7,
   "metadata": {},
   "outputs": [],
   "source": [
    "x = test.columns[1:]\n",
    "y = 'target_benzene'"
   ]
  },
  {
   "cell_type": "code",
   "execution_count": 8,
   "metadata": {},
   "outputs": [
    {
     "name": "stdout",
     "output_type": "stream",
     "text": [
      "AutoML progress: |████████████████████████████████████████████████████████| 100%\n"
     ]
    }
   ],
   "source": [
    "# Run AutoML for 20 base models (limited to 1 hour max runtime by default)\n",
    "aml = H2OAutoML(max_models=180, seed=47, max_runtime_secs=600)\n",
    "aml.train(x=x, y=y, training_frame=train)"
   ]
  },
  {
   "cell_type": "code",
   "execution_count": 9,
   "metadata": {},
   "outputs": [
    {
     "data": {
      "text/html": [
       "<table>\n",
       "<thead>\n",
       "<tr><th>model_id                                           </th><th style=\"text-align: right;\">  mean_residual_deviance</th><th style=\"text-align: right;\">   rmse</th><th style=\"text-align: right;\">     mse</th><th style=\"text-align: right;\">     mae</th><th style=\"text-align: right;\">      rmsle</th></tr>\n",
       "</thead>\n",
       "<tbody>\n",
       "<tr><td>StackedEnsemble_AllModels_AutoML_20210706_121036   </td><td style=\"text-align: right;\">                 1.328  </td><td style=\"text-align: right;\">1.15239</td><td style=\"text-align: right;\"> 1.328  </td><td style=\"text-align: right;\">0.778898</td><td style=\"text-align: right;\">  0.0885665</td></tr>\n",
       "<tr><td>StackedEnsemble_BestOfFamily_AutoML_20210706_121036</td><td style=\"text-align: right;\">                 1.3617 </td><td style=\"text-align: right;\">1.16692</td><td style=\"text-align: right;\"> 1.3617 </td><td style=\"text-align: right;\">0.787229</td><td style=\"text-align: right;\">  0.0891511</td></tr>\n",
       "<tr><td>GBM_2_AutoML_20210706_121036                       </td><td style=\"text-align: right;\">                 1.40113</td><td style=\"text-align: right;\">1.18369</td><td style=\"text-align: right;\"> 1.40113</td><td style=\"text-align: right;\">0.79667 </td><td style=\"text-align: right;\">  0.0907508</td></tr>\n",
       "<tr><td>GBM_1_AutoML_20210706_121036                       </td><td style=\"text-align: right;\">                 1.4109 </td><td style=\"text-align: right;\">1.18781</td><td style=\"text-align: right;\"> 1.4109 </td><td style=\"text-align: right;\">0.802771</td><td style=\"text-align: right;\">  0.0910528</td></tr>\n",
       "<tr><td>GBM_4_AutoML_20210706_121036                       </td><td style=\"text-align: right;\">                 1.41644</td><td style=\"text-align: right;\">1.19014</td><td style=\"text-align: right;\"> 1.41644</td><td style=\"text-align: right;\">0.801363</td><td style=\"text-align: right;\">  0.0901836</td></tr>\n",
       "<tr><td>GBM_grid__1_AutoML_20210706_121036_model_9         </td><td style=\"text-align: right;\">                 1.42351</td><td style=\"text-align: right;\">1.19311</td><td style=\"text-align: right;\"> 1.42351</td><td style=\"text-align: right;\">0.801139</td><td style=\"text-align: right;\">  0.0904276</td></tr>\n",
       "<tr><td>GBM_grid__1_AutoML_20210706_121036_model_14        </td><td style=\"text-align: right;\">                 1.432  </td><td style=\"text-align: right;\">1.19666</td><td style=\"text-align: right;\"> 1.432  </td><td style=\"text-align: right;\">0.797832</td><td style=\"text-align: right;\">  0.0900157</td></tr>\n",
       "<tr><td>GBM_3_AutoML_20210706_121036                       </td><td style=\"text-align: right;\">                 1.43479</td><td style=\"text-align: right;\">1.19783</td><td style=\"text-align: right;\"> 1.43479</td><td style=\"text-align: right;\">0.804334</td><td style=\"text-align: right;\">  0.0902492</td></tr>\n",
       "<tr><td>GBM_grid__1_AutoML_20210706_121036_model_8         </td><td style=\"text-align: right;\">                 1.43905</td><td style=\"text-align: right;\">1.1996 </td><td style=\"text-align: right;\"> 1.43905</td><td style=\"text-align: right;\">0.834375</td><td style=\"text-align: right;\">  0.0953742</td></tr>\n",
       "<tr><td>GBM_grid__1_AutoML_20210706_121036_model_20        </td><td style=\"text-align: right;\">                 1.44322</td><td style=\"text-align: right;\">1.20134</td><td style=\"text-align: right;\"> 1.44322</td><td style=\"text-align: right;\">0.807833</td><td style=\"text-align: right;\">  0.0906985</td></tr>\n",
       "<tr><td>GBM_grid__1_AutoML_20210706_121036_model_6         </td><td style=\"text-align: right;\">                 1.44852</td><td style=\"text-align: right;\">1.20355</td><td style=\"text-align: right;\"> 1.44852</td><td style=\"text-align: right;\">0.804394</td><td style=\"text-align: right;\">  0.0917244</td></tr>\n",
       "<tr><td>GBM_grid__1_AutoML_20210706_121036_model_12        </td><td style=\"text-align: right;\">                 1.45224</td><td style=\"text-align: right;\">1.20509</td><td style=\"text-align: right;\"> 1.45224</td><td style=\"text-align: right;\">0.803973</td><td style=\"text-align: right;\">  0.0921707</td></tr>\n",
       "<tr><td>GBM_grid__1_AutoML_20210706_121036_model_17        </td><td style=\"text-align: right;\">                 1.45445</td><td style=\"text-align: right;\">1.20601</td><td style=\"text-align: right;\"> 1.45445</td><td style=\"text-align: right;\">0.804735</td><td style=\"text-align: right;\">  0.0931185</td></tr>\n",
       "<tr><td>XGBoost_grid__1_AutoML_20210706_121036_model_7     </td><td style=\"text-align: right;\">                 1.46977</td><td style=\"text-align: right;\">1.21234</td><td style=\"text-align: right;\"> 1.46977</td><td style=\"text-align: right;\">0.828297</td><td style=\"text-align: right;\">  0.0934099</td></tr>\n",
       "<tr><td>GBM_grid__1_AutoML_20210706_121036_model_5         </td><td style=\"text-align: right;\">                 1.47316</td><td style=\"text-align: right;\">1.21374</td><td style=\"text-align: right;\"> 1.47316</td><td style=\"text-align: right;\">0.816338</td><td style=\"text-align: right;\">  0.0971945</td></tr>\n",
       "<tr><td>GBM_grid__1_AutoML_20210706_121036_model_15        </td><td style=\"text-align: right;\">                 1.4744 </td><td style=\"text-align: right;\">1.21425</td><td style=\"text-align: right;\"> 1.4744 </td><td style=\"text-align: right;\">0.804402</td><td style=\"text-align: right;\">  0.0910218</td></tr>\n",
       "<tr><td>XGBoost_grid__1_AutoML_20210706_121036_model_52    </td><td style=\"text-align: right;\">                 1.48113</td><td style=\"text-align: right;\">1.21702</td><td style=\"text-align: right;\"> 1.48113</td><td style=\"text-align: right;\">0.825603</td><td style=\"text-align: right;\">  0.0954519</td></tr>\n",
       "<tr><td>XGBoost_grid__1_AutoML_20210706_121036_model_32    </td><td style=\"text-align: right;\">                 1.48268</td><td style=\"text-align: right;\">1.21765</td><td style=\"text-align: right;\"> 1.48268</td><td style=\"text-align: right;\">0.826557</td><td style=\"text-align: right;\">  0.0975495</td></tr>\n",
       "<tr><td>GBM_grid__1_AutoML_20210706_121036_model_19        </td><td style=\"text-align: right;\">                 1.48391</td><td style=\"text-align: right;\">1.21816</td><td style=\"text-align: right;\"> 1.48391</td><td style=\"text-align: right;\">0.805658</td><td style=\"text-align: right;\">  0.0929878</td></tr>\n",
       "<tr><td>XGBoost_grid__1_AutoML_20210706_121036_model_51    </td><td style=\"text-align: right;\">                 1.48406</td><td style=\"text-align: right;\">1.21822</td><td style=\"text-align: right;\"> 1.48406</td><td style=\"text-align: right;\">0.829389</td><td style=\"text-align: right;\">  0.0948721</td></tr>\n",
       "<tr><td>XGBoost_grid__1_AutoML_20210706_121036_model_43    </td><td style=\"text-align: right;\">                 1.48695</td><td style=\"text-align: right;\">1.21941</td><td style=\"text-align: right;\"> 1.48695</td><td style=\"text-align: right;\">0.831894</td><td style=\"text-align: right;\">  0.0938256</td></tr>\n",
       "<tr><td>GBM_grid__1_AutoML_20210706_121036_model_3         </td><td style=\"text-align: right;\">                 1.49193</td><td style=\"text-align: right;\">1.22144</td><td style=\"text-align: right;\"> 1.49193</td><td style=\"text-align: right;\">0.805438</td><td style=\"text-align: right;\">  0.0939644</td></tr>\n",
       "<tr><td>XGBoost_grid__1_AutoML_20210706_121036_model_30    </td><td style=\"text-align: right;\">                 1.50253</td><td style=\"text-align: right;\">1.22578</td><td style=\"text-align: right;\"> 1.50253</td><td style=\"text-align: right;\">0.829406</td><td style=\"text-align: right;\">  0.0935678</td></tr>\n",
       "<tr><td>XGBoost_3_AutoML_20210706_121036                   </td><td style=\"text-align: right;\">                 1.51374</td><td style=\"text-align: right;\">1.23034</td><td style=\"text-align: right;\"> 1.51374</td><td style=\"text-align: right;\">0.832044</td><td style=\"text-align: right;\">  0.094898 </td></tr>\n",
       "<tr><td>DRF_1_AutoML_20210706_121036                       </td><td style=\"text-align: right;\">                 1.51461</td><td style=\"text-align: right;\">1.23069</td><td style=\"text-align: right;\"> 1.51461</td><td style=\"text-align: right;\">0.809014</td><td style=\"text-align: right;\">  0.0930384</td></tr>\n",
       "<tr><td>XGBoost_grid__1_AutoML_20210706_121036_model_40    </td><td style=\"text-align: right;\">                 1.51985</td><td style=\"text-align: right;\">1.23282</td><td style=\"text-align: right;\"> 1.51985</td><td style=\"text-align: right;\">0.834306</td><td style=\"text-align: right;\">  0.0939661</td></tr>\n",
       "<tr><td>GBM_grid__1_AutoML_20210706_121036_model_10        </td><td style=\"text-align: right;\">                 1.52654</td><td style=\"text-align: right;\">1.23553</td><td style=\"text-align: right;\"> 1.52654</td><td style=\"text-align: right;\">0.81435 </td><td style=\"text-align: right;\">  0.0983971</td></tr>\n",
       "<tr><td>XGBoost_grid__1_AutoML_20210706_121036_model_13    </td><td style=\"text-align: right;\">                 1.52723</td><td style=\"text-align: right;\">1.23581</td><td style=\"text-align: right;\"> 1.52723</td><td style=\"text-align: right;\">0.840126</td><td style=\"text-align: right;\">  0.0953772</td></tr>\n",
       "<tr><td>XRT_1_AutoML_20210706_121036                       </td><td style=\"text-align: right;\">                 1.53521</td><td style=\"text-align: right;\">1.23903</td><td style=\"text-align: right;\"> 1.53521</td><td style=\"text-align: right;\">0.807268</td><td style=\"text-align: right;\">  0.0920501</td></tr>\n",
       "<tr><td>XGBoost_grid__1_AutoML_20210706_121036_model_38    </td><td style=\"text-align: right;\">                 1.53576</td><td style=\"text-align: right;\">1.23926</td><td style=\"text-align: right;\"> 1.53576</td><td style=\"text-align: right;\">0.834769</td><td style=\"text-align: right;\">  0.0953086</td></tr>\n",
       "<tr><td>XGBoost_grid__1_AutoML_20210706_121036_model_42    </td><td style=\"text-align: right;\">                 1.53926</td><td style=\"text-align: right;\">1.24067</td><td style=\"text-align: right;\"> 1.53926</td><td style=\"text-align: right;\">0.837249</td><td style=\"text-align: right;\">  0.0952203</td></tr>\n",
       "<tr><td>XGBoost_grid__1_AutoML_20210706_121036_model_29    </td><td style=\"text-align: right;\">                 1.5442 </td><td style=\"text-align: right;\">1.24266</td><td style=\"text-align: right;\"> 1.5442 </td><td style=\"text-align: right;\">0.841022</td><td style=\"text-align: right;\">  0.0946437</td></tr>\n",
       "<tr><td>GBM_grid__1_AutoML_20210706_121036_model_7         </td><td style=\"text-align: right;\">                 1.5446 </td><td style=\"text-align: right;\">1.24282</td><td style=\"text-align: right;\"> 1.5446 </td><td style=\"text-align: right;\">0.832206</td><td style=\"text-align: right;\">  0.100182 </td></tr>\n",
       "<tr><td>GBM_grid__1_AutoML_20210706_121036_model_1         </td><td style=\"text-align: right;\">                 1.54472</td><td style=\"text-align: right;\">1.24287</td><td style=\"text-align: right;\"> 1.54472</td><td style=\"text-align: right;\">0.822137</td><td style=\"text-align: right;\">  0.097825 </td></tr>\n",
       "<tr><td>GBM_grid__1_AutoML_20210706_121036_model_18        </td><td style=\"text-align: right;\">                 1.55266</td><td style=\"text-align: right;\">1.24606</td><td style=\"text-align: right;\"> 1.55266</td><td style=\"text-align: right;\">0.819837</td><td style=\"text-align: right;\">  0.0979044</td></tr>\n",
       "<tr><td>XGBoost_grid__1_AutoML_20210706_121036_model_4     </td><td style=\"text-align: right;\">                 1.5539 </td><td style=\"text-align: right;\">1.24655</td><td style=\"text-align: right;\"> 1.5539 </td><td style=\"text-align: right;\">0.832894</td><td style=\"text-align: right;\">  0.0944292</td></tr>\n",
       "<tr><td>GBM_grid__1_AutoML_20210706_121036_model_2         </td><td style=\"text-align: right;\">                 1.55777</td><td style=\"text-align: right;\">1.24811</td><td style=\"text-align: right;\"> 1.55777</td><td style=\"text-align: right;\">0.837422</td><td style=\"text-align: right;\">  0.0929232</td></tr>\n",
       "<tr><td>XGBoost_grid__1_AutoML_20210706_121036_model_25    </td><td style=\"text-align: right;\">                 1.57123</td><td style=\"text-align: right;\">1.25349</td><td style=\"text-align: right;\"> 1.57123</td><td style=\"text-align: right;\">0.834471</td><td style=\"text-align: right;\">  0.0954962</td></tr>\n",
       "<tr><td>XGBoost_grid__1_AutoML_20210706_121036_model_35    </td><td style=\"text-align: right;\">                 1.57303</td><td style=\"text-align: right;\">1.2542 </td><td style=\"text-align: right;\"> 1.57303</td><td style=\"text-align: right;\">0.839398</td><td style=\"text-align: right;\">  0.0952196</td></tr>\n",
       "<tr><td>XGBoost_grid__1_AutoML_20210706_121036_model_16    </td><td style=\"text-align: right;\">                 1.57307</td><td style=\"text-align: right;\">1.25422</td><td style=\"text-align: right;\"> 1.57307</td><td style=\"text-align: right;\">0.851691</td><td style=\"text-align: right;\">  0.0972108</td></tr>\n",
       "<tr><td>XGBoost_grid__1_AutoML_20210706_121036_model_41    </td><td style=\"text-align: right;\">                 1.57744</td><td style=\"text-align: right;\">1.25596</td><td style=\"text-align: right;\"> 1.57744</td><td style=\"text-align: right;\">0.84289 </td><td style=\"text-align: right;\">  0.0955633</td></tr>\n",
       "<tr><td>XGBoost_grid__1_AutoML_20210706_121036_model_48    </td><td style=\"text-align: right;\">                 1.5777 </td><td style=\"text-align: right;\">1.25606</td><td style=\"text-align: right;\"> 1.5777 </td><td style=\"text-align: right;\">0.841749</td><td style=\"text-align: right;\">  0.0951997</td></tr>\n",
       "<tr><td>GBM_grid__1_AutoML_20210706_121036_model_11        </td><td style=\"text-align: right;\">                 1.57807</td><td style=\"text-align: right;\">1.25621</td><td style=\"text-align: right;\"> 1.57807</td><td style=\"text-align: right;\">0.838798</td><td style=\"text-align: right;\">  0.106411 </td></tr>\n",
       "<tr><td>XGBoost_grid__1_AutoML_20210706_121036_model_10    </td><td style=\"text-align: right;\">                 1.59023</td><td style=\"text-align: right;\">1.26105</td><td style=\"text-align: right;\"> 1.59023</td><td style=\"text-align: right;\">0.833997</td><td style=\"text-align: right;\">  0.0954031</td></tr>\n",
       "<tr><td>XGBoost_grid__1_AutoML_20210706_121036_model_23    </td><td style=\"text-align: right;\">                 1.59366</td><td style=\"text-align: right;\">1.2624 </td><td style=\"text-align: right;\"> 1.59366</td><td style=\"text-align: right;\">0.843224</td><td style=\"text-align: right;\">  0.0959358</td></tr>\n",
       "<tr><td>XGBoost_grid__1_AutoML_20210706_121036_model_36    </td><td style=\"text-align: right;\">                 1.59378</td><td style=\"text-align: right;\">1.26245</td><td style=\"text-align: right;\"> 1.59378</td><td style=\"text-align: right;\">0.844219</td><td style=\"text-align: right;\">  0.0992732</td></tr>\n",
       "<tr><td>XGBoost_grid__1_AutoML_20210706_121036_model_3     </td><td style=\"text-align: right;\">                 1.60287</td><td style=\"text-align: right;\">1.26604</td><td style=\"text-align: right;\"> 1.60287</td><td style=\"text-align: right;\">0.849404</td><td style=\"text-align: right;\">  0.100541 </td></tr>\n",
       "<tr><td>XGBoost_grid__1_AutoML_20210706_121036_model_1     </td><td style=\"text-align: right;\">                 1.60816</td><td style=\"text-align: right;\">1.26813</td><td style=\"text-align: right;\"> 1.60816</td><td style=\"text-align: right;\">0.858524</td><td style=\"text-align: right;\">  0.101405 </td></tr>\n",
       "<tr><td>XGBoost_grid__1_AutoML_20210706_121036_model_44    </td><td style=\"text-align: right;\">                 1.618  </td><td style=\"text-align: right;\">1.27201</td><td style=\"text-align: right;\"> 1.618  </td><td style=\"text-align: right;\">0.864873</td><td style=\"text-align: right;\">  0.103271 </td></tr>\n",
       "<tr><td>XGBoost_grid__1_AutoML_20210706_121036_model_49    </td><td style=\"text-align: right;\">                 1.6213 </td><td style=\"text-align: right;\">1.2733 </td><td style=\"text-align: right;\"> 1.6213 </td><td style=\"text-align: right;\">0.8581  </td><td style=\"text-align: right;\">  0.102974 </td></tr>\n",
       "<tr><td>XGBoost_1_AutoML_20210706_121036                   </td><td style=\"text-align: right;\">                 1.62237</td><td style=\"text-align: right;\">1.27372</td><td style=\"text-align: right;\"> 1.62237</td><td style=\"text-align: right;\">0.856649</td><td style=\"text-align: right;\">  0.0972853</td></tr>\n",
       "<tr><td>XGBoost_grid__1_AutoML_20210706_121036_model_11    </td><td style=\"text-align: right;\">                 1.62626</td><td style=\"text-align: right;\">1.27525</td><td style=\"text-align: right;\"> 1.62626</td><td style=\"text-align: right;\">0.860435</td><td style=\"text-align: right;\">  0.101449 </td></tr>\n",
       "<tr><td>XGBoost_grid__1_AutoML_20210706_121036_model_45    </td><td style=\"text-align: right;\">                 1.63243</td><td style=\"text-align: right;\">1.27766</td><td style=\"text-align: right;\"> 1.63243</td><td style=\"text-align: right;\">0.862343</td><td style=\"text-align: right;\">  0.103092 </td></tr>\n",
       "<tr><td>XGBoost_grid__1_AutoML_20210706_121036_model_6     </td><td style=\"text-align: right;\">                 1.63309</td><td style=\"text-align: right;\">1.27792</td><td style=\"text-align: right;\"> 1.63309</td><td style=\"text-align: right;\">0.860995</td><td style=\"text-align: right;\">  0.0960476</td></tr>\n",
       "<tr><td>XGBoost_grid__1_AutoML_20210706_121036_model_47    </td><td style=\"text-align: right;\">                 1.63424</td><td style=\"text-align: right;\">1.27838</td><td style=\"text-align: right;\"> 1.63424</td><td style=\"text-align: right;\">0.865529</td><td style=\"text-align: right;\">  0.104252 </td></tr>\n",
       "<tr><td>XGBoost_grid__1_AutoML_20210706_121036_model_21    </td><td style=\"text-align: right;\">                 1.63699</td><td style=\"text-align: right;\">1.27945</td><td style=\"text-align: right;\"> 1.63699</td><td style=\"text-align: right;\">0.857119</td><td style=\"text-align: right;\">  0.0985774</td></tr>\n",
       "<tr><td>XGBoost_grid__1_AutoML_20210706_121036_model_22    </td><td style=\"text-align: right;\">                 1.63763</td><td style=\"text-align: right;\">1.2797 </td><td style=\"text-align: right;\"> 1.63763</td><td style=\"text-align: right;\">0.859067</td><td style=\"text-align: right;\">  0.100386 </td></tr>\n",
       "<tr><td>XGBoost_grid__1_AutoML_20210706_121036_model_9     </td><td style=\"text-align: right;\">                 1.63907</td><td style=\"text-align: right;\">1.28026</td><td style=\"text-align: right;\"> 1.63907</td><td style=\"text-align: right;\">0.859726</td><td style=\"text-align: right;\">  0.0987752</td></tr>\n",
       "<tr><td>XGBoost_grid__1_AutoML_20210706_121036_model_5     </td><td style=\"text-align: right;\">                 1.64138</td><td style=\"text-align: right;\">1.28116</td><td style=\"text-align: right;\"> 1.64138</td><td style=\"text-align: right;\">0.861499</td><td style=\"text-align: right;\">  0.0974579</td></tr>\n",
       "<tr><td>XGBoost_grid__1_AutoML_20210706_121036_model_20    </td><td style=\"text-align: right;\">                 1.64588</td><td style=\"text-align: right;\">1.28292</td><td style=\"text-align: right;\"> 1.64588</td><td style=\"text-align: right;\">0.862562</td><td style=\"text-align: right;\">  0.0969496</td></tr>\n",
       "<tr><td>XGBoost_grid__1_AutoML_20210706_121036_model_28    </td><td style=\"text-align: right;\">                 1.64602</td><td style=\"text-align: right;\">1.28297</td><td style=\"text-align: right;\"> 1.64602</td><td style=\"text-align: right;\">0.872229</td><td style=\"text-align: right;\">  0.101181 </td></tr>\n",
       "<tr><td>XGBoost_grid__1_AutoML_20210706_121036_model_18    </td><td style=\"text-align: right;\">                 1.64647</td><td style=\"text-align: right;\">1.28315</td><td style=\"text-align: right;\"> 1.64647</td><td style=\"text-align: right;\">0.855666</td><td style=\"text-align: right;\">  0.0967282</td></tr>\n",
       "<tr><td>XGBoost_grid__1_AutoML_20210706_121036_model_46    </td><td style=\"text-align: right;\">                 1.64731</td><td style=\"text-align: right;\">1.28348</td><td style=\"text-align: right;\"> 1.64731</td><td style=\"text-align: right;\">0.861085</td><td style=\"text-align: right;\">  0.105636 </td></tr>\n",
       "<tr><td>XGBoost_grid__1_AutoML_20210706_121036_model_19    </td><td style=\"text-align: right;\">                 1.64892</td><td style=\"text-align: right;\">1.2841 </td><td style=\"text-align: right;\"> 1.64892</td><td style=\"text-align: right;\">0.862496</td><td style=\"text-align: right;\">  0.0970858</td></tr>\n",
       "<tr><td>XGBoost_grid__1_AutoML_20210706_121036_model_27    </td><td style=\"text-align: right;\">                 1.65281</td><td style=\"text-align: right;\">1.28562</td><td style=\"text-align: right;\"> 1.65281</td><td style=\"text-align: right;\">0.875095</td><td style=\"text-align: right;\">  0.0991003</td></tr>\n",
       "<tr><td>XGBoost_2_AutoML_20210706_121036                   </td><td style=\"text-align: right;\">                 1.66395</td><td style=\"text-align: right;\">1.28994</td><td style=\"text-align: right;\"> 1.66395</td><td style=\"text-align: right;\">0.867957</td><td style=\"text-align: right;\">  0.0996572</td></tr>\n",
       "<tr><td>GBM_5_AutoML_20210706_121036                       </td><td style=\"text-align: right;\">                 1.66495</td><td style=\"text-align: right;\">1.29033</td><td style=\"text-align: right;\"> 1.66495</td><td style=\"text-align: right;\">0.827552</td><td style=\"text-align: right;\">  0.0920304</td></tr>\n",
       "<tr><td>XGBoost_grid__1_AutoML_20210706_121036_model_33    </td><td style=\"text-align: right;\">                 1.66953</td><td style=\"text-align: right;\">1.2921 </td><td style=\"text-align: right;\"> 1.66953</td><td style=\"text-align: right;\">0.858604</td><td style=\"text-align: right;\">  0.0988949</td></tr>\n",
       "<tr><td>XGBoost_grid__1_AutoML_20210706_121036_model_50    </td><td style=\"text-align: right;\">                 1.69239</td><td style=\"text-align: right;\">1.30092</td><td style=\"text-align: right;\"> 1.69239</td><td style=\"text-align: right;\">0.882981</td><td style=\"text-align: right;\">  0.0995556</td></tr>\n",
       "<tr><td>XGBoost_grid__1_AutoML_20210706_121036_model_37    </td><td style=\"text-align: right;\">                 1.70826</td><td style=\"text-align: right;\">1.30701</td><td style=\"text-align: right;\"> 1.70826</td><td style=\"text-align: right;\">0.881664</td><td style=\"text-align: right;\">  0.102988 </td></tr>\n",
       "<tr><td>XGBoost_grid__1_AutoML_20210706_121036_model_14    </td><td style=\"text-align: right;\">                 1.70931</td><td style=\"text-align: right;\">1.30741</td><td style=\"text-align: right;\"> 1.70931</td><td style=\"text-align: right;\">0.858515</td><td style=\"text-align: right;\">  0.0976238</td></tr>\n",
       "<tr><td>GBM_grid__1_AutoML_20210706_121036_model_4         </td><td style=\"text-align: right;\">                 1.71049</td><td style=\"text-align: right;\">1.30786</td><td style=\"text-align: right;\"> 1.71049</td><td style=\"text-align: right;\">0.891733</td><td style=\"text-align: right;\">  0.118682 </td></tr>\n",
       "<tr><td>XGBoost_grid__1_AutoML_20210706_121036_model_17    </td><td style=\"text-align: right;\">                 1.71312</td><td style=\"text-align: right;\">1.30886</td><td style=\"text-align: right;\"> 1.71312</td><td style=\"text-align: right;\">0.871658</td><td style=\"text-align: right;\">  0.0978933</td></tr>\n",
       "<tr><td>XGBoost_grid__1_AutoML_20210706_121036_model_24    </td><td style=\"text-align: right;\">                 1.7228 </td><td style=\"text-align: right;\">1.31256</td><td style=\"text-align: right;\"> 1.7228 </td><td style=\"text-align: right;\">0.885918</td><td style=\"text-align: right;\">  0.101949 </td></tr>\n",
       "<tr><td>GBM_grid__1_AutoML_20210706_121036_model_16        </td><td style=\"text-align: right;\">                 1.74048</td><td style=\"text-align: right;\">1.31927</td><td style=\"text-align: right;\"> 1.74048</td><td style=\"text-align: right;\">0.837181</td><td style=\"text-align: right;\">  0.0986024</td></tr>\n",
       "<tr><td>XGBoost_grid__1_AutoML_20210706_121036_model_2     </td><td style=\"text-align: right;\">                 1.742  </td><td style=\"text-align: right;\">1.31985</td><td style=\"text-align: right;\"> 1.742  </td><td style=\"text-align: right;\">0.900927</td><td style=\"text-align: right;\">  0.102566 </td></tr>\n",
       "<tr><td>XGBoost_grid__1_AutoML_20210706_121036_model_31    </td><td style=\"text-align: right;\">                 1.75392</td><td style=\"text-align: right;\">1.32436</td><td style=\"text-align: right;\"> 1.75392</td><td style=\"text-align: right;\">0.89652 </td><td style=\"text-align: right;\">  0.104053 </td></tr>\n",
       "<tr><td>GBM_grid__1_AutoML_20210706_121036_model_13        </td><td style=\"text-align: right;\">                 1.75916</td><td style=\"text-align: right;\">1.32633</td><td style=\"text-align: right;\"> 1.75916</td><td style=\"text-align: right;\">0.874518</td><td style=\"text-align: right;\">  0.103481 </td></tr>\n",
       "<tr><td>XGBoost_grid__1_AutoML_20210706_121036_model_26    </td><td style=\"text-align: right;\">                 1.7617 </td><td style=\"text-align: right;\">1.32729</td><td style=\"text-align: right;\"> 1.7617 </td><td style=\"text-align: right;\">0.870672</td><td style=\"text-align: right;\">  0.100365 </td></tr>\n",
       "<tr><td>XGBoost_grid__1_AutoML_20210706_121036_model_39    </td><td style=\"text-align: right;\">                 1.7825 </td><td style=\"text-align: right;\">1.3351 </td><td style=\"text-align: right;\"> 1.7825 </td><td style=\"text-align: right;\">0.899185</td><td style=\"text-align: right;\">  0.108757 </td></tr>\n",
       "<tr><td>XGBoost_grid__1_AutoML_20210706_121036_model_15    </td><td style=\"text-align: right;\">                 1.79742</td><td style=\"text-align: right;\">1.34068</td><td style=\"text-align: right;\"> 1.79742</td><td style=\"text-align: right;\">0.899289</td><td style=\"text-align: right;\">  0.106483 </td></tr>\n",
       "<tr><td>DeepLearning_1_AutoML_20210706_121036              </td><td style=\"text-align: right;\">                 1.86389</td><td style=\"text-align: right;\">1.36524</td><td style=\"text-align: right;\"> 1.86389</td><td style=\"text-align: right;\">0.95189 </td><td style=\"text-align: right;\">  0.147659 </td></tr>\n",
       "<tr><td>XGBoost_grid__1_AutoML_20210706_121036_model_8     </td><td style=\"text-align: right;\">                 1.86972</td><td style=\"text-align: right;\">1.36738</td><td style=\"text-align: right;\"> 1.86972</td><td style=\"text-align: right;\">0.937018</td><td style=\"text-align: right;\">  0.108824 </td></tr>\n",
       "<tr><td>XGBoost_grid__1_AutoML_20210706_121036_model_34    </td><td style=\"text-align: right;\">                 1.87001</td><td style=\"text-align: right;\">1.36748</td><td style=\"text-align: right;\"> 1.87001</td><td style=\"text-align: right;\">0.911938</td><td style=\"text-align: right;\">  0.106187 </td></tr>\n",
       "<tr><td>XGBoost_grid__1_AutoML_20210706_121036_model_12    </td><td style=\"text-align: right;\">                 1.87682</td><td style=\"text-align: right;\">1.36997</td><td style=\"text-align: right;\"> 1.87682</td><td style=\"text-align: right;\">0.92421 </td><td style=\"text-align: right;\">  0.107036 </td></tr>\n",
       "<tr><td>DeepLearning_grid__1_AutoML_20210706_121036_model_1</td><td style=\"text-align: right;\">                 2.21876</td><td style=\"text-align: right;\">1.48955</td><td style=\"text-align: right;\"> 2.21876</td><td style=\"text-align: right;\">1.081   </td><td style=\"text-align: right;\">nan        </td></tr>\n",
       "<tr><td>DeepLearning_grid__1_AutoML_20210706_121036_model_5</td><td style=\"text-align: right;\">                 2.26796</td><td style=\"text-align: right;\">1.50598</td><td style=\"text-align: right;\"> 2.26796</td><td style=\"text-align: right;\">1.04465 </td><td style=\"text-align: right;\">nan        </td></tr>\n",
       "<tr><td>DeepLearning_grid__1_AutoML_20210706_121036_model_3</td><td style=\"text-align: right;\">                 2.46648</td><td style=\"text-align: right;\">1.5705 </td><td style=\"text-align: right;\"> 2.46648</td><td style=\"text-align: right;\">1.04141 </td><td style=\"text-align: right;\">nan        </td></tr>\n",
       "<tr><td>DeepLearning_grid__1_AutoML_20210706_121036_model_2</td><td style=\"text-align: right;\">                 2.54574</td><td style=\"text-align: right;\">1.59554</td><td style=\"text-align: right;\"> 2.54574</td><td style=\"text-align: right;\">1.07453 </td><td style=\"text-align: right;\">nan        </td></tr>\n",
       "<tr><td>DeepLearning_grid__2_AutoML_20210706_121036_model_4</td><td style=\"text-align: right;\">                 2.63373</td><td style=\"text-align: right;\">1.62288</td><td style=\"text-align: right;\"> 2.63373</td><td style=\"text-align: right;\">1.04365 </td><td style=\"text-align: right;\">  0.147536 </td></tr>\n",
       "<tr><td>GLM_1_AutoML_20210706_121036                       </td><td style=\"text-align: right;\">                 2.96174</td><td style=\"text-align: right;\">1.72097</td><td style=\"text-align: right;\"> 2.96174</td><td style=\"text-align: right;\">1.25963 </td><td style=\"text-align: right;\">nan        </td></tr>\n",
       "<tr><td>DeepLearning_grid__1_AutoML_20210706_121036_model_4</td><td style=\"text-align: right;\">                 2.97995</td><td style=\"text-align: right;\">1.72625</td><td style=\"text-align: right;\"> 2.97995</td><td style=\"text-align: right;\">1.0752  </td><td style=\"text-align: right;\">nan        </td></tr>\n",
       "<tr><td>DeepLearning_grid__3_AutoML_20210706_121036_model_4</td><td style=\"text-align: right;\">                 3.16913</td><td style=\"text-align: right;\">1.78021</td><td style=\"text-align: right;\"> 3.16913</td><td style=\"text-align: right;\">1.20591 </td><td style=\"text-align: right;\">nan        </td></tr>\n",
       "<tr><td>DeepLearning_grid__3_AutoML_20210706_121036_model_3</td><td style=\"text-align: right;\">                 4.20678</td><td style=\"text-align: right;\">2.05104</td><td style=\"text-align: right;\"> 4.20678</td><td style=\"text-align: right;\">1.43634 </td><td style=\"text-align: right;\">nan        </td></tr>\n",
       "<tr><td>DeepLearning_grid__3_AutoML_20210706_121036_model_1</td><td style=\"text-align: right;\">                 4.34615</td><td style=\"text-align: right;\">2.08474</td><td style=\"text-align: right;\"> 4.34615</td><td style=\"text-align: right;\">1.5134  </td><td style=\"text-align: right;\">  0.299564 </td></tr>\n",
       "<tr><td>DeepLearning_grid__2_AutoML_20210706_121036_model_2</td><td style=\"text-align: right;\">                 5.64724</td><td style=\"text-align: right;\">2.37639</td><td style=\"text-align: right;\"> 5.64724</td><td style=\"text-align: right;\">1.94905 </td><td style=\"text-align: right;\">  0.415794 </td></tr>\n",
       "<tr><td>DeepLearning_grid__2_AutoML_20210706_121036_model_1</td><td style=\"text-align: right;\">                 5.95695</td><td style=\"text-align: right;\">2.44069</td><td style=\"text-align: right;\"> 5.95695</td><td style=\"text-align: right;\">1.95339 </td><td style=\"text-align: right;\">  0.39882  </td></tr>\n",
       "<tr><td>DeepLearning_grid__3_AutoML_20210706_121036_model_5</td><td style=\"text-align: right;\">                 8.78924</td><td style=\"text-align: right;\">2.96467</td><td style=\"text-align: right;\"> 8.78924</td><td style=\"text-align: right;\">2.42958 </td><td style=\"text-align: right;\">  0.471246 </td></tr>\n",
       "<tr><td>DeepLearning_grid__2_AutoML_20210706_121036_model_3</td><td style=\"text-align: right;\">                23.1615 </td><td style=\"text-align: right;\">4.81264</td><td style=\"text-align: right;\">23.1615 </td><td style=\"text-align: right;\">3.96377 </td><td style=\"text-align: right;\">  0.532758 </td></tr>\n",
       "<tr><td>DeepLearning_grid__3_AutoML_20210706_121036_model_2</td><td style=\"text-align: right;\">                70.4393 </td><td style=\"text-align: right;\">8.39281</td><td style=\"text-align: right;\">70.4393 </td><td style=\"text-align: right;\">7.48186 </td><td style=\"text-align: right;\">  0.955711 </td></tr>\n",
       "</tbody>\n",
       "</table>"
      ]
     },
     "metadata": {},
     "output_type": "display_data"
    },
    {
     "data": {
      "text/plain": []
     },
     "execution_count": 9,
     "metadata": {},
     "output_type": "execute_result"
    }
   ],
   "source": [
    "# View the AutoML Leaderboard\n",
    "lb = aml.leaderboard\n",
    "lb.head(rows=lb.nrows)  # Print all rows instead of default (10 rows)"
   ]
  },
  {
   "cell_type": "code",
   "execution_count": 10,
   "metadata": {},
   "outputs": [
    {
     "name": "stdout",
     "output_type": "stream",
     "text": [
      "Model Details\n",
      "=============\n",
      "H2OStackedEnsembleEstimator :  Stacked Ensemble\n",
      "Model Key:  StackedEnsemble_AllModels_AutoML_20210706_121036\n",
      "\n",
      "No model summary for this model\n",
      "\n",
      "ModelMetricsRegressionGLM: stackedensemble\n",
      "** Reported on train data. **\n",
      "\n",
      "MSE: 0.6663768024332314\n",
      "RMSE: 0.8163190567622634\n",
      "MAE: 0.5909431935709643\n",
      "RMSLE: 0.0723768025476524\n",
      "R^2: 0.9887428481573879\n",
      "Mean Residual Deviance: 0.6663768024332314\n",
      "Null degrees of freedom: 7110\n",
      "Residual degrees of freedom: 7094\n",
      "Null deviance: 420941.77180461504\n",
      "Residual deviance: 4738.605442102708\n",
      "AIC: 17329.788926279176\n",
      "\n",
      "ModelMetricsRegressionGLM: stackedensemble\n",
      "** Reported on cross-validation data. **\n",
      "\n",
      "MSE: 1.327998246019049\n",
      "RMSE: 1.1523880622511884\n",
      "MAE: 0.7788975275409336\n",
      "RMSLE: 0.08856651447098952\n",
      "R^2: 0.9775660289380245\n",
      "Mean Residual Deviance: 1.327998246019049\n",
      "Null degrees of freedom: 7110\n",
      "Residual degrees of freedom: 7094\n",
      "Null deviance: 421008.0039953752\n",
      "Residual deviance: 9443.395527441457\n",
      "AIC: 22233.34060429051\n"
     ]
    },
    {
     "data": {
      "text/plain": []
     },
     "execution_count": 10,
     "metadata": {},
     "output_type": "execute_result"
    }
   ],
   "source": [
    "# The leader model is stored here\n",
    "aml.leader"
   ]
  },
  {
   "cell_type": "code",
   "execution_count": 11,
   "metadata": {},
   "outputs": [
    {
     "name": "stdout",
     "output_type": "stream",
     "text": [
      "stackedensemble prediction progress: |████████████████████████████████████| 100%\n"
     ]
    }
   ],
   "source": [
    "# If you need to generate predictions on a test set, you can make\n",
    "# predictions directly on the `\"H2OAutoML\"` object, or on the leader\n",
    "# model object directly\n",
    "\n",
    "preds = aml.predict(test)"
   ]
  },
  {
   "cell_type": "code",
   "execution_count": 12,
   "metadata": {},
   "outputs": [],
   "source": [
    "sample_submission = pd.read_csv('../input/sample_submission.csv')\n",
    "sample_submission[y] = preds.as_data_frame().values.flatten()\n",
    "sample_submission.to_csv(f'../submissions/h2o_submission_{y}_1.csv', index=False)"
   ]
  },
  {
   "cell_type": "code",
   "execution_count": null,
   "metadata": {},
   "outputs": [],
   "source": []
  }
 ],
 "metadata": {
  "kernelspec": {
   "display_name": "Python 3",
   "language": "python",
   "name": "python3"
  },
  "language_info": {
   "codemirror_mode": {
    "name": "ipython",
    "version": 3
   },
   "file_extension": ".py",
   "mimetype": "text/x-python",
   "name": "python",
   "nbconvert_exporter": "python",
   "pygments_lexer": "ipython3",
   "version": "3.6.9"
  }
 },
 "nbformat": 4,
 "nbformat_minor": 2
}
