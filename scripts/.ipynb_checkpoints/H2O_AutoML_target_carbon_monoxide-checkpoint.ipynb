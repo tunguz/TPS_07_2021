{
 "cells": [
  {
   "cell_type": "code",
   "execution_count": 18,
   "metadata": {},
   "outputs": [],
   "source": [
    "import h2o\n",
    "import pandas as pd"
   ]
  },
  {
   "cell_type": "code",
   "execution_count": 2,
   "metadata": {},
   "outputs": [
    {
     "name": "stdout",
     "output_type": "stream",
     "text": [
      "Checking whether there is an H2O instance running at http://localhost:54321 ..... not found.\n",
      "Attempting to start a local H2O server...\n",
      "  Java Version: openjdk version \"11.0.11\" 2021-04-20; OpenJDK Runtime Environment (build 11.0.11+9-Ubuntu-0ubuntu2.18.04); OpenJDK 64-Bit Server VM (build 11.0.11+9-Ubuntu-0ubuntu2.18.04, mixed mode, sharing)\n",
      "  Starting server from /home/tunguz/.local/lib/python3.6/site-packages/h2o/backend/bin/h2o.jar\n",
      "  Ice root: /tmp/tmpacxzsren\n",
      "  JVM stdout: /tmp/tmpacxzsren/h2o_tunguz_started_from_python.out\n",
      "  JVM stderr: /tmp/tmpacxzsren/h2o_tunguz_started_from_python.err\n",
      "  Server is running at http://127.0.0.1:54321\n",
      "Connecting to H2O server at http://127.0.0.1:54321 ... successful.\n"
     ]
    },
    {
     "data": {
      "text/html": [
       "<div style=\"overflow:auto\"><table style=\"width:50%\"><tr><td>H2O_cluster_uptime:</td>\n",
       "<td>01 secs</td></tr>\n",
       "<tr><td>H2O_cluster_timezone:</td>\n",
       "<td>America/Los_Angeles</td></tr>\n",
       "<tr><td>H2O_data_parsing_timezone:</td>\n",
       "<td>UTC</td></tr>\n",
       "<tr><td>H2O_cluster_version:</td>\n",
       "<td>3.32.1.3</td></tr>\n",
       "<tr><td>H2O_cluster_version_age:</td>\n",
       "<td>1 month and 15 days </td></tr>\n",
       "<tr><td>H2O_cluster_name:</td>\n",
       "<td>H2O_from_python_tunguz_690x8g</td></tr>\n",
       "<tr><td>H2O_cluster_total_nodes:</td>\n",
       "<td>1</td></tr>\n",
       "<tr><td>H2O_cluster_free_memory:</td>\n",
       "<td>30 Gb</td></tr>\n",
       "<tr><td>H2O_cluster_total_cores:</td>\n",
       "<td>8</td></tr>\n",
       "<tr><td>H2O_cluster_allowed_cores:</td>\n",
       "<td>8</td></tr>\n",
       "<tr><td>H2O_cluster_status:</td>\n",
       "<td>accepting new members, healthy</td></tr>\n",
       "<tr><td>H2O_connection_url:</td>\n",
       "<td>http://127.0.0.1:54321</td></tr>\n",
       "<tr><td>H2O_connection_proxy:</td>\n",
       "<td>{\"http\": null, \"https\": null}</td></tr>\n",
       "<tr><td>H2O_internal_security:</td>\n",
       "<td>False</td></tr>\n",
       "<tr><td>H2O_API_Extensions:</td>\n",
       "<td>Amazon S3, XGBoost, Algos, AutoML, Core V3, TargetEncoder, Core V4</td></tr>\n",
       "<tr><td>Python_version:</td>\n",
       "<td>3.6.9 final</td></tr></table></div>"
      ],
      "text/plain": [
       "--------------------------  ------------------------------------------------------------------\n",
       "H2O_cluster_uptime:         01 secs\n",
       "H2O_cluster_timezone:       America/Los_Angeles\n",
       "H2O_data_parsing_timezone:  UTC\n",
       "H2O_cluster_version:        3.32.1.3\n",
       "H2O_cluster_version_age:    1 month and 15 days\n",
       "H2O_cluster_name:           H2O_from_python_tunguz_690x8g\n",
       "H2O_cluster_total_nodes:    1\n",
       "H2O_cluster_free_memory:    30 Gb\n",
       "H2O_cluster_total_cores:    8\n",
       "H2O_cluster_allowed_cores:  8\n",
       "H2O_cluster_status:         accepting new members, healthy\n",
       "H2O_connection_url:         http://127.0.0.1:54321\n",
       "H2O_connection_proxy:       {\"http\": null, \"https\": null}\n",
       "H2O_internal_security:      False\n",
       "H2O_API_Extensions:         Amazon S3, XGBoost, Algos, AutoML, Core V3, TargetEncoder, Core V4\n",
       "Python_version:             3.6.9 final\n",
       "--------------------------  ------------------------------------------------------------------"
      ]
     },
     "metadata": {},
     "output_type": "display_data"
    }
   ],
   "source": [
    "from h2o.automl import H2OAutoML\n",
    "\n",
    "h2o.init(max_mem_size='30G')"
   ]
  },
  {
   "cell_type": "code",
   "execution_count": 8,
   "metadata": {},
   "outputs": [
    {
     "name": "stdout",
     "output_type": "stream",
     "text": [
      "Parse progress: |█████████████████████████████████████████████████████████| 100%\n",
      "Parse progress: |█████████████████████████████████████████████████████████| 100%\n"
     ]
    }
   ],
   "source": [
    "train = h2o.import_file(\"../input/train.csv\")\n",
    "test = h2o.import_file(\"../input/test.csv\")"
   ]
  },
  {
   "cell_type": "code",
   "execution_count": 11,
   "metadata": {},
   "outputs": [
    {
     "data": {
      "text/html": [
       "<table>\n",
       "<thead>\n",
       "<tr><th>date_time          </th><th style=\"text-align: right;\">  deg_C</th><th style=\"text-align: right;\">  relative_humidity</th><th style=\"text-align: right;\">  absolute_humidity</th><th style=\"text-align: right;\">  sensor_1</th><th style=\"text-align: right;\">  sensor_2</th><th style=\"text-align: right;\">  sensor_3</th><th style=\"text-align: right;\">  sensor_4</th><th style=\"text-align: right;\">  sensor_5</th><th style=\"text-align: right;\">  target_carbon_monoxide</th><th style=\"text-align: right;\">  target_benzene</th><th style=\"text-align: right;\">  target_nitrogen_oxides</th></tr>\n",
       "</thead>\n",
       "<tbody>\n",
       "<tr><td>2010-03-10 18:00:00</td><td style=\"text-align: right;\">   13.1</td><td style=\"text-align: right;\">               46  </td><td style=\"text-align: right;\">             0.7578</td><td style=\"text-align: right;\">    1387.2</td><td style=\"text-align: right;\">    1087.8</td><td style=\"text-align: right;\">    1056  </td><td style=\"text-align: right;\">    1742.8</td><td style=\"text-align: right;\">    1293.4</td><td style=\"text-align: right;\">                     2.5</td><td style=\"text-align: right;\">            12  </td><td style=\"text-align: right;\">                   167.7</td></tr>\n",
       "<tr><td>2010-03-10 19:00:00</td><td style=\"text-align: right;\">   13.2</td><td style=\"text-align: right;\">               45.3</td><td style=\"text-align: right;\">             0.7255</td><td style=\"text-align: right;\">    1279.1</td><td style=\"text-align: right;\">     888.2</td><td style=\"text-align: right;\">    1197.5</td><td style=\"text-align: right;\">    1449.9</td><td style=\"text-align: right;\">    1010.9</td><td style=\"text-align: right;\">                     2.1</td><td style=\"text-align: right;\">             9.9</td><td style=\"text-align: right;\">                    98.9</td></tr>\n",
       "<tr><td>2010-03-10 20:00:00</td><td style=\"text-align: right;\">   12.6</td><td style=\"text-align: right;\">               56.2</td><td style=\"text-align: right;\">             0.7502</td><td style=\"text-align: right;\">    1331.9</td><td style=\"text-align: right;\">     929.6</td><td style=\"text-align: right;\">    1060.2</td><td style=\"text-align: right;\">    1586.1</td><td style=\"text-align: right;\">    1117  </td><td style=\"text-align: right;\">                     2.2</td><td style=\"text-align: right;\">             9.2</td><td style=\"text-align: right;\">                   127.1</td></tr>\n",
       "<tr><td>2010-03-10 21:00:00</td><td style=\"text-align: right;\">   11  </td><td style=\"text-align: right;\">               62.4</td><td style=\"text-align: right;\">             0.7867</td><td style=\"text-align: right;\">    1321  </td><td style=\"text-align: right;\">     929  </td><td style=\"text-align: right;\">    1102.9</td><td style=\"text-align: right;\">    1536.5</td><td style=\"text-align: right;\">    1263.2</td><td style=\"text-align: right;\">                     2.2</td><td style=\"text-align: right;\">             9.7</td><td style=\"text-align: right;\">                   177.2</td></tr>\n",
       "<tr><td>2010-03-10 22:00:00</td><td style=\"text-align: right;\">   11.9</td><td style=\"text-align: right;\">               59  </td><td style=\"text-align: right;\">             0.7888</td><td style=\"text-align: right;\">    1272  </td><td style=\"text-align: right;\">     852.7</td><td style=\"text-align: right;\">    1180.9</td><td style=\"text-align: right;\">    1415.5</td><td style=\"text-align: right;\">    1132.2</td><td style=\"text-align: right;\">                     1.5</td><td style=\"text-align: right;\">             6.4</td><td style=\"text-align: right;\">                   121.8</td></tr>\n",
       "<tr><td>2010-03-10 23:00:00</td><td style=\"text-align: right;\">   11.2</td><td style=\"text-align: right;\">               56.8</td><td style=\"text-align: right;\">             0.7848</td><td style=\"text-align: right;\">    1220.9</td><td style=\"text-align: right;\">     697.5</td><td style=\"text-align: right;\">    1417.2</td><td style=\"text-align: right;\">    1462.6</td><td style=\"text-align: right;\">     949  </td><td style=\"text-align: right;\">                     1.2</td><td style=\"text-align: right;\">             4.4</td><td style=\"text-align: right;\">                    88.1</td></tr>\n",
       "<tr><td>2010-03-11 00:00:00</td><td style=\"text-align: right;\">   10.7</td><td style=\"text-align: right;\">               55.7</td><td style=\"text-align: right;\">             0.7603</td><td style=\"text-align: right;\">    1244.2</td><td style=\"text-align: right;\">     669.3</td><td style=\"text-align: right;\">    1491.2</td><td style=\"text-align: right;\">    1413  </td><td style=\"text-align: right;\">     769.6</td><td style=\"text-align: right;\">                     1.2</td><td style=\"text-align: right;\">             3.7</td><td style=\"text-align: right;\">                    59.5</td></tr>\n",
       "<tr><td>2010-03-11 01:00:00</td><td style=\"text-align: right;\">   10.3</td><td style=\"text-align: right;\">               57  </td><td style=\"text-align: right;\">             0.7702</td><td style=\"text-align: right;\">    1181.4</td><td style=\"text-align: right;\">     631.7</td><td style=\"text-align: right;\">    1511.1</td><td style=\"text-align: right;\">    1359.7</td><td style=\"text-align: right;\">     715.4</td><td style=\"text-align: right;\">                     1  </td><td style=\"text-align: right;\">             3.4</td><td style=\"text-align: right;\">                    63.9</td></tr>\n",
       "<tr><td>2010-03-11 02:00:00</td><td style=\"text-align: right;\">   10.1</td><td style=\"text-align: right;\">               62.7</td><td style=\"text-align: right;\">             0.7648</td><td style=\"text-align: right;\">    1159.6</td><td style=\"text-align: right;\">     602.9</td><td style=\"text-align: right;\">    1610.6</td><td style=\"text-align: right;\">    1212.2</td><td style=\"text-align: right;\">     657.2</td><td style=\"text-align: right;\">                     0.9</td><td style=\"text-align: right;\">             2.2</td><td style=\"text-align: right;\">                    46.4</td></tr>\n",
       "<tr><td>2010-03-11 03:00:00</td><td style=\"text-align: right;\">   10.5</td><td style=\"text-align: right;\">               59.6</td><td style=\"text-align: right;\">             0.7517</td><td style=\"text-align: right;\">    1030.2</td><td style=\"text-align: right;\">     521.7</td><td style=\"text-align: right;\">    1790.2</td><td style=\"text-align: right;\">    1148.6</td><td style=\"text-align: right;\">     491  </td><td style=\"text-align: right;\">                     0.6</td><td style=\"text-align: right;\">             1.6</td><td style=\"text-align: right;\">                    43  </td></tr>\n",
       "</tbody>\n",
       "</table>"
      ]
     },
     "metadata": {},
     "output_type": "display_data"
    },
    {
     "data": {
      "text/plain": []
     },
     "execution_count": 11,
     "metadata": {},
     "output_type": "execute_result"
    }
   ],
   "source": [
    "train.head()"
   ]
  },
  {
   "cell_type": "code",
   "execution_count": 10,
   "metadata": {},
   "outputs": [
    {
     "data": {
      "text/html": [
       "<table>\n",
       "<thead>\n",
       "<tr><th>date_time          </th><th style=\"text-align: right;\">  deg_C</th><th style=\"text-align: right;\">  relative_humidity</th><th style=\"text-align: right;\">  absolute_humidity</th><th style=\"text-align: right;\">  sensor_1</th><th style=\"text-align: right;\">  sensor_2</th><th style=\"text-align: right;\">  sensor_3</th><th style=\"text-align: right;\">  sensor_4</th><th style=\"text-align: right;\">  sensor_5</th></tr>\n",
       "</thead>\n",
       "<tbody>\n",
       "<tr><td>2011-01-01 00:00:00</td><td style=\"text-align: right;\">    8  </td><td style=\"text-align: right;\">               41.3</td><td style=\"text-align: right;\">             0.4375</td><td style=\"text-align: right;\">    1108.8</td><td style=\"text-align: right;\">     745.7</td><td style=\"text-align: right;\">     797.1</td><td style=\"text-align: right;\">     880  </td><td style=\"text-align: right;\">    1273.1</td></tr>\n",
       "<tr><td>2011-01-01 01:00:00</td><td style=\"text-align: right;\">    5.1</td><td style=\"text-align: right;\">               51.7</td><td style=\"text-align: right;\">             0.4564</td><td style=\"text-align: right;\">    1249.5</td><td style=\"text-align: right;\">     864.9</td><td style=\"text-align: right;\">     687.9</td><td style=\"text-align: right;\">     972.8</td><td style=\"text-align: right;\">    1714  </td></tr>\n",
       "<tr><td>2011-01-01 02:00:00</td><td style=\"text-align: right;\">    5.8</td><td style=\"text-align: right;\">               51.5</td><td style=\"text-align: right;\">             0.4689</td><td style=\"text-align: right;\">    1102.6</td><td style=\"text-align: right;\">     878  </td><td style=\"text-align: right;\">     693.7</td><td style=\"text-align: right;\">     941.9</td><td style=\"text-align: right;\">    1300.8</td></tr>\n",
       "<tr><td>2011-01-01 03:00:00</td><td style=\"text-align: right;\">    5  </td><td style=\"text-align: right;\">               52.3</td><td style=\"text-align: right;\">             0.4693</td><td style=\"text-align: right;\">    1139.7</td><td style=\"text-align: right;\">     916.2</td><td style=\"text-align: right;\">     725.6</td><td style=\"text-align: right;\">    1011  </td><td style=\"text-align: right;\">    1283  </td></tr>\n",
       "<tr><td>2011-01-01 04:00:00</td><td style=\"text-align: right;\">    4.5</td><td style=\"text-align: right;\">               57.5</td><td style=\"text-align: right;\">             0.465 </td><td style=\"text-align: right;\">    1022.4</td><td style=\"text-align: right;\">     838.5</td><td style=\"text-align: right;\">     871.5</td><td style=\"text-align: right;\">     967  </td><td style=\"text-align: right;\">    1142.3</td></tr>\n",
       "<tr><td>2011-01-01 05:00:00</td><td style=\"text-align: right;\">    4.5</td><td style=\"text-align: right;\">               53.7</td><td style=\"text-align: right;\">             0.4759</td><td style=\"text-align: right;\">    1004  </td><td style=\"text-align: right;\">     745.5</td><td style=\"text-align: right;\">     914.2</td><td style=\"text-align: right;\">     989.1</td><td style=\"text-align: right;\">     973.8</td></tr>\n",
       "<tr><td>2011-01-01 06:00:00</td><td style=\"text-align: right;\">    3.3</td><td style=\"text-align: right;\">               54.8</td><td style=\"text-align: right;\">             0.4636</td><td style=\"text-align: right;\">     940.9</td><td style=\"text-align: right;\">     738.2</td><td style=\"text-align: right;\">     816  </td><td style=\"text-align: right;\">     896.8</td><td style=\"text-align: right;\">    1049.4</td></tr>\n",
       "<tr><td>2011-01-01 07:00:00</td><td style=\"text-align: right;\">    3.2</td><td style=\"text-align: right;\">               60.7</td><td style=\"text-align: right;\">             0.4667</td><td style=\"text-align: right;\">     954.5</td><td style=\"text-align: right;\">     713.9</td><td style=\"text-align: right;\">     834.7</td><td style=\"text-align: right;\">     935.6</td><td style=\"text-align: right;\">     956.3</td></tr>\n",
       "<tr><td>2011-01-01 08:00:00</td><td style=\"text-align: right;\">    2.5</td><td style=\"text-align: right;\">               65.7</td><td style=\"text-align: right;\">             0.4721</td><td style=\"text-align: right;\">     969.9</td><td style=\"text-align: right;\">     679.1</td><td style=\"text-align: right;\">     943.8</td><td style=\"text-align: right;\">     959.3</td><td style=\"text-align: right;\">     892  </td></tr>\n",
       "<tr><td>2011-01-01 09:00:00</td><td style=\"text-align: right;\">    3.9</td><td style=\"text-align: right;\">               57.8</td><td style=\"text-align: right;\">             0.4807</td><td style=\"text-align: right;\">     976.6</td><td style=\"text-align: right;\">     655.5</td><td style=\"text-align: right;\">     996  </td><td style=\"text-align: right;\">     906  </td><td style=\"text-align: right;\">     817.5</td></tr>\n",
       "</tbody>\n",
       "</table>"
      ]
     },
     "metadata": {},
     "output_type": "display_data"
    },
    {
     "data": {
      "text/plain": []
     },
     "execution_count": 10,
     "metadata": {},
     "output_type": "execute_result"
    }
   ],
   "source": [
    "test.head()"
   ]
  },
  {
   "cell_type": "code",
   "execution_count": 12,
   "metadata": {},
   "outputs": [],
   "source": [
    "x = test.columns[1:]\n",
    "y = 'target_carbon_monoxide'"
   ]
  },
  {
   "cell_type": "code",
   "execution_count": 13,
   "metadata": {},
   "outputs": [
    {
     "name": "stdout",
     "output_type": "stream",
     "text": [
      "AutoML progress: |████████████████████████████████████████████████████████| 100%\n"
     ]
    }
   ],
   "source": [
    "# Run AutoML for 20 base models (limited to 1 hour max runtime by default)\n",
    "aml = H2OAutoML(max_models=180, seed=47, max_runtime_secs=120)\n",
    "aml.train(x=x, y=y, training_frame=train)"
   ]
  },
  {
   "cell_type": "code",
   "execution_count": 14,
   "metadata": {},
   "outputs": [
    {
     "data": {
      "text/html": [
       "<table>\n",
       "<thead>\n",
       "<tr><th>model_id                                           </th><th style=\"text-align: right;\">  mean_residual_deviance</th><th style=\"text-align: right;\">    rmse</th><th style=\"text-align: right;\">     mse</th><th style=\"text-align: right;\">     mae</th><th style=\"text-align: right;\">   rmsle</th></tr>\n",
       "</thead>\n",
       "<tbody>\n",
       "<tr><td>StackedEnsemble_AllModels_AutoML_20210705_161820   </td><td style=\"text-align: right;\">                0.202272</td><td style=\"text-align: right;\">0.449746</td><td style=\"text-align: right;\">0.202272</td><td style=\"text-align: right;\">0.277934</td><td style=\"text-align: right;\">0.125179</td></tr>\n",
       "<tr><td>StackedEnsemble_BestOfFamily_AutoML_20210705_161820</td><td style=\"text-align: right;\">                0.204568</td><td style=\"text-align: right;\">0.452292</td><td style=\"text-align: right;\">0.204568</td><td style=\"text-align: right;\">0.280175</td><td style=\"text-align: right;\">0.126056</td></tr>\n",
       "<tr><td>GBM_grid__1_AutoML_20210705_161820_model_7         </td><td style=\"text-align: right;\">                0.212107</td><td style=\"text-align: right;\">0.460551</td><td style=\"text-align: right;\">0.212107</td><td style=\"text-align: right;\">0.287532</td><td style=\"text-align: right;\">0.129595</td></tr>\n",
       "<tr><td>GBM_grid__1_AutoML_20210705_161820_model_2         </td><td style=\"text-align: right;\">                0.212398</td><td style=\"text-align: right;\">0.460867</td><td style=\"text-align: right;\">0.212398</td><td style=\"text-align: right;\">0.286016</td><td style=\"text-align: right;\">0.129593</td></tr>\n",
       "<tr><td>GBM_2_AutoML_20210705_161820                       </td><td style=\"text-align: right;\">                0.212918</td><td style=\"text-align: right;\">0.461431</td><td style=\"text-align: right;\">0.212918</td><td style=\"text-align: right;\">0.287371</td><td style=\"text-align: right;\">0.129669</td></tr>\n",
       "<tr><td>GBM_4_AutoML_20210705_161820                       </td><td style=\"text-align: right;\">                0.213266</td><td style=\"text-align: right;\">0.461807</td><td style=\"text-align: right;\">0.213266</td><td style=\"text-align: right;\">0.28594 </td><td style=\"text-align: right;\">0.129129</td></tr>\n",
       "<tr><td>GBM_grid__1_AutoML_20210705_161820_model_4         </td><td style=\"text-align: right;\">                0.213519</td><td style=\"text-align: right;\">0.462081</td><td style=\"text-align: right;\">0.213519</td><td style=\"text-align: right;\">0.286788</td><td style=\"text-align: right;\">0.12907 </td></tr>\n",
       "<tr><td>GBM_3_AutoML_20210705_161820                       </td><td style=\"text-align: right;\">                0.213965</td><td style=\"text-align: right;\">0.462564</td><td style=\"text-align: right;\">0.213965</td><td style=\"text-align: right;\">0.286521</td><td style=\"text-align: right;\">0.129667</td></tr>\n",
       "<tr><td>GBM_1_AutoML_20210705_161820                       </td><td style=\"text-align: right;\">                0.215021</td><td style=\"text-align: right;\">0.463703</td><td style=\"text-align: right;\">0.215021</td><td style=\"text-align: right;\">0.287632</td><td style=\"text-align: right;\">0.129506</td></tr>\n",
       "<tr><td>XGBoost_grid__1_AutoML_20210705_161820_model_10    </td><td style=\"text-align: right;\">                0.217579</td><td style=\"text-align: right;\">0.466453</td><td style=\"text-align: right;\">0.217579</td><td style=\"text-align: right;\">0.292468</td><td style=\"text-align: right;\">0.130011</td></tr>\n",
       "<tr><td>GBM_grid__1_AutoML_20210705_161820_model_8         </td><td style=\"text-align: right;\">                0.218548</td><td style=\"text-align: right;\">0.467491</td><td style=\"text-align: right;\">0.218548</td><td style=\"text-align: right;\">0.289106</td><td style=\"text-align: right;\">0.131221</td></tr>\n",
       "<tr><td>GBM_grid__1_AutoML_20210705_161820_model_5         </td><td style=\"text-align: right;\">                0.218849</td><td style=\"text-align: right;\">0.467813</td><td style=\"text-align: right;\">0.218849</td><td style=\"text-align: right;\">0.289756</td><td style=\"text-align: right;\">0.13071 </td></tr>\n",
       "<tr><td>XRT_1_AutoML_20210705_161820                       </td><td style=\"text-align: right;\">                0.219391</td><td style=\"text-align: right;\">0.468392</td><td style=\"text-align: right;\">0.219391</td><td style=\"text-align: right;\">0.288636</td><td style=\"text-align: right;\">0.131109</td></tr>\n",
       "<tr><td>GBM_grid__1_AutoML_20210705_161820_model_12        </td><td style=\"text-align: right;\">                0.219497</td><td style=\"text-align: right;\">0.468505</td><td style=\"text-align: right;\">0.219497</td><td style=\"text-align: right;\">0.29314 </td><td style=\"text-align: right;\">0.130863</td></tr>\n",
       "<tr><td>GBM_grid__1_AutoML_20210705_161820_model_14        </td><td style=\"text-align: right;\">                0.219648</td><td style=\"text-align: right;\">0.468666</td><td style=\"text-align: right;\">0.219648</td><td style=\"text-align: right;\">0.290597</td><td style=\"text-align: right;\">0.130395</td></tr>\n",
       "<tr><td>XGBoost_grid__1_AutoML_20210705_161820_model_3     </td><td style=\"text-align: right;\">                0.219683</td><td style=\"text-align: right;\">0.468704</td><td style=\"text-align: right;\">0.219683</td><td style=\"text-align: right;\">0.293879</td><td style=\"text-align: right;\">0.130678</td></tr>\n",
       "<tr><td>GBM_grid__1_AutoML_20210705_161820_model_11        </td><td style=\"text-align: right;\">                0.220255</td><td style=\"text-align: right;\">0.469313</td><td style=\"text-align: right;\">0.220255</td><td style=\"text-align: right;\">0.291844</td><td style=\"text-align: right;\">0.131557</td></tr>\n",
       "<tr><td>XGBoost_grid__1_AutoML_20210705_161820_model_6     </td><td style=\"text-align: right;\">                0.221767</td><td style=\"text-align: right;\">0.470921</td><td style=\"text-align: right;\">0.221767</td><td style=\"text-align: right;\">0.295938</td><td style=\"text-align: right;\">0.130822</td></tr>\n",
       "<tr><td>GBM_grid__1_AutoML_20210705_161820_model_3         </td><td style=\"text-align: right;\">                0.222144</td><td style=\"text-align: right;\">0.471321</td><td style=\"text-align: right;\">0.222144</td><td style=\"text-align: right;\">0.294806</td><td style=\"text-align: right;\">0.13316 </td></tr>\n",
       "<tr><td>GBM_grid__1_AutoML_20210705_161820_model_15        </td><td style=\"text-align: right;\">                0.223118</td><td style=\"text-align: right;\">0.472354</td><td style=\"text-align: right;\">0.223118</td><td style=\"text-align: right;\">0.295247</td><td style=\"text-align: right;\">0.133639</td></tr>\n",
       "<tr><td>XGBoost_grid__1_AutoML_20210705_161820_model_1     </td><td style=\"text-align: right;\">                0.223406</td><td style=\"text-align: right;\">0.472658</td><td style=\"text-align: right;\">0.223406</td><td style=\"text-align: right;\">0.29728 </td><td style=\"text-align: right;\">0.132608</td></tr>\n",
       "<tr><td>XGBoost_grid__1_AutoML_20210705_161820_model_16    </td><td style=\"text-align: right;\">                0.223891</td><td style=\"text-align: right;\">0.473171</td><td style=\"text-align: right;\">0.223891</td><td style=\"text-align: right;\">0.298315</td><td style=\"text-align: right;\">0.133234</td></tr>\n",
       "<tr><td>DRF_1_AutoML_20210705_161820                       </td><td style=\"text-align: right;\">                0.225341</td><td style=\"text-align: right;\">0.474701</td><td style=\"text-align: right;\">0.225341</td><td style=\"text-align: right;\">0.29728 </td><td style=\"text-align: right;\">0.133367</td></tr>\n",
       "<tr><td>XGBoost_grid__1_AutoML_20210705_161820_model_9     </td><td style=\"text-align: right;\">                0.226206</td><td style=\"text-align: right;\">0.475611</td><td style=\"text-align: right;\">0.226206</td><td style=\"text-align: right;\">0.298991</td><td style=\"text-align: right;\">0.132855</td></tr>\n",
       "<tr><td>XGBoost_grid__1_AutoML_20210705_161820_model_7     </td><td style=\"text-align: right;\">                0.226277</td><td style=\"text-align: right;\">0.475686</td><td style=\"text-align: right;\">0.226277</td><td style=\"text-align: right;\">0.297862</td><td style=\"text-align: right;\">0.134744</td></tr>\n",
       "<tr><td>XGBoost_grid__1_AutoML_20210705_161820_model_15    </td><td style=\"text-align: right;\">                0.227033</td><td style=\"text-align: right;\">0.47648 </td><td style=\"text-align: right;\">0.227033</td><td style=\"text-align: right;\">0.301444</td><td style=\"text-align: right;\">0.134212</td></tr>\n",
       "<tr><td>XGBoost_grid__1_AutoML_20210705_161820_model_13    </td><td style=\"text-align: right;\">                0.227972</td><td style=\"text-align: right;\">0.477464</td><td style=\"text-align: right;\">0.227972</td><td style=\"text-align: right;\">0.29415 </td><td style=\"text-align: right;\">0.131962</td></tr>\n",
       "<tr><td>XGBoost_3_AutoML_20210705_161820                   </td><td style=\"text-align: right;\">                0.228048</td><td style=\"text-align: right;\">0.477544</td><td style=\"text-align: right;\">0.228048</td><td style=\"text-align: right;\">0.297662</td><td style=\"text-align: right;\">0.134439</td></tr>\n",
       "<tr><td>GBM_grid__1_AutoML_20210705_161820_model_6         </td><td style=\"text-align: right;\">                0.228653</td><td style=\"text-align: right;\">0.478177</td><td style=\"text-align: right;\">0.228653</td><td style=\"text-align: right;\">0.303946</td><td style=\"text-align: right;\">0.136118</td></tr>\n",
       "<tr><td>XGBoost_grid__1_AutoML_20210705_161820_model_4     </td><td style=\"text-align: right;\">                0.229559</td><td style=\"text-align: right;\">0.479124</td><td style=\"text-align: right;\">0.229559</td><td style=\"text-align: right;\">0.29804 </td><td style=\"text-align: right;\">0.134361</td></tr>\n",
       "<tr><td>XGBoost_grid__1_AutoML_20210705_161820_model_21    </td><td style=\"text-align: right;\">                0.230169</td><td style=\"text-align: right;\">0.479759</td><td style=\"text-align: right;\">0.230169</td><td style=\"text-align: right;\">0.301817</td><td style=\"text-align: right;\">0.134656</td></tr>\n",
       "<tr><td>XGBoost_grid__1_AutoML_20210705_161820_model_18    </td><td style=\"text-align: right;\">                0.233759</td><td style=\"text-align: right;\">0.483487</td><td style=\"text-align: right;\">0.233759</td><td style=\"text-align: right;\">0.304336</td><td style=\"text-align: right;\">0.136521</td></tr>\n",
       "<tr><td>GBM_grid__1_AutoML_20210705_161820_model_1         </td><td style=\"text-align: right;\">                0.236887</td><td style=\"text-align: right;\">0.486711</td><td style=\"text-align: right;\">0.236887</td><td style=\"text-align: right;\">0.296462</td><td style=\"text-align: right;\">0.13325 </td></tr>\n",
       "<tr><td>GBM_5_AutoML_20210705_161820                       </td><td style=\"text-align: right;\">                0.237023</td><td style=\"text-align: right;\">0.486851</td><td style=\"text-align: right;\">0.237023</td><td style=\"text-align: right;\">0.293836</td><td style=\"text-align: right;\">0.132303</td></tr>\n",
       "<tr><td>XGBoost_grid__1_AutoML_20210705_161820_model_20    </td><td style=\"text-align: right;\">                0.237937</td><td style=\"text-align: right;\">0.487788</td><td style=\"text-align: right;\">0.237937</td><td style=\"text-align: right;\">0.30109 </td><td style=\"text-align: right;\">0.13462 </td></tr>\n",
       "<tr><td>XGBoost_2_AutoML_20210705_161820                   </td><td style=\"text-align: right;\">                0.239461</td><td style=\"text-align: right;\">0.489347</td><td style=\"text-align: right;\">0.239461</td><td style=\"text-align: right;\">0.311893</td><td style=\"text-align: right;\">0.140003</td></tr>\n",
       "<tr><td>XGBoost_1_AutoML_20210705_161820                   </td><td style=\"text-align: right;\">                0.239999</td><td style=\"text-align: right;\">0.489896</td><td style=\"text-align: right;\">0.239999</td><td style=\"text-align: right;\">0.30516 </td><td style=\"text-align: right;\">0.136404</td></tr>\n",
       "<tr><td>XGBoost_grid__1_AutoML_20210705_161820_model_11    </td><td style=\"text-align: right;\">                0.240123</td><td style=\"text-align: right;\">0.490024</td><td style=\"text-align: right;\">0.240123</td><td style=\"text-align: right;\">0.305956</td><td style=\"text-align: right;\">0.137251</td></tr>\n",
       "<tr><td>XGBoost_grid__1_AutoML_20210705_161820_model_5     </td><td style=\"text-align: right;\">                0.241161</td><td style=\"text-align: right;\">0.491082</td><td style=\"text-align: right;\">0.241161</td><td style=\"text-align: right;\">0.307037</td><td style=\"text-align: right;\">0.136942</td></tr>\n",
       "<tr><td>GBM_grid__1_AutoML_20210705_161820_model_10        </td><td style=\"text-align: right;\">                0.241571</td><td style=\"text-align: right;\">0.491499</td><td style=\"text-align: right;\">0.241571</td><td style=\"text-align: right;\">0.295547</td><td style=\"text-align: right;\">0.133458</td></tr>\n",
       "<tr><td>XGBoost_grid__1_AutoML_20210705_161820_model_17    </td><td style=\"text-align: right;\">                0.242295</td><td style=\"text-align: right;\">0.492235</td><td style=\"text-align: right;\">0.242295</td><td style=\"text-align: right;\">0.30501 </td><td style=\"text-align: right;\">0.137784</td></tr>\n",
       "<tr><td>XGBoost_grid__1_AutoML_20210705_161820_model_14    </td><td style=\"text-align: right;\">                0.242313</td><td style=\"text-align: right;\">0.492253</td><td style=\"text-align: right;\">0.242313</td><td style=\"text-align: right;\">0.308267</td><td style=\"text-align: right;\">0.138092</td></tr>\n",
       "<tr><td>XGBoost_grid__1_AutoML_20210705_161820_model_19    </td><td style=\"text-align: right;\">                0.243067</td><td style=\"text-align: right;\">0.493018</td><td style=\"text-align: right;\">0.243067</td><td style=\"text-align: right;\">0.309665</td><td style=\"text-align: right;\">0.137172</td></tr>\n",
       "<tr><td>GBM_grid__1_AutoML_20210705_161820_model_13        </td><td style=\"text-align: right;\">                0.243487</td><td style=\"text-align: right;\">0.493444</td><td style=\"text-align: right;\">0.243487</td><td style=\"text-align: right;\">0.297823</td><td style=\"text-align: right;\">0.134403</td></tr>\n",
       "<tr><td>GBM_grid__1_AutoML_20210705_161820_model_9         </td><td style=\"text-align: right;\">                0.243583</td><td style=\"text-align: right;\">0.493542</td><td style=\"text-align: right;\">0.243583</td><td style=\"text-align: right;\">0.299863</td><td style=\"text-align: right;\">0.135253</td></tr>\n",
       "<tr><td>GBM_grid__1_AutoML_20210705_161820_model_16        </td><td style=\"text-align: right;\">                0.245199</td><td style=\"text-align: right;\">0.495176</td><td style=\"text-align: right;\">0.245199</td><td style=\"text-align: right;\">0.298686</td><td style=\"text-align: right;\">0.135086</td></tr>\n",
       "<tr><td>GBM_grid__1_AutoML_20210705_161820_model_17        </td><td style=\"text-align: right;\">                0.25859 </td><td style=\"text-align: right;\">0.508518</td><td style=\"text-align: right;\">0.25859 </td><td style=\"text-align: right;\">0.311071</td><td style=\"text-align: right;\">0.140744</td></tr>\n",
       "<tr><td>XGBoost_grid__1_AutoML_20210705_161820_model_8     </td><td style=\"text-align: right;\">                0.260621</td><td style=\"text-align: right;\">0.510511</td><td style=\"text-align: right;\">0.260621</td><td style=\"text-align: right;\">0.323014</td><td style=\"text-align: right;\">0.143078</td></tr>\n",
       "<tr><td>XGBoost_grid__1_AutoML_20210705_161820_model_2     </td><td style=\"text-align: right;\">                0.262145</td><td style=\"text-align: right;\">0.512001</td><td style=\"text-align: right;\">0.262145</td><td style=\"text-align: right;\">0.322548</td><td style=\"text-align: right;\">0.144236</td></tr>\n",
       "<tr><td>XGBoost_grid__1_AutoML_20210705_161820_model_12    </td><td style=\"text-align: right;\">                0.264623</td><td style=\"text-align: right;\">0.514415</td><td style=\"text-align: right;\">0.264623</td><td style=\"text-align: right;\">0.328732</td><td style=\"text-align: right;\">0.145344</td></tr>\n",
       "<tr><td>DeepLearning_1_AutoML_20210705_161820              </td><td style=\"text-align: right;\">                0.313025</td><td style=\"text-align: right;\">0.559486</td><td style=\"text-align: right;\">0.313025</td><td style=\"text-align: right;\">0.338474</td><td style=\"text-align: right;\">0.157491</td></tr>\n",
       "<tr><td>DeepLearning_grid__1_AutoML_20210705_161820_model_3</td><td style=\"text-align: right;\">                0.343614</td><td style=\"text-align: right;\">0.586186</td><td style=\"text-align: right;\">0.343614</td><td style=\"text-align: right;\">0.347179</td><td style=\"text-align: right;\">0.164473</td></tr>\n",
       "<tr><td>DeepLearning_grid__1_AutoML_20210705_161820_model_1</td><td style=\"text-align: right;\">                0.352981</td><td style=\"text-align: right;\">0.594122</td><td style=\"text-align: right;\">0.352981</td><td style=\"text-align: right;\">0.365968</td><td style=\"text-align: right;\">0.169528</td></tr>\n",
       "<tr><td>GLM_1_AutoML_20210705_161820                       </td><td style=\"text-align: right;\">                0.361519</td><td style=\"text-align: right;\">0.601264</td><td style=\"text-align: right;\">0.361519</td><td style=\"text-align: right;\">0.391913</td><td style=\"text-align: right;\">0.180521</td></tr>\n",
       "<tr><td>DeepLearning_grid__1_AutoML_20210705_161820_model_2</td><td style=\"text-align: right;\">                0.37047 </td><td style=\"text-align: right;\">0.608662</td><td style=\"text-align: right;\">0.37047 </td><td style=\"text-align: right;\">0.358178</td><td style=\"text-align: right;\">0.176986</td></tr>\n",
       "<tr><td>DeepLearning_grid__1_AutoML_20210705_161820_model_4</td><td style=\"text-align: right;\">                0.410774</td><td style=\"text-align: right;\">0.640917</td><td style=\"text-align: right;\">0.410774</td><td style=\"text-align: right;\">0.41218 </td><td style=\"text-align: right;\">0.202824</td></tr>\n",
       "<tr><td>DeepLearning_grid__3_AutoML_20210705_161820_model_2</td><td style=\"text-align: right;\">                0.450343</td><td style=\"text-align: right;\">0.671076</td><td style=\"text-align: right;\">0.450343</td><td style=\"text-align: right;\">0.411636</td><td style=\"text-align: right;\">0.188756</td></tr>\n",
       "<tr><td>DeepLearning_grid__3_AutoML_20210705_161820_model_1</td><td style=\"text-align: right;\">                0.485829</td><td style=\"text-align: right;\">0.697014</td><td style=\"text-align: right;\">0.485829</td><td style=\"text-align: right;\">0.425439</td><td style=\"text-align: right;\">0.187333</td></tr>\n",
       "<tr><td>XGBoost_grid__1_AutoML_20210705_161820_model_22    </td><td style=\"text-align: right;\">                0.631934</td><td style=\"text-align: right;\">0.794943</td><td style=\"text-align: right;\">0.631934</td><td style=\"text-align: right;\">0.505093</td><td style=\"text-align: right;\">0.197287</td></tr>\n",
       "<tr><td>GBM_grid__1_AutoML_20210705_161820_model_18        </td><td style=\"text-align: right;\">                0.667945</td><td style=\"text-align: right;\">0.817279</td><td style=\"text-align: right;\">0.667945</td><td style=\"text-align: right;\">0.595732</td><td style=\"text-align: right;\">0.251306</td></tr>\n",
       "<tr><td>DeepLearning_grid__2_AutoML_20210705_161820_model_2</td><td style=\"text-align: right;\">                0.967748</td><td style=\"text-align: right;\">0.983742</td><td style=\"text-align: right;\">0.967748</td><td style=\"text-align: right;\">0.761943</td><td style=\"text-align: right;\">0.331955</td></tr>\n",
       "<tr><td>DeepLearning_grid__2_AutoML_20210705_161820_model_3</td><td style=\"text-align: right;\">                1.07055 </td><td style=\"text-align: right;\">1.03468 </td><td style=\"text-align: right;\">1.07055 </td><td style=\"text-align: right;\">0.836967</td><td style=\"text-align: right;\">0.3699  </td></tr>\n",
       "<tr><td>DeepLearning_grid__2_AutoML_20210705_161820_model_1</td><td style=\"text-align: right;\">                1.495   </td><td style=\"text-align: right;\">1.2227  </td><td style=\"text-align: right;\">1.495   </td><td style=\"text-align: right;\">1.04508 </td><td style=\"text-align: right;\">0.407994</td></tr>\n",
       "<tr><td>GBM_grid__1_AutoML_20210705_161820_model_19        </td><td style=\"text-align: right;\">                1.54155 </td><td style=\"text-align: right;\">1.24159 </td><td style=\"text-align: right;\">1.54155 </td><td style=\"text-align: right;\">0.940362</td><td style=\"text-align: right;\">0.37823 </td></tr>\n",
       "</tbody>\n",
       "</table>"
      ]
     },
     "metadata": {},
     "output_type": "display_data"
    },
    {
     "data": {
      "text/plain": []
     },
     "execution_count": 14,
     "metadata": {},
     "output_type": "execute_result"
    }
   ],
   "source": [
    "# View the AutoML Leaderboard\n",
    "lb = aml.leaderboard\n",
    "lb.head(rows=lb.nrows)  # Print all rows instead of default (10 rows)"
   ]
  },
  {
   "cell_type": "code",
   "execution_count": 15,
   "metadata": {},
   "outputs": [
    {
     "name": "stdout",
     "output_type": "stream",
     "text": [
      "Model Details\n",
      "=============\n",
      "H2OStackedEnsembleEstimator :  Stacked Ensemble\n",
      "Model Key:  StackedEnsemble_AllModels_AutoML_20210705_161820\n",
      "\n",
      "No model summary for this model\n",
      "\n",
      "ModelMetricsRegressionGLM: stackedensemble\n",
      "** Reported on train data. **\n",
      "\n",
      "MSE: 0.04398914328832198\n",
      "RMSE: 0.20973588936641716\n",
      "MAE: 0.14385035318296224\n",
      "RMSLE: 0.0662758268806936\n",
      "R^2: 0.9789910686755036\n",
      "Mean Residual Deviance: 0.04398914328832198\n",
      "Null degrees of freedom: 7110\n",
      "Residual degrees of freedom: 7095\n",
      "Null deviance: 14889.229399237676\n",
      "Residual deviance: 312.8067979232576\n",
      "AIC: -1999.2862919683366\n",
      "\n",
      "ModelMetricsRegressionGLM: stackedensemble\n",
      "** Reported on cross-validation data. **\n",
      "\n",
      "MSE: 0.2022718873286636\n",
      "RMSE: 0.449746470056924\n",
      "MAE: 0.277933609819798\n",
      "RMSLE: 0.1251789452580981\n",
      "R^2: 0.9033962502540412\n",
      "Mean Residual Deviance: 0.2022718873286636\n",
      "Null degrees of freedom: 7110\n",
      "Residual degrees of freedom: 7094\n",
      "Null deviance: 14889.735004302205\n",
      "Residual deviance: 1438.3553907941268\n",
      "AIC: 8851.75243260913\n"
     ]
    },
    {
     "data": {
      "text/plain": []
     },
     "execution_count": 15,
     "metadata": {},
     "output_type": "execute_result"
    }
   ],
   "source": [
    "# The leader model is stored here\n",
    "aml.leader"
   ]
  },
  {
   "cell_type": "code",
   "execution_count": 16,
   "metadata": {},
   "outputs": [
    {
     "name": "stdout",
     "output_type": "stream",
     "text": [
      "stackedensemble prediction progress: |████████████████████████████████████| 100%\n"
     ]
    }
   ],
   "source": [
    "# If you need to generate predictions on a test set, you can make\n",
    "# predictions directly on the `\"H2OAutoML\"` object, or on the leader\n",
    "# model object directly\n",
    "\n",
    "preds = aml.predict(test)"
   ]
  },
  {
   "cell_type": "code",
   "execution_count": 19,
   "metadata": {},
   "outputs": [],
   "source": [
    "sample_submission = pd.read_csv('../input/sample_submission.csv')\n",
    "sample_submission[y] = preds.as_data_frame().values.flatten()\n",
    "sample_submission.to_csv(f'../submissions/h2o_submission_{y}_1.csv', index=False)"
   ]
  },
  {
   "cell_type": "code",
   "execution_count": null,
   "metadata": {},
   "outputs": [],
   "source": []
  }
 ],
 "metadata": {
  "kernelspec": {
   "display_name": "Python 3",
   "language": "python",
   "name": "python3"
  },
  "language_info": {
   "codemirror_mode": {
    "name": "ipython",
    "version": 3
   },
   "file_extension": ".py",
   "mimetype": "text/x-python",
   "name": "python",
   "nbconvert_exporter": "python",
   "pygments_lexer": "ipython3",
   "version": "3.6.9"
  }
 },
 "nbformat": 4,
 "nbformat_minor": 2
}
