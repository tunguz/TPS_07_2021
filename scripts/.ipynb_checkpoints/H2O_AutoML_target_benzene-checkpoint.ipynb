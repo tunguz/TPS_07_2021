{
 "cells": [
  {
   "cell_type": "code",
   "execution_count": 1,
   "metadata": {},
   "outputs": [],
   "source": [
    "import h2o\n",
    "import pandas as pd"
   ]
  },
  {
   "cell_type": "code",
   "execution_count": 2,
   "metadata": {},
   "outputs": [
    {
     "name": "stdout",
     "output_type": "stream",
     "text": [
      "Checking whether there is an H2O instance running at http://localhost:54321 ..... not found.\n",
      "Attempting to start a local H2O server...\n",
      "  Java Version: openjdk version \"11.0.11\" 2021-04-20; OpenJDK Runtime Environment (build 11.0.11+9-Ubuntu-0ubuntu2.18.04); OpenJDK 64-Bit Server VM (build 11.0.11+9-Ubuntu-0ubuntu2.18.04, mixed mode, sharing)\n",
      "  Starting server from /home/tunguz/.local/lib/python3.6/site-packages/h2o/backend/bin/h2o.jar\n",
      "  Ice root: /tmp/tmp7vv18fua\n",
      "  JVM stdout: /tmp/tmp7vv18fua/h2o_tunguz_started_from_python.out\n",
      "  JVM stderr: /tmp/tmp7vv18fua/h2o_tunguz_started_from_python.err\n",
      "  Server is running at http://127.0.0.1:54321\n",
      "Connecting to H2O server at http://127.0.0.1:54321 ... successful.\n"
     ]
    },
    {
     "data": {
      "text/html": [
       "<div style=\"overflow:auto\"><table style=\"width:50%\"><tr><td>H2O_cluster_uptime:</td>\n",
       "<td>01 secs</td></tr>\n",
       "<tr><td>H2O_cluster_timezone:</td>\n",
       "<td>America/Los_Angeles</td></tr>\n",
       "<tr><td>H2O_data_parsing_timezone:</td>\n",
       "<td>UTC</td></tr>\n",
       "<tr><td>H2O_cluster_version:</td>\n",
       "<td>3.32.1.3</td></tr>\n",
       "<tr><td>H2O_cluster_version_age:</td>\n",
       "<td>1 month and 15 days </td></tr>\n",
       "<tr><td>H2O_cluster_name:</td>\n",
       "<td>H2O_from_python_tunguz_ka5o0h</td></tr>\n",
       "<tr><td>H2O_cluster_total_nodes:</td>\n",
       "<td>1</td></tr>\n",
       "<tr><td>H2O_cluster_free_memory:</td>\n",
       "<td>30 Gb</td></tr>\n",
       "<tr><td>H2O_cluster_total_cores:</td>\n",
       "<td>8</td></tr>\n",
       "<tr><td>H2O_cluster_allowed_cores:</td>\n",
       "<td>8</td></tr>\n",
       "<tr><td>H2O_cluster_status:</td>\n",
       "<td>accepting new members, healthy</td></tr>\n",
       "<tr><td>H2O_connection_url:</td>\n",
       "<td>http://127.0.0.1:54321</td></tr>\n",
       "<tr><td>H2O_connection_proxy:</td>\n",
       "<td>{\"http\": null, \"https\": null}</td></tr>\n",
       "<tr><td>H2O_internal_security:</td>\n",
       "<td>False</td></tr>\n",
       "<tr><td>H2O_API_Extensions:</td>\n",
       "<td>Amazon S3, XGBoost, Algos, AutoML, Core V3, TargetEncoder, Core V4</td></tr>\n",
       "<tr><td>Python_version:</td>\n",
       "<td>3.6.9 final</td></tr></table></div>"
      ],
      "text/plain": [
       "--------------------------  ------------------------------------------------------------------\n",
       "H2O_cluster_uptime:         01 secs\n",
       "H2O_cluster_timezone:       America/Los_Angeles\n",
       "H2O_data_parsing_timezone:  UTC\n",
       "H2O_cluster_version:        3.32.1.3\n",
       "H2O_cluster_version_age:    1 month and 15 days\n",
       "H2O_cluster_name:           H2O_from_python_tunguz_ka5o0h\n",
       "H2O_cluster_total_nodes:    1\n",
       "H2O_cluster_free_memory:    30 Gb\n",
       "H2O_cluster_total_cores:    8\n",
       "H2O_cluster_allowed_cores:  8\n",
       "H2O_cluster_status:         accepting new members, healthy\n",
       "H2O_connection_url:         http://127.0.0.1:54321\n",
       "H2O_connection_proxy:       {\"http\": null, \"https\": null}\n",
       "H2O_internal_security:      False\n",
       "H2O_API_Extensions:         Amazon S3, XGBoost, Algos, AutoML, Core V3, TargetEncoder, Core V4\n",
       "Python_version:             3.6.9 final\n",
       "--------------------------  ------------------------------------------------------------------"
      ]
     },
     "metadata": {},
     "output_type": "display_data"
    }
   ],
   "source": [
    "from h2o.automl import H2OAutoML\n",
    "\n",
    "h2o.init(max_mem_size='30G')"
   ]
  },
  {
   "cell_type": "code",
   "execution_count": 3,
   "metadata": {},
   "outputs": [
    {
     "name": "stdout",
     "output_type": "stream",
     "text": [
      "Parse progress: |█████████████████████████████████████████████████████████| 100%\n",
      "Parse progress: |█████████████████████████████████████████████████████████| 100%\n"
     ]
    }
   ],
   "source": [
    "train = h2o.import_file(\"../input/train.csv\")\n",
    "test = h2o.import_file(\"../input/test.csv\")"
   ]
  },
  {
   "cell_type": "code",
   "execution_count": 4,
   "metadata": {},
   "outputs": [
    {
     "data": {
      "text/html": [
       "<table>\n",
       "<thead>\n",
       "<tr><th>date_time          </th><th style=\"text-align: right;\">  deg_C</th><th style=\"text-align: right;\">  relative_humidity</th><th style=\"text-align: right;\">  absolute_humidity</th><th style=\"text-align: right;\">  sensor_1</th><th style=\"text-align: right;\">  sensor_2</th><th style=\"text-align: right;\">  sensor_3</th><th style=\"text-align: right;\">  sensor_4</th><th style=\"text-align: right;\">  sensor_5</th><th style=\"text-align: right;\">  target_carbon_monoxide</th><th style=\"text-align: right;\">  target_benzene</th><th style=\"text-align: right;\">  target_nitrogen_oxides</th></tr>\n",
       "</thead>\n",
       "<tbody>\n",
       "<tr><td>2010-03-10 18:00:00</td><td style=\"text-align: right;\">   13.1</td><td style=\"text-align: right;\">               46  </td><td style=\"text-align: right;\">             0.7578</td><td style=\"text-align: right;\">    1387.2</td><td style=\"text-align: right;\">    1087.8</td><td style=\"text-align: right;\">    1056  </td><td style=\"text-align: right;\">    1742.8</td><td style=\"text-align: right;\">    1293.4</td><td style=\"text-align: right;\">                     2.5</td><td style=\"text-align: right;\">            12  </td><td style=\"text-align: right;\">                   167.7</td></tr>\n",
       "<tr><td>2010-03-10 19:00:00</td><td style=\"text-align: right;\">   13.2</td><td style=\"text-align: right;\">               45.3</td><td style=\"text-align: right;\">             0.7255</td><td style=\"text-align: right;\">    1279.1</td><td style=\"text-align: right;\">     888.2</td><td style=\"text-align: right;\">    1197.5</td><td style=\"text-align: right;\">    1449.9</td><td style=\"text-align: right;\">    1010.9</td><td style=\"text-align: right;\">                     2.1</td><td style=\"text-align: right;\">             9.9</td><td style=\"text-align: right;\">                    98.9</td></tr>\n",
       "<tr><td>2010-03-10 20:00:00</td><td style=\"text-align: right;\">   12.6</td><td style=\"text-align: right;\">               56.2</td><td style=\"text-align: right;\">             0.7502</td><td style=\"text-align: right;\">    1331.9</td><td style=\"text-align: right;\">     929.6</td><td style=\"text-align: right;\">    1060.2</td><td style=\"text-align: right;\">    1586.1</td><td style=\"text-align: right;\">    1117  </td><td style=\"text-align: right;\">                     2.2</td><td style=\"text-align: right;\">             9.2</td><td style=\"text-align: right;\">                   127.1</td></tr>\n",
       "<tr><td>2010-03-10 21:00:00</td><td style=\"text-align: right;\">   11  </td><td style=\"text-align: right;\">               62.4</td><td style=\"text-align: right;\">             0.7867</td><td style=\"text-align: right;\">    1321  </td><td style=\"text-align: right;\">     929  </td><td style=\"text-align: right;\">    1102.9</td><td style=\"text-align: right;\">    1536.5</td><td style=\"text-align: right;\">    1263.2</td><td style=\"text-align: right;\">                     2.2</td><td style=\"text-align: right;\">             9.7</td><td style=\"text-align: right;\">                   177.2</td></tr>\n",
       "<tr><td>2010-03-10 22:00:00</td><td style=\"text-align: right;\">   11.9</td><td style=\"text-align: right;\">               59  </td><td style=\"text-align: right;\">             0.7888</td><td style=\"text-align: right;\">    1272  </td><td style=\"text-align: right;\">     852.7</td><td style=\"text-align: right;\">    1180.9</td><td style=\"text-align: right;\">    1415.5</td><td style=\"text-align: right;\">    1132.2</td><td style=\"text-align: right;\">                     1.5</td><td style=\"text-align: right;\">             6.4</td><td style=\"text-align: right;\">                   121.8</td></tr>\n",
       "<tr><td>2010-03-10 23:00:00</td><td style=\"text-align: right;\">   11.2</td><td style=\"text-align: right;\">               56.8</td><td style=\"text-align: right;\">             0.7848</td><td style=\"text-align: right;\">    1220.9</td><td style=\"text-align: right;\">     697.5</td><td style=\"text-align: right;\">    1417.2</td><td style=\"text-align: right;\">    1462.6</td><td style=\"text-align: right;\">     949  </td><td style=\"text-align: right;\">                     1.2</td><td style=\"text-align: right;\">             4.4</td><td style=\"text-align: right;\">                    88.1</td></tr>\n",
       "<tr><td>2010-03-11 00:00:00</td><td style=\"text-align: right;\">   10.7</td><td style=\"text-align: right;\">               55.7</td><td style=\"text-align: right;\">             0.7603</td><td style=\"text-align: right;\">    1244.2</td><td style=\"text-align: right;\">     669.3</td><td style=\"text-align: right;\">    1491.2</td><td style=\"text-align: right;\">    1413  </td><td style=\"text-align: right;\">     769.6</td><td style=\"text-align: right;\">                     1.2</td><td style=\"text-align: right;\">             3.7</td><td style=\"text-align: right;\">                    59.5</td></tr>\n",
       "<tr><td>2010-03-11 01:00:00</td><td style=\"text-align: right;\">   10.3</td><td style=\"text-align: right;\">               57  </td><td style=\"text-align: right;\">             0.7702</td><td style=\"text-align: right;\">    1181.4</td><td style=\"text-align: right;\">     631.7</td><td style=\"text-align: right;\">    1511.1</td><td style=\"text-align: right;\">    1359.7</td><td style=\"text-align: right;\">     715.4</td><td style=\"text-align: right;\">                     1  </td><td style=\"text-align: right;\">             3.4</td><td style=\"text-align: right;\">                    63.9</td></tr>\n",
       "<tr><td>2010-03-11 02:00:00</td><td style=\"text-align: right;\">   10.1</td><td style=\"text-align: right;\">               62.7</td><td style=\"text-align: right;\">             0.7648</td><td style=\"text-align: right;\">    1159.6</td><td style=\"text-align: right;\">     602.9</td><td style=\"text-align: right;\">    1610.6</td><td style=\"text-align: right;\">    1212.2</td><td style=\"text-align: right;\">     657.2</td><td style=\"text-align: right;\">                     0.9</td><td style=\"text-align: right;\">             2.2</td><td style=\"text-align: right;\">                    46.4</td></tr>\n",
       "<tr><td>2010-03-11 03:00:00</td><td style=\"text-align: right;\">   10.5</td><td style=\"text-align: right;\">               59.6</td><td style=\"text-align: right;\">             0.7517</td><td style=\"text-align: right;\">    1030.2</td><td style=\"text-align: right;\">     521.7</td><td style=\"text-align: right;\">    1790.2</td><td style=\"text-align: right;\">    1148.6</td><td style=\"text-align: right;\">     491  </td><td style=\"text-align: right;\">                     0.6</td><td style=\"text-align: right;\">             1.6</td><td style=\"text-align: right;\">                    43  </td></tr>\n",
       "</tbody>\n",
       "</table>"
      ]
     },
     "metadata": {},
     "output_type": "display_data"
    },
    {
     "data": {
      "text/plain": []
     },
     "execution_count": 4,
     "metadata": {},
     "output_type": "execute_result"
    }
   ],
   "source": [
    "train.head()"
   ]
  },
  {
   "cell_type": "code",
   "execution_count": 5,
   "metadata": {},
   "outputs": [
    {
     "data": {
      "text/html": [
       "<table>\n",
       "<thead>\n",
       "<tr><th>date_time          </th><th style=\"text-align: right;\">  deg_C</th><th style=\"text-align: right;\">  relative_humidity</th><th style=\"text-align: right;\">  absolute_humidity</th><th style=\"text-align: right;\">  sensor_1</th><th style=\"text-align: right;\">  sensor_2</th><th style=\"text-align: right;\">  sensor_3</th><th style=\"text-align: right;\">  sensor_4</th><th style=\"text-align: right;\">  sensor_5</th></tr>\n",
       "</thead>\n",
       "<tbody>\n",
       "<tr><td>2011-01-01 00:00:00</td><td style=\"text-align: right;\">    8  </td><td style=\"text-align: right;\">               41.3</td><td style=\"text-align: right;\">             0.4375</td><td style=\"text-align: right;\">    1108.8</td><td style=\"text-align: right;\">     745.7</td><td style=\"text-align: right;\">     797.1</td><td style=\"text-align: right;\">     880  </td><td style=\"text-align: right;\">    1273.1</td></tr>\n",
       "<tr><td>2011-01-01 01:00:00</td><td style=\"text-align: right;\">    5.1</td><td style=\"text-align: right;\">               51.7</td><td style=\"text-align: right;\">             0.4564</td><td style=\"text-align: right;\">    1249.5</td><td style=\"text-align: right;\">     864.9</td><td style=\"text-align: right;\">     687.9</td><td style=\"text-align: right;\">     972.8</td><td style=\"text-align: right;\">    1714  </td></tr>\n",
       "<tr><td>2011-01-01 02:00:00</td><td style=\"text-align: right;\">    5.8</td><td style=\"text-align: right;\">               51.5</td><td style=\"text-align: right;\">             0.4689</td><td style=\"text-align: right;\">    1102.6</td><td style=\"text-align: right;\">     878  </td><td style=\"text-align: right;\">     693.7</td><td style=\"text-align: right;\">     941.9</td><td style=\"text-align: right;\">    1300.8</td></tr>\n",
       "<tr><td>2011-01-01 03:00:00</td><td style=\"text-align: right;\">    5  </td><td style=\"text-align: right;\">               52.3</td><td style=\"text-align: right;\">             0.4693</td><td style=\"text-align: right;\">    1139.7</td><td style=\"text-align: right;\">     916.2</td><td style=\"text-align: right;\">     725.6</td><td style=\"text-align: right;\">    1011  </td><td style=\"text-align: right;\">    1283  </td></tr>\n",
       "<tr><td>2011-01-01 04:00:00</td><td style=\"text-align: right;\">    4.5</td><td style=\"text-align: right;\">               57.5</td><td style=\"text-align: right;\">             0.465 </td><td style=\"text-align: right;\">    1022.4</td><td style=\"text-align: right;\">     838.5</td><td style=\"text-align: right;\">     871.5</td><td style=\"text-align: right;\">     967  </td><td style=\"text-align: right;\">    1142.3</td></tr>\n",
       "<tr><td>2011-01-01 05:00:00</td><td style=\"text-align: right;\">    4.5</td><td style=\"text-align: right;\">               53.7</td><td style=\"text-align: right;\">             0.4759</td><td style=\"text-align: right;\">    1004  </td><td style=\"text-align: right;\">     745.5</td><td style=\"text-align: right;\">     914.2</td><td style=\"text-align: right;\">     989.1</td><td style=\"text-align: right;\">     973.8</td></tr>\n",
       "<tr><td>2011-01-01 06:00:00</td><td style=\"text-align: right;\">    3.3</td><td style=\"text-align: right;\">               54.8</td><td style=\"text-align: right;\">             0.4636</td><td style=\"text-align: right;\">     940.9</td><td style=\"text-align: right;\">     738.2</td><td style=\"text-align: right;\">     816  </td><td style=\"text-align: right;\">     896.8</td><td style=\"text-align: right;\">    1049.4</td></tr>\n",
       "<tr><td>2011-01-01 07:00:00</td><td style=\"text-align: right;\">    3.2</td><td style=\"text-align: right;\">               60.7</td><td style=\"text-align: right;\">             0.4667</td><td style=\"text-align: right;\">     954.5</td><td style=\"text-align: right;\">     713.9</td><td style=\"text-align: right;\">     834.7</td><td style=\"text-align: right;\">     935.6</td><td style=\"text-align: right;\">     956.3</td></tr>\n",
       "<tr><td>2011-01-01 08:00:00</td><td style=\"text-align: right;\">    2.5</td><td style=\"text-align: right;\">               65.7</td><td style=\"text-align: right;\">             0.4721</td><td style=\"text-align: right;\">     969.9</td><td style=\"text-align: right;\">     679.1</td><td style=\"text-align: right;\">     943.8</td><td style=\"text-align: right;\">     959.3</td><td style=\"text-align: right;\">     892  </td></tr>\n",
       "<tr><td>2011-01-01 09:00:00</td><td style=\"text-align: right;\">    3.9</td><td style=\"text-align: right;\">               57.8</td><td style=\"text-align: right;\">             0.4807</td><td style=\"text-align: right;\">     976.6</td><td style=\"text-align: right;\">     655.5</td><td style=\"text-align: right;\">     996  </td><td style=\"text-align: right;\">     906  </td><td style=\"text-align: right;\">     817.5</td></tr>\n",
       "</tbody>\n",
       "</table>"
      ]
     },
     "metadata": {},
     "output_type": "display_data"
    },
    {
     "data": {
      "text/plain": []
     },
     "execution_count": 5,
     "metadata": {},
     "output_type": "execute_result"
    }
   ],
   "source": [
    "test.head()"
   ]
  },
  {
   "cell_type": "code",
   "execution_count": 6,
   "metadata": {},
   "outputs": [],
   "source": [
    "x = test.columns[1:]\n",
    "y = 'target_carbon_monoxide'"
   ]
  },
  {
   "cell_type": "code",
   "execution_count": 7,
   "metadata": {},
   "outputs": [
    {
     "name": "stdout",
     "output_type": "stream",
     "text": [
      "AutoML progress: |████████████████████████████████████████████████████████| 100%\n"
     ]
    }
   ],
   "source": [
    "# Run AutoML for 20 base models (limited to 1 hour max runtime by default)\n",
    "aml = H2OAutoML(max_models=180, seed=47, max_runtime_secs=600)\n",
    "aml.train(x=x, y=y, training_frame=train)"
   ]
  },
  {
   "cell_type": "code",
   "execution_count": 8,
   "metadata": {},
   "outputs": [
    {
     "data": {
      "text/html": [
       "<table>\n",
       "<thead>\n",
       "<tr><th>model_id                                           </th><th style=\"text-align: right;\">  mean_residual_deviance</th><th style=\"text-align: right;\">    rmse</th><th style=\"text-align: right;\">     mse</th><th style=\"text-align: right;\">     mae</th><th style=\"text-align: right;\">   rmsle</th></tr>\n",
       "</thead>\n",
       "<tbody>\n",
       "<tr><td>StackedEnsemble_AllModels_AutoML_20210705_162650   </td><td style=\"text-align: right;\">                0.201967</td><td style=\"text-align: right;\">0.449408</td><td style=\"text-align: right;\">0.201967</td><td style=\"text-align: right;\">0.277844</td><td style=\"text-align: right;\">0.124858</td></tr>\n",
       "<tr><td>StackedEnsemble_BestOfFamily_AutoML_20210705_162650</td><td style=\"text-align: right;\">                0.203786</td><td style=\"text-align: right;\">0.451427</td><td style=\"text-align: right;\">0.203786</td><td style=\"text-align: right;\">0.279025</td><td style=\"text-align: right;\">0.125744</td></tr>\n",
       "<tr><td>GBM_grid__1_AutoML_20210705_162650_model_13        </td><td style=\"text-align: right;\">                0.211356</td><td style=\"text-align: right;\">0.459734</td><td style=\"text-align: right;\">0.211356</td><td style=\"text-align: right;\">0.285869</td><td style=\"text-align: right;\">0.128429</td></tr>\n",
       "<tr><td>GBM_grid__1_AutoML_20210705_162650_model_16        </td><td style=\"text-align: right;\">                0.212202</td><td style=\"text-align: right;\">0.460653</td><td style=\"text-align: right;\">0.212202</td><td style=\"text-align: right;\">0.286114</td><td style=\"text-align: right;\">0.128458</td></tr>\n",
       "<tr><td>GBM_grid__1_AutoML_20210705_162650_model_18        </td><td style=\"text-align: right;\">                0.212398</td><td style=\"text-align: right;\">0.460867</td><td style=\"text-align: right;\">0.212398</td><td style=\"text-align: right;\">0.286016</td><td style=\"text-align: right;\">0.129593</td></tr>\n",
       "<tr><td>GBM_2_AutoML_20210705_162650                       </td><td style=\"text-align: right;\">                0.212918</td><td style=\"text-align: right;\">0.461431</td><td style=\"text-align: right;\">0.212918</td><td style=\"text-align: right;\">0.287371</td><td style=\"text-align: right;\">0.129669</td></tr>\n",
       "<tr><td>DRF_1_AutoML_20210705_162650                       </td><td style=\"text-align: right;\">                0.213108</td><td style=\"text-align: right;\">0.461636</td><td style=\"text-align: right;\">0.213108</td><td style=\"text-align: right;\">0.286157</td><td style=\"text-align: right;\">0.129408</td></tr>\n",
       "<tr><td>GBM_4_AutoML_20210705_162650                       </td><td style=\"text-align: right;\">                0.213266</td><td style=\"text-align: right;\">0.461807</td><td style=\"text-align: right;\">0.213266</td><td style=\"text-align: right;\">0.28594 </td><td style=\"text-align: right;\">0.129129</td></tr>\n",
       "<tr><td>GBM_grid__1_AutoML_20210705_162650_model_20        </td><td style=\"text-align: right;\">                0.213519</td><td style=\"text-align: right;\">0.462081</td><td style=\"text-align: right;\">0.213519</td><td style=\"text-align: right;\">0.286788</td><td style=\"text-align: right;\">0.12907 </td></tr>\n",
       "<tr><td>XRT_1_AutoML_20210705_162650                       </td><td style=\"text-align: right;\">                0.213767</td><td style=\"text-align: right;\">0.46235 </td><td style=\"text-align: right;\">0.213767</td><td style=\"text-align: right;\">0.284883</td><td style=\"text-align: right;\">0.12932 </td></tr>\n",
       "<tr><td>GBM_3_AutoML_20210705_162650                       </td><td style=\"text-align: right;\">                0.213965</td><td style=\"text-align: right;\">0.462564</td><td style=\"text-align: right;\">0.213965</td><td style=\"text-align: right;\">0.286521</td><td style=\"text-align: right;\">0.129667</td></tr>\n",
       "<tr><td>GBM_grid__1_AutoML_20210705_162650_model_1         </td><td style=\"text-align: right;\">                0.214255</td><td style=\"text-align: right;\">0.462877</td><td style=\"text-align: right;\">0.214255</td><td style=\"text-align: right;\">0.285704</td><td style=\"text-align: right;\">0.128225</td></tr>\n",
       "<tr><td>XGBoost_grid__1_AutoML_20210705_162650_model_42    </td><td style=\"text-align: right;\">                0.214438</td><td style=\"text-align: right;\">0.463075</td><td style=\"text-align: right;\">0.214438</td><td style=\"text-align: right;\">0.288921</td><td style=\"text-align: right;\">0.128352</td></tr>\n",
       "<tr><td>GBM_1_AutoML_20210705_162650                       </td><td style=\"text-align: right;\">                0.215021</td><td style=\"text-align: right;\">0.463703</td><td style=\"text-align: right;\">0.215021</td><td style=\"text-align: right;\">0.287632</td><td style=\"text-align: right;\">0.129506</td></tr>\n",
       "<tr><td>XGBoost_grid__1_AutoML_20210705_162650_model_25    </td><td style=\"text-align: right;\">                0.215159</td><td style=\"text-align: right;\">0.463852</td><td style=\"text-align: right;\">0.215159</td><td style=\"text-align: right;\">0.292904</td><td style=\"text-align: right;\">0.12981 </td></tr>\n",
       "<tr><td>GBM_grid__1_AutoML_20210705_162650_model_4         </td><td style=\"text-align: right;\">                0.21526 </td><td style=\"text-align: right;\">0.463962</td><td style=\"text-align: right;\">0.21526 </td><td style=\"text-align: right;\">0.287769</td><td style=\"text-align: right;\">0.129245</td></tr>\n",
       "<tr><td>GBM_grid__1_AutoML_20210705_162650_model_14        </td><td style=\"text-align: right;\">                0.215295</td><td style=\"text-align: right;\">0.463999</td><td style=\"text-align: right;\">0.215295</td><td style=\"text-align: right;\">0.293857</td><td style=\"text-align: right;\">0.130952</td></tr>\n",
       "<tr><td>XGBoost_grid__1_AutoML_20210705_162650_model_54    </td><td style=\"text-align: right;\">                0.215956</td><td style=\"text-align: right;\">0.464711</td><td style=\"text-align: right;\">0.215956</td><td style=\"text-align: right;\">0.291405</td><td style=\"text-align: right;\">0.129485</td></tr>\n",
       "<tr><td>XGBoost_grid__1_AutoML_20210705_162650_model_23    </td><td style=\"text-align: right;\">                0.216593</td><td style=\"text-align: right;\">0.465396</td><td style=\"text-align: right;\">0.216593</td><td style=\"text-align: right;\">0.291965</td><td style=\"text-align: right;\">0.128523</td></tr>\n",
       "<tr><td>GBM_grid__1_AutoML_20210705_162650_model_7         </td><td style=\"text-align: right;\">                0.216906</td><td style=\"text-align: right;\">0.465731</td><td style=\"text-align: right;\">0.216906</td><td style=\"text-align: right;\">0.288579</td><td style=\"text-align: right;\">0.131053</td></tr>\n",
       "<tr><td>XGBoost_grid__1_AutoML_20210705_162650_model_10    </td><td style=\"text-align: right;\">                0.217579</td><td style=\"text-align: right;\">0.466453</td><td style=\"text-align: right;\">0.217579</td><td style=\"text-align: right;\">0.292468</td><td style=\"text-align: right;\">0.130011</td></tr>\n",
       "<tr><td>GBM_grid__1_AutoML_20210705_162650_model_11        </td><td style=\"text-align: right;\">                0.217841</td><td style=\"text-align: right;\">0.466734</td><td style=\"text-align: right;\">0.217841</td><td style=\"text-align: right;\">0.292655</td><td style=\"text-align: right;\">0.131489</td></tr>\n",
       "<tr><td>XGBoost_grid__1_AutoML_20210705_162650_model_49    </td><td style=\"text-align: right;\">                0.218112</td><td style=\"text-align: right;\">0.467025</td><td style=\"text-align: right;\">0.218112</td><td style=\"text-align: right;\">0.290861</td><td style=\"text-align: right;\">0.12934 </td></tr>\n",
       "<tr><td>XGBoost_grid__1_AutoML_20210705_162650_model_3     </td><td style=\"text-align: right;\">                0.219683</td><td style=\"text-align: right;\">0.468704</td><td style=\"text-align: right;\">0.219683</td><td style=\"text-align: right;\">0.293879</td><td style=\"text-align: right;\">0.130678</td></tr>\n",
       "<tr><td>XGBoost_grid__1_AutoML_20210705_162650_model_28    </td><td style=\"text-align: right;\">                0.220234</td><td style=\"text-align: right;\">0.469291</td><td style=\"text-align: right;\">0.220234</td><td style=\"text-align: right;\">0.294599</td><td style=\"text-align: right;\">0.131384</td></tr>\n",
       "<tr><td>GBM_grid__1_AutoML_20210705_162650_model_15        </td><td style=\"text-align: right;\">                0.220591</td><td style=\"text-align: right;\">0.469671</td><td style=\"text-align: right;\">0.220591</td><td style=\"text-align: right;\">0.289571</td><td style=\"text-align: right;\">0.12993 </td></tr>\n",
       "<tr><td>XGBoost_grid__1_AutoML_20210705_162650_model_6     </td><td style=\"text-align: right;\">                0.221767</td><td style=\"text-align: right;\">0.470921</td><td style=\"text-align: right;\">0.221767</td><td style=\"text-align: right;\">0.295938</td><td style=\"text-align: right;\">0.130822</td></tr>\n",
       "<tr><td>XGBoost_grid__1_AutoML_20210705_162650_model_22    </td><td style=\"text-align: right;\">                0.222143</td><td style=\"text-align: right;\">0.471321</td><td style=\"text-align: right;\">0.222143</td><td style=\"text-align: right;\">0.298115</td><td style=\"text-align: right;\">0.131984</td></tr>\n",
       "<tr><td>GBM_grid__1_AutoML_20210705_162650_model_19        </td><td style=\"text-align: right;\">                0.222144</td><td style=\"text-align: right;\">0.471321</td><td style=\"text-align: right;\">0.222144</td><td style=\"text-align: right;\">0.294806</td><td style=\"text-align: right;\">0.13316 </td></tr>\n",
       "<tr><td>XGBoost_grid__1_AutoML_20210705_162650_model_51    </td><td style=\"text-align: right;\">                0.222635</td><td style=\"text-align: right;\">0.471842</td><td style=\"text-align: right;\">0.222635</td><td style=\"text-align: right;\">0.298141</td><td style=\"text-align: right;\">0.13335 </td></tr>\n",
       "<tr><td>GBM_grid__1_AutoML_20210705_162650_model_10        </td><td style=\"text-align: right;\">                0.222754</td><td style=\"text-align: right;\">0.471968</td><td style=\"text-align: right;\">0.222754</td><td style=\"text-align: right;\">0.290001</td><td style=\"text-align: right;\">0.130413</td></tr>\n",
       "<tr><td>XGBoost_grid__1_AutoML_20210705_162650_model_52    </td><td style=\"text-align: right;\">                0.222944</td><td style=\"text-align: right;\">0.47217 </td><td style=\"text-align: right;\">0.222944</td><td style=\"text-align: right;\">0.297414</td><td style=\"text-align: right;\">0.132944</td></tr>\n",
       "<tr><td>XGBoost_grid__1_AutoML_20210705_162650_model_40    </td><td style=\"text-align: right;\">                0.223167</td><td style=\"text-align: right;\">0.472406</td><td style=\"text-align: right;\">0.223167</td><td style=\"text-align: right;\">0.293949</td><td style=\"text-align: right;\">0.131146</td></tr>\n",
       "<tr><td>XGBoost_grid__1_AutoML_20210705_162650_model_1     </td><td style=\"text-align: right;\">                0.223406</td><td style=\"text-align: right;\">0.472658</td><td style=\"text-align: right;\">0.223406</td><td style=\"text-align: right;\">0.29728 </td><td style=\"text-align: right;\">0.132608</td></tr>\n",
       "<tr><td>XGBoost_grid__1_AutoML_20210705_162650_model_53    </td><td style=\"text-align: right;\">                0.223778</td><td style=\"text-align: right;\">0.473052</td><td style=\"text-align: right;\">0.223778</td><td style=\"text-align: right;\">0.298364</td><td style=\"text-align: right;\">0.132977</td></tr>\n",
       "<tr><td>XGBoost_grid__1_AutoML_20210705_162650_model_16    </td><td style=\"text-align: right;\">                0.223891</td><td style=\"text-align: right;\">0.473171</td><td style=\"text-align: right;\">0.223891</td><td style=\"text-align: right;\">0.298315</td><td style=\"text-align: right;\">0.133234</td></tr>\n",
       "<tr><td>GBM_grid__1_AutoML_20210705_162650_model_2         </td><td style=\"text-align: right;\">                0.224221</td><td style=\"text-align: right;\">0.47352 </td><td style=\"text-align: right;\">0.224221</td><td style=\"text-align: right;\">0.29632 </td><td style=\"text-align: right;\">0.134247</td></tr>\n",
       "<tr><td>XGBoost_grid__1_AutoML_20210705_162650_model_45    </td><td style=\"text-align: right;\">                0.224366</td><td style=\"text-align: right;\">0.473673</td><td style=\"text-align: right;\">0.224366</td><td style=\"text-align: right;\">0.298006</td><td style=\"text-align: right;\">0.134498</td></tr>\n",
       "<tr><td>XGBoost_grid__1_AutoML_20210705_162650_model_48    </td><td style=\"text-align: right;\">                0.224583</td><td style=\"text-align: right;\">0.473902</td><td style=\"text-align: right;\">0.224583</td><td style=\"text-align: right;\">0.29559 </td><td style=\"text-align: right;\">0.132394</td></tr>\n",
       "<tr><td>GBM_grid__1_AutoML_20210705_162650_model_8         </td><td style=\"text-align: right;\">                0.22476 </td><td style=\"text-align: right;\">0.474089</td><td style=\"text-align: right;\">0.22476 </td><td style=\"text-align: right;\">0.298163</td><td style=\"text-align: right;\">0.133986</td></tr>\n",
       "<tr><td>GBM_grid__1_AutoML_20210705_162650_model_9         </td><td style=\"text-align: right;\">                0.224935</td><td style=\"text-align: right;\">0.474273</td><td style=\"text-align: right;\">0.224935</td><td style=\"text-align: right;\">0.296342</td><td style=\"text-align: right;\">0.134355</td></tr>\n",
       "<tr><td>XGBoost_grid__1_AutoML_20210705_162650_model_36    </td><td style=\"text-align: right;\">                0.225346</td><td style=\"text-align: right;\">0.474706</td><td style=\"text-align: right;\">0.225346</td><td style=\"text-align: right;\">0.300005</td><td style=\"text-align: right;\">0.133489</td></tr>\n",
       "<tr><td>XGBoost_grid__1_AutoML_20210705_162650_model_43    </td><td style=\"text-align: right;\">                0.226001</td><td style=\"text-align: right;\">0.475396</td><td style=\"text-align: right;\">0.226001</td><td style=\"text-align: right;\">0.297905</td><td style=\"text-align: right;\">0.133232</td></tr>\n",
       "<tr><td>XGBoost_grid__1_AutoML_20210705_162650_model_9     </td><td style=\"text-align: right;\">                0.226206</td><td style=\"text-align: right;\">0.475611</td><td style=\"text-align: right;\">0.226206</td><td style=\"text-align: right;\">0.298991</td><td style=\"text-align: right;\">0.132855</td></tr>\n",
       "<tr><td>XGBoost_grid__1_AutoML_20210705_162650_model_7     </td><td style=\"text-align: right;\">                0.226277</td><td style=\"text-align: right;\">0.475686</td><td style=\"text-align: right;\">0.226277</td><td style=\"text-align: right;\">0.297862</td><td style=\"text-align: right;\">0.134744</td></tr>\n",
       "<tr><td>XGBoost_grid__1_AutoML_20210705_162650_model_38    </td><td style=\"text-align: right;\">                0.226327</td><td style=\"text-align: right;\">0.475738</td><td style=\"text-align: right;\">0.226327</td><td style=\"text-align: right;\">0.30153 </td><td style=\"text-align: right;\">0.135208</td></tr>\n",
       "<tr><td>XGBoost_grid__1_AutoML_20210705_162650_model_32    </td><td style=\"text-align: right;\">                0.22637 </td><td style=\"text-align: right;\">0.475783</td><td style=\"text-align: right;\">0.22637 </td><td style=\"text-align: right;\">0.298062</td><td style=\"text-align: right;\">0.135863</td></tr>\n",
       "<tr><td>XGBoost_grid__1_AutoML_20210705_162650_model_39    </td><td style=\"text-align: right;\">                0.226677</td><td style=\"text-align: right;\">0.476106</td><td style=\"text-align: right;\">0.226677</td><td style=\"text-align: right;\">0.302249</td><td style=\"text-align: right;\">0.135027</td></tr>\n",
       "<tr><td>XGBoost_grid__1_AutoML_20210705_162650_model_15    </td><td style=\"text-align: right;\">                0.227033</td><td style=\"text-align: right;\">0.47648 </td><td style=\"text-align: right;\">0.227033</td><td style=\"text-align: right;\">0.301444</td><td style=\"text-align: right;\">0.134212</td></tr>\n",
       "<tr><td>XGBoost_grid__1_AutoML_20210705_162650_model_37    </td><td style=\"text-align: right;\">                0.227318</td><td style=\"text-align: right;\">0.476779</td><td style=\"text-align: right;\">0.227318</td><td style=\"text-align: right;\">0.302213</td><td style=\"text-align: right;\">0.133451</td></tr>\n",
       "<tr><td>XGBoost_grid__1_AutoML_20210705_162650_model_35    </td><td style=\"text-align: right;\">                0.227735</td><td style=\"text-align: right;\">0.477216</td><td style=\"text-align: right;\">0.227735</td><td style=\"text-align: right;\">0.30039 </td><td style=\"text-align: right;\">0.134821</td></tr>\n",
       "<tr><td>XGBoost_grid__1_AutoML_20210705_162650_model_13    </td><td style=\"text-align: right;\">                0.227972</td><td style=\"text-align: right;\">0.477464</td><td style=\"text-align: right;\">0.227972</td><td style=\"text-align: right;\">0.29415 </td><td style=\"text-align: right;\">0.131962</td></tr>\n",
       "<tr><td>XGBoost_3_AutoML_20210705_162650                   </td><td style=\"text-align: right;\">                0.228048</td><td style=\"text-align: right;\">0.477544</td><td style=\"text-align: right;\">0.228048</td><td style=\"text-align: right;\">0.297662</td><td style=\"text-align: right;\">0.134439</td></tr>\n",
       "<tr><td>XGBoost_grid__1_AutoML_20210705_162650_model_31    </td><td style=\"text-align: right;\">                0.228338</td><td style=\"text-align: right;\">0.477847</td><td style=\"text-align: right;\">0.228338</td><td style=\"text-align: right;\">0.304297</td><td style=\"text-align: right;\">0.134353</td></tr>\n",
       "<tr><td>XGBoost_grid__1_AutoML_20210705_162650_model_44    </td><td style=\"text-align: right;\">                0.229081</td><td style=\"text-align: right;\">0.478624</td><td style=\"text-align: right;\">0.229081</td><td style=\"text-align: right;\">0.302612</td><td style=\"text-align: right;\">0.134118</td></tr>\n",
       "<tr><td>XGBoost_grid__1_AutoML_20210705_162650_model_4     </td><td style=\"text-align: right;\">                0.229559</td><td style=\"text-align: right;\">0.479124</td><td style=\"text-align: right;\">0.229559</td><td style=\"text-align: right;\">0.29804 </td><td style=\"text-align: right;\">0.134361</td></tr>\n",
       "<tr><td>XGBoost_grid__1_AutoML_20210705_162650_model_47    </td><td style=\"text-align: right;\">                0.230187</td><td style=\"text-align: right;\">0.479778</td><td style=\"text-align: right;\">0.230187</td><td style=\"text-align: right;\">0.303877</td><td style=\"text-align: right;\">0.136506</td></tr>\n",
       "<tr><td>XGBoost_grid__1_AutoML_20210705_162650_model_30    </td><td style=\"text-align: right;\">                0.230589</td><td style=\"text-align: right;\">0.480197</td><td style=\"text-align: right;\">0.230589</td><td style=\"text-align: right;\">0.298308</td><td style=\"text-align: right;\">0.134992</td></tr>\n",
       "<tr><td>GBM_grid__1_AutoML_20210705_162650_model_6         </td><td style=\"text-align: right;\">                0.230728</td><td style=\"text-align: right;\">0.480342</td><td style=\"text-align: right;\">0.230728</td><td style=\"text-align: right;\">0.299635</td><td style=\"text-align: right;\">0.136162</td></tr>\n",
       "<tr><td>XGBoost_grid__1_AutoML_20210705_162650_model_46    </td><td style=\"text-align: right;\">                0.23143 </td><td style=\"text-align: right;\">0.481072</td><td style=\"text-align: right;\">0.23143 </td><td style=\"text-align: right;\">0.303857</td><td style=\"text-align: right;\">0.13808 </td></tr>\n",
       "<tr><td>XGBoost_grid__1_AutoML_20210705_162650_model_21    </td><td style=\"text-align: right;\">                0.232761</td><td style=\"text-align: right;\">0.482453</td><td style=\"text-align: right;\">0.232761</td><td style=\"text-align: right;\">0.30469 </td><td style=\"text-align: right;\">0.136484</td></tr>\n",
       "<tr><td>XGBoost_grid__1_AutoML_20210705_162650_model_29    </td><td style=\"text-align: right;\">                0.23328 </td><td style=\"text-align: right;\">0.482991</td><td style=\"text-align: right;\">0.23328 </td><td style=\"text-align: right;\">0.304417</td><td style=\"text-align: right;\">0.135256</td></tr>\n",
       "<tr><td>XGBoost_grid__1_AutoML_20210705_162650_model_41    </td><td style=\"text-align: right;\">                0.233428</td><td style=\"text-align: right;\">0.483144</td><td style=\"text-align: right;\">0.233428</td><td style=\"text-align: right;\">0.306114</td><td style=\"text-align: right;\">0.136011</td></tr>\n",
       "<tr><td>XGBoost_grid__1_AutoML_20210705_162650_model_18    </td><td style=\"text-align: right;\">                0.233759</td><td style=\"text-align: right;\">0.483487</td><td style=\"text-align: right;\">0.233759</td><td style=\"text-align: right;\">0.304336</td><td style=\"text-align: right;\">0.136521</td></tr>\n",
       "<tr><td>GBM_grid__1_AutoML_20210705_162650_model_12        </td><td style=\"text-align: right;\">                0.234506</td><td style=\"text-align: right;\">0.484258</td><td style=\"text-align: right;\">0.234506</td><td style=\"text-align: right;\">0.304906</td><td style=\"text-align: right;\">0.138516</td></tr>\n",
       "<tr><td>GBM_grid__1_AutoML_20210705_162650_model_17        </td><td style=\"text-align: right;\">                0.236887</td><td style=\"text-align: right;\">0.486711</td><td style=\"text-align: right;\">0.236887</td><td style=\"text-align: right;\">0.296462</td><td style=\"text-align: right;\">0.13325 </td></tr>\n",
       "<tr><td>GBM_grid__1_AutoML_20210705_162650_model_3         </td><td style=\"text-align: right;\">                0.23689 </td><td style=\"text-align: right;\">0.486713</td><td style=\"text-align: right;\">0.23689 </td><td style=\"text-align: right;\">0.297007</td><td style=\"text-align: right;\">0.133762</td></tr>\n",
       "<tr><td>GBM_5_AutoML_20210705_162650                       </td><td style=\"text-align: right;\">                0.237023</td><td style=\"text-align: right;\">0.486851</td><td style=\"text-align: right;\">0.237023</td><td style=\"text-align: right;\">0.293836</td><td style=\"text-align: right;\">0.132303</td></tr>\n",
       "<tr><td>XGBoost_grid__1_AutoML_20210705_162650_model_20    </td><td style=\"text-align: right;\">                0.237963</td><td style=\"text-align: right;\">0.487815</td><td style=\"text-align: right;\">0.237963</td><td style=\"text-align: right;\">0.301122</td><td style=\"text-align: right;\">0.134639</td></tr>\n",
       "<tr><td>XGBoost_2_AutoML_20210705_162650                   </td><td style=\"text-align: right;\">                0.239461</td><td style=\"text-align: right;\">0.489347</td><td style=\"text-align: right;\">0.239461</td><td style=\"text-align: right;\">0.311893</td><td style=\"text-align: right;\">0.140003</td></tr>\n",
       "<tr><td>XGBoost_1_AutoML_20210705_162650                   </td><td style=\"text-align: right;\">                0.239999</td><td style=\"text-align: right;\">0.489896</td><td style=\"text-align: right;\">0.239999</td><td style=\"text-align: right;\">0.30516 </td><td style=\"text-align: right;\">0.136404</td></tr>\n",
       "<tr><td>XGBoost_grid__1_AutoML_20210705_162650_model_11    </td><td style=\"text-align: right;\">                0.240123</td><td style=\"text-align: right;\">0.490024</td><td style=\"text-align: right;\">0.240123</td><td style=\"text-align: right;\">0.305956</td><td style=\"text-align: right;\">0.137251</td></tr>\n",
       "<tr><td>XGBoost_grid__1_AutoML_20210705_162650_model_5     </td><td style=\"text-align: right;\">                0.241161</td><td style=\"text-align: right;\">0.491082</td><td style=\"text-align: right;\">0.241161</td><td style=\"text-align: right;\">0.307037</td><td style=\"text-align: right;\">0.136942</td></tr>\n",
       "<tr><td>XGBoost_grid__1_AutoML_20210705_162650_model_26    </td><td style=\"text-align: right;\">                0.241177</td><td style=\"text-align: right;\">0.491097</td><td style=\"text-align: right;\">0.241177</td><td style=\"text-align: right;\">0.306309</td><td style=\"text-align: right;\">0.136499</td></tr>\n",
       "<tr><td>XGBoost_grid__1_AutoML_20210705_162650_model_33    </td><td style=\"text-align: right;\">                0.241411</td><td style=\"text-align: right;\">0.491335</td><td style=\"text-align: right;\">0.241411</td><td style=\"text-align: right;\">0.307312</td><td style=\"text-align: right;\">0.138975</td></tr>\n",
       "<tr><td>XGBoost_grid__1_AutoML_20210705_162650_model_17    </td><td style=\"text-align: right;\">                0.242295</td><td style=\"text-align: right;\">0.492235</td><td style=\"text-align: right;\">0.242295</td><td style=\"text-align: right;\">0.30501 </td><td style=\"text-align: right;\">0.137784</td></tr>\n",
       "<tr><td>XGBoost_grid__1_AutoML_20210705_162650_model_14    </td><td style=\"text-align: right;\">                0.242313</td><td style=\"text-align: right;\">0.492253</td><td style=\"text-align: right;\">0.242313</td><td style=\"text-align: right;\">0.308267</td><td style=\"text-align: right;\">0.138092</td></tr>\n",
       "<tr><td>XGBoost_grid__1_AutoML_20210705_162650_model_19    </td><td style=\"text-align: right;\">                0.243067</td><td style=\"text-align: right;\">0.493018</td><td style=\"text-align: right;\">0.243067</td><td style=\"text-align: right;\">0.309665</td><td style=\"text-align: right;\">0.137172</td></tr>\n",
       "<tr><td>XGBoost_grid__1_AutoML_20210705_162650_model_34    </td><td style=\"text-align: right;\">                0.243274</td><td style=\"text-align: right;\">0.493228</td><td style=\"text-align: right;\">0.243274</td><td style=\"text-align: right;\">0.311049</td><td style=\"text-align: right;\">0.13806 </td></tr>\n",
       "<tr><td>GBM_grid__1_AutoML_20210705_162650_model_5         </td><td style=\"text-align: right;\">                0.243778</td><td style=\"text-align: right;\">0.493739</td><td style=\"text-align: right;\">0.243778</td><td style=\"text-align: right;\">0.313724</td><td style=\"text-align: right;\">0.14115 </td></tr>\n",
       "<tr><td>XGBoost_grid__1_AutoML_20210705_162650_model_27    </td><td style=\"text-align: right;\">                0.247821</td><td style=\"text-align: right;\">0.497816</td><td style=\"text-align: right;\">0.247821</td><td style=\"text-align: right;\">0.314171</td><td style=\"text-align: right;\">0.141191</td></tr>\n",
       "<tr><td>XGBoost_grid__1_AutoML_20210705_162650_model_24    </td><td style=\"text-align: right;\">                0.250458</td><td style=\"text-align: right;\">0.500458</td><td style=\"text-align: right;\">0.250458</td><td style=\"text-align: right;\">0.314529</td><td style=\"text-align: right;\">0.140816</td></tr>\n",
       "<tr><td>XGBoost_grid__1_AutoML_20210705_162650_model_50    </td><td style=\"text-align: right;\">                0.253233</td><td style=\"text-align: right;\">0.503222</td><td style=\"text-align: right;\">0.253233</td><td style=\"text-align: right;\">0.312502</td><td style=\"text-align: right;\">0.140629</td></tr>\n",
       "<tr><td>XGBoost_grid__1_AutoML_20210705_162650_model_8     </td><td style=\"text-align: right;\">                0.260621</td><td style=\"text-align: right;\">0.510511</td><td style=\"text-align: right;\">0.260621</td><td style=\"text-align: right;\">0.323014</td><td style=\"text-align: right;\">0.143078</td></tr>\n",
       "<tr><td>XGBoost_grid__1_AutoML_20210705_162650_model_2     </td><td style=\"text-align: right;\">                0.262145</td><td style=\"text-align: right;\">0.512001</td><td style=\"text-align: right;\">0.262145</td><td style=\"text-align: right;\">0.322548</td><td style=\"text-align: right;\">0.144236</td></tr>\n",
       "<tr><td>XGBoost_grid__1_AutoML_20210705_162650_model_12    </td><td style=\"text-align: right;\">                0.264623</td><td style=\"text-align: right;\">0.514415</td><td style=\"text-align: right;\">0.264623</td><td style=\"text-align: right;\">0.328732</td><td style=\"text-align: right;\">0.145344</td></tr>\n",
       "<tr><td>DeepLearning_1_AutoML_20210705_162650              </td><td style=\"text-align: right;\">                0.311083</td><td style=\"text-align: right;\">0.557748</td><td style=\"text-align: right;\">0.311083</td><td style=\"text-align: right;\">0.344084</td><td style=\"text-align: right;\">0.158239</td></tr>\n",
       "<tr><td>DeepLearning_grid__2_AutoML_20210705_162650_model_1</td><td style=\"text-align: right;\">                0.329439</td><td style=\"text-align: right;\">0.573968</td><td style=\"text-align: right;\">0.329439</td><td style=\"text-align: right;\">0.358607</td><td style=\"text-align: right;\">0.165505</td></tr>\n",
       "<tr><td>DeepLearning_grid__1_AutoML_20210705_162650_model_1</td><td style=\"text-align: right;\">                0.352581</td><td style=\"text-align: right;\">0.593785</td><td style=\"text-align: right;\">0.352581</td><td style=\"text-align: right;\">0.353467</td><td style=\"text-align: right;\">0.172808</td></tr>\n",
       "<tr><td>GLM_1_AutoML_20210705_162650                       </td><td style=\"text-align: right;\">                0.361519</td><td style=\"text-align: right;\">0.601264</td><td style=\"text-align: right;\">0.361519</td><td style=\"text-align: right;\">0.391913</td><td style=\"text-align: right;\">0.180521</td></tr>\n",
       "<tr><td>DeepLearning_grid__1_AutoML_20210705_162650_model_3</td><td style=\"text-align: right;\">                0.364993</td><td style=\"text-align: right;\">0.604147</td><td style=\"text-align: right;\">0.364993</td><td style=\"text-align: right;\">0.359347</td><td style=\"text-align: right;\">0.165646</td></tr>\n",
       "<tr><td>DeepLearning_grid__1_AutoML_20210705_162650_model_5</td><td style=\"text-align: right;\">                0.366186</td><td style=\"text-align: right;\">0.605133</td><td style=\"text-align: right;\">0.366186</td><td style=\"text-align: right;\">0.380545</td><td style=\"text-align: right;\">0.180497</td></tr>\n",
       "<tr><td>DeepLearning_grid__1_AutoML_20210705_162650_model_2</td><td style=\"text-align: right;\">                0.375284</td><td style=\"text-align: right;\">0.612604</td><td style=\"text-align: right;\">0.375284</td><td style=\"text-align: right;\">0.369984</td><td style=\"text-align: right;\">0.181474</td></tr>\n",
       "<tr><td>DeepLearning_grid__1_AutoML_20210705_162650_model_4</td><td style=\"text-align: right;\">                0.378619</td><td style=\"text-align: right;\">0.61532 </td><td style=\"text-align: right;\">0.378619</td><td style=\"text-align: right;\">0.368103</td><td style=\"text-align: right;\">0.178169</td></tr>\n",
       "<tr><td>DeepLearning_grid__3_AutoML_20210705_162650_model_2</td><td style=\"text-align: right;\">                0.380576</td><td style=\"text-align: right;\">0.616909</td><td style=\"text-align: right;\">0.380576</td><td style=\"text-align: right;\">0.389379</td><td style=\"text-align: right;\">0.188553</td></tr>\n",
       "<tr><td>DeepLearning_grid__2_AutoML_20210705_162650_model_4</td><td style=\"text-align: right;\">                0.404791</td><td style=\"text-align: right;\">0.636232</td><td style=\"text-align: right;\">0.404791</td><td style=\"text-align: right;\">0.373749</td><td style=\"text-align: right;\">0.171683</td></tr>\n",
       "<tr><td>DeepLearning_grid__1_AutoML_20210705_162650_model_6</td><td style=\"text-align: right;\">                0.406443</td><td style=\"text-align: right;\">0.637529</td><td style=\"text-align: right;\">0.406443</td><td style=\"text-align: right;\">0.405576</td><td style=\"text-align: right;\">0.192964</td></tr>\n",
       "<tr><td>DeepLearning_grid__2_AutoML_20210705_162650_model_6</td><td style=\"text-align: right;\">                0.406847</td><td style=\"text-align: right;\">0.637846</td><td style=\"text-align: right;\">0.406847</td><td style=\"text-align: right;\">0.382537</td><td style=\"text-align: right;\">0.189231</td></tr>\n",
       "<tr><td>DeepLearning_grid__3_AutoML_20210705_162650_model_4</td><td style=\"text-align: right;\">                0.463927</td><td style=\"text-align: right;\">0.681122</td><td style=\"text-align: right;\">0.463927</td><td style=\"text-align: right;\">0.42821 </td><td style=\"text-align: right;\">0.193442</td></tr>\n",
       "<tr><td>DeepLearning_grid__3_AutoML_20210705_162650_model_6</td><td style=\"text-align: right;\">                0.465907</td><td style=\"text-align: right;\">0.682574</td><td style=\"text-align: right;\">0.465907</td><td style=\"text-align: right;\">0.416868</td><td style=\"text-align: right;\">0.206368</td></tr>\n",
       "<tr><td>DeepLearning_grid__3_AutoML_20210705_162650_model_5</td><td style=\"text-align: right;\">                0.513576</td><td style=\"text-align: right;\">0.716642</td><td style=\"text-align: right;\">0.513576</td><td style=\"text-align: right;\">0.424436</td><td style=\"text-align: right;\">0.193763</td></tr>\n",
       "<tr><td>DeepLearning_grid__2_AutoML_20210705_162650_model_3</td><td style=\"text-align: right;\">                0.525092</td><td style=\"text-align: right;\">0.724632</td><td style=\"text-align: right;\">0.525092</td><td style=\"text-align: right;\">0.533814</td><td style=\"text-align: right;\">0.23965 </td></tr>\n",
       "<tr><td>DeepLearning_grid__2_AutoML_20210705_162650_model_5</td><td style=\"text-align: right;\">                0.673241</td><td style=\"text-align: right;\">0.820513</td><td style=\"text-align: right;\">0.673241</td><td style=\"text-align: right;\">0.62495 </td><td style=\"text-align: right;\">0.271123</td></tr>\n",
       "<tr><td>DeepLearning_grid__2_AutoML_20210705_162650_model_2</td><td style=\"text-align: right;\">                1.04388 </td><td style=\"text-align: right;\">1.02171 </td><td style=\"text-align: right;\">1.04388 </td><td style=\"text-align: right;\">0.883331</td><td style=\"text-align: right;\">0.367674</td></tr>\n",
       "<tr><td>DeepLearning_grid__3_AutoML_20210705_162650_model_3</td><td style=\"text-align: right;\">                1.08984 </td><td style=\"text-align: right;\">1.04395 </td><td style=\"text-align: right;\">1.08984 </td><td style=\"text-align: right;\">0.883483</td><td style=\"text-align: right;\">0.381521</td></tr>\n",
       "<tr><td>DeepLearning_grid__3_AutoML_20210705_162650_model_1</td><td style=\"text-align: right;\">                1.14233 </td><td style=\"text-align: right;\">1.0688  </td><td style=\"text-align: right;\">1.14233 </td><td style=\"text-align: right;\">0.845464</td><td style=\"text-align: right;\">0.358281</td></tr>\n",
       "</tbody>\n",
       "</table>"
      ]
     },
     "metadata": {},
     "output_type": "display_data"
    },
    {
     "data": {
      "text/plain": []
     },
     "execution_count": 8,
     "metadata": {},
     "output_type": "execute_result"
    }
   ],
   "source": [
    "# View the AutoML Leaderboard\n",
    "lb = aml.leaderboard\n",
    "lb.head(rows=lb.nrows)  # Print all rows instead of default (10 rows)"
   ]
  },
  {
   "cell_type": "code",
   "execution_count": 9,
   "metadata": {},
   "outputs": [
    {
     "name": "stdout",
     "output_type": "stream",
     "text": [
      "Model Details\n",
      "=============\n",
      "H2OStackedEnsembleEstimator :  Stacked Ensemble\n",
      "Model Key:  StackedEnsemble_AllModels_AutoML_20210705_162650\n",
      "\n",
      "No model summary for this model\n",
      "\n",
      "ModelMetricsRegressionGLM: stackedensemble\n",
      "** Reported on train data. **\n",
      "\n",
      "MSE: 0.04001734233154152\n",
      "RMSE: 0.2000433511305525\n",
      "MAE: 0.13822104124482085\n",
      "RMSLE: 0.06418887763072893\n",
      "R^2: 0.9808879752142067\n",
      "Mean Residual Deviance: 0.04001734233154152\n",
      "Null degrees of freedom: 7110\n",
      "Residual degrees of freedom: 7093\n",
      "Null deviance: 14889.229399237676\n",
      "Residual deviance: 284.56332131959175\n",
      "AIC: -2668.199806555267\n",
      "\n",
      "ModelMetricsRegressionGLM: stackedensemble\n",
      "** Reported on cross-validation data. **\n",
      "\n",
      "MSE: 0.2019674197867671\n",
      "RMSE: 0.4494078546117848\n",
      "MAE: 0.27784410832195733\n",
      "RMSLE: 0.12485844500993311\n",
      "R^2: 0.9035416619897578\n",
      "Mean Residual Deviance: 0.2019674197867671\n",
      "Null degrees of freedom: 7110\n",
      "Residual degrees of freedom: 7092\n",
      "Null deviance: 14889.735004302205\n",
      "Residual deviance: 1436.190322103701\n",
      "AIC: 8845.040613833846\n"
     ]
    },
    {
     "data": {
      "text/plain": []
     },
     "execution_count": 9,
     "metadata": {},
     "output_type": "execute_result"
    }
   ],
   "source": [
    "# The leader model is stored here\n",
    "aml.leader"
   ]
  },
  {
   "cell_type": "code",
   "execution_count": 10,
   "metadata": {},
   "outputs": [
    {
     "name": "stdout",
     "output_type": "stream",
     "text": [
      "stackedensemble prediction progress: |████████████████████████████████████| 100%\n"
     ]
    }
   ],
   "source": [
    "# If you need to generate predictions on a test set, you can make\n",
    "# predictions directly on the `\"H2OAutoML\"` object, or on the leader\n",
    "# model object directly\n",
    "\n",
    "preds = aml.predict(test)"
   ]
  },
  {
   "cell_type": "code",
   "execution_count": 11,
   "metadata": {},
   "outputs": [],
   "source": [
    "sample_submission = pd.read_csv('../input/sample_submission.csv')\n",
    "sample_submission[y] = preds.as_data_frame().values.flatten()\n",
    "sample_submission.to_csv(f'../submissions/h2o_submission_{y}_1.csv', index=False)"
   ]
  },
  {
   "cell_type": "code",
   "execution_count": null,
   "metadata": {},
   "outputs": [],
   "source": []
  }
 ],
 "metadata": {
  "kernelspec": {
   "display_name": "Python 3",
   "language": "python",
   "name": "python3"
  },
  "language_info": {
   "codemirror_mode": {
    "name": "ipython",
    "version": 3
   },
   "file_extension": ".py",
   "mimetype": "text/x-python",
   "name": "python",
   "nbconvert_exporter": "python",
   "pygments_lexer": "ipython3",
   "version": "3.6.9"
  }
 },
 "nbformat": 4,
 "nbformat_minor": 2
}
