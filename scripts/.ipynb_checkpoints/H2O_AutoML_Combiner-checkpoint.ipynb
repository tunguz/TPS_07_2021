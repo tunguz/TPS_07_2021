{
 "cells": [
  {
   "cell_type": "code",
   "execution_count": 1,
   "metadata": {},
   "outputs": [],
   "source": [
    "import numpy as np\n",
    "import pandas as pd"
   ]
  },
  {
   "cell_type": "code",
   "execution_count": 2,
   "metadata": {},
   "outputs": [],
   "source": [
    "h2o_submission_target_benzene_1 = pd.read_csv('../submissions/h2o_submission_target_benzene_1.csv')\n",
    "h2o_submission_target_carbon_monoxide_1 = pd.read_csv('../submissions/h2o_submission_target_carbon_monoxide_1.csv')\n",
    "h2o_submission_target_nitrogen_oxides_1 = pd.read_csv('../submissions/h2o_submission_target_nitrogen_oxides_1.csv')"
   ]
  },
  {
   "cell_type": "code",
   "execution_count": 3,
   "metadata": {},
   "outputs": [
    {
     "data": {
      "text/html": [
       "<div>\n",
       "<style scoped>\n",
       "    .dataframe tbody tr th:only-of-type {\n",
       "        vertical-align: middle;\n",
       "    }\n",
       "\n",
       "    .dataframe tbody tr th {\n",
       "        vertical-align: top;\n",
       "    }\n",
       "\n",
       "    .dataframe thead th {\n",
       "        text-align: right;\n",
       "    }\n",
       "</style>\n",
       "<table border=\"1\" class=\"dataframe\">\n",
       "  <thead>\n",
       "    <tr style=\"text-align: right;\">\n",
       "      <th></th>\n",
       "      <th>date_time</th>\n",
       "      <th>target_carbon_monoxide</th>\n",
       "      <th>target_benzene</th>\n",
       "      <th>target_nitrogen_oxides</th>\n",
       "    </tr>\n",
       "  </thead>\n",
       "  <tbody>\n",
       "    <tr>\n",
       "      <th>0</th>\n",
       "      <td>2011-01-01 00:00:00</td>\n",
       "      <td>1.371859</td>\n",
       "      <td>5.162261</td>\n",
       "      <td>221.818874</td>\n",
       "    </tr>\n",
       "    <tr>\n",
       "      <th>1</th>\n",
       "      <td>2011-01-01 01:00:00</td>\n",
       "      <td>2.129047</td>\n",
       "      <td>8.725499</td>\n",
       "      <td>325.375222</td>\n",
       "    </tr>\n",
       "    <tr>\n",
       "      <th>2</th>\n",
       "      <td>2011-01-01 02:00:00</td>\n",
       "      <td>1.792321</td>\n",
       "      <td>7.938278</td>\n",
       "      <td>349.336905</td>\n",
       "    </tr>\n",
       "    <tr>\n",
       "      <th>3</th>\n",
       "      <td>2011-01-01 03:00:00</td>\n",
       "      <td>1.836218</td>\n",
       "      <td>8.657979</td>\n",
       "      <td>389.974845</td>\n",
       "    </tr>\n",
       "    <tr>\n",
       "      <th>4</th>\n",
       "      <td>2011-01-01 04:00:00</td>\n",
       "      <td>1.158169</td>\n",
       "      <td>6.658889</td>\n",
       "      <td>252.131954</td>\n",
       "    </tr>\n",
       "  </tbody>\n",
       "</table>\n",
       "</div>"
      ],
      "text/plain": [
       "             date_time  target_carbon_monoxide  target_benzene  \\\n",
       "0  2011-01-01 00:00:00                1.371859        5.162261   \n",
       "1  2011-01-01 01:00:00                2.129047        8.725499   \n",
       "2  2011-01-01 02:00:00                1.792321        7.938278   \n",
       "3  2011-01-01 03:00:00                1.836218        8.657979   \n",
       "4  2011-01-01 04:00:00                1.158169        6.658889   \n",
       "\n",
       "   target_nitrogen_oxides  \n",
       "0              221.818874  \n",
       "1              325.375222  \n",
       "2              349.336905  \n",
       "3              389.974845  \n",
       "4              252.131954  "
      ]
     },
     "execution_count": 3,
     "metadata": {},
     "output_type": "execute_result"
    }
   ],
   "source": [
    "submission = h2o_submission_target_benzene_1.copy()\n",
    "submission['target_carbon_monoxide'] = h2o_submission_target_carbon_monoxide_1['target_carbon_monoxide']\n",
    "submission['target_nitrogen_oxides'] = h2o_submission_target_nitrogen_oxides_1['target_nitrogen_oxides']\n",
    "submission.head()"
   ]
  },
  {
   "cell_type": "code",
   "execution_count": 4,
   "metadata": {},
   "outputs": [],
   "source": [
    "submission.to_csv('../submissions/submission_h2o_autoML_1.csv', index=False)"
   ]
  },
  {
   "cell_type": "code",
   "execution_count": null,
   "metadata": {},
   "outputs": [],
   "source": []
  }
 ],
 "metadata": {
  "kernelspec": {
   "display_name": "Python 3",
   "language": "python",
   "name": "python3"
  },
  "language_info": {
   "codemirror_mode": {
    "name": "ipython",
    "version": 3
   },
   "file_extension": ".py",
   "mimetype": "text/x-python",
   "name": "python",
   "nbconvert_exporter": "python",
   "pygments_lexer": "ipython3",
   "version": "3.6.9"
  }
 },
 "nbformat": 4,
 "nbformat_minor": 2
}
