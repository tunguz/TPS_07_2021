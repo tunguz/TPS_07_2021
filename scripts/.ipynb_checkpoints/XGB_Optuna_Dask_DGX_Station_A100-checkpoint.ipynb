{
 "cells": [
  {
   "cell_type": "code",
   "execution_count": 1,
   "id": "ff632f98-f6a4-4954-871d-48b81e5fb67c",
   "metadata": {},
   "outputs": [],
   "source": [
    "import os\n",
    "#os.environ[\"CUDA_DEVICE_ORDER\"]=\"PCI_BUS_ID\"\n",
    "#os.environ[\"CUDA_VISIBLE_DEVICES\"]=\"0, 1, 2, 4\""
   ]
  },
  {
   "cell_type": "code",
   "execution_count": 24,
   "id": "d4679f4d-c3ed-4335-ab03-62457282fdb7",
   "metadata": {},
   "outputs": [
    {
     "data": {
      "text/plain": [
       "'1.6.0rc1'"
      ]
     },
     "execution_count": 24,
     "metadata": {},
     "output_type": "execute_result"
    }
   ],
   "source": [
    "from dask.distributed import Client\n",
    "from dask_cuda import LocalCUDACluster\n",
    "from dask import dataframe as dd\n",
    "import pandas as pd\n",
    "import numpy as np\n",
    "import xgboost as xgb\n",
    "from sklearn.model_selection import KFold, train_test_split\n",
    "from sklearn.metrics import mean_squared_log_error\n",
    "import optuna\n",
    "import gc\n",
    "xgb.__version__"
   ]
  },
  {
   "cell_type": "code",
   "execution_count": 25,
   "id": "a54dbf0b-745c-4325-9bee-c1cd3699f92d",
   "metadata": {},
   "outputs": [],
   "source": [
    "train_x = dd.read_csv('../input/xgtrain_0.csv')\n",
    "test_x = dd.read_csv('../input/xgval_0.csv')"
   ]
  },
  {
   "cell_type": "code",
   "execution_count": 26,
   "id": "833db455-2f51-48d3-be10-bd1e17bb29b1",
   "metadata": {},
   "outputs": [],
   "source": [
    "train_y = train_x['target']\n",
    "train_x = train_x[train_x.columns.difference(['target'])]\n",
    "\n",
    "test_y = test_x['target']\n",
    "test_x = test_x[test_x.columns.difference(['target'])]"
   ]
  },
  {
   "cell_type": "code",
   "execution_count": 27,
   "id": "c1412eae-96f2-4907-9647-3464841ca3e4",
   "metadata": {},
   "outputs": [
    {
     "name": "stderr",
     "output_type": "stream",
     "text": [
      "/home/tunguz/.local/lib/python3.8/site-packages/distributed/node.py:180: UserWarning: Port 8787 is already in use.\n",
      "Perhaps you already have a cluster running?\n",
      "Hosting the HTTP server on port 44297 instead\n",
      "  warnings.warn(\n",
      "2022-05-12 13:38:11,813 - distributed.preloading - INFO - Import preload module: dask_cuda.initialize\n",
      "2022-05-12 13:38:11,825 - distributed.preloading - INFO - Import preload module: dask_cuda.initialize\n",
      "2022-05-12 13:38:11,846 - distributed.preloading - INFO - Import preload module: dask_cuda.initialize\n",
      "2022-05-12 13:38:11,850 - distributed.preloading - INFO - Import preload module: dask_cuda.initialize\n"
     ]
    }
   ],
   "source": [
    "cluster = LocalCUDACluster(CUDA_VISIBLE_DEVICES=[\"GPU-a19c00c3-2832-fe38-1c43-c18db3e909da\",\n",
    "                                                 \"GPU-58b97c92-e879-49d3-85b5-1d9615f10873\",\n",
    "                                                 \"GPU-d21cfed4-2e1a-f313-839c-ea008aca027a\",\n",
    "                                                 \"GPU-e3b349d7-ac6c-77ab-3564-ed9d05d50bac\"])\n",
    "client = Client(cluster)"
   ]
  },
  {
   "cell_type": "code",
   "execution_count": 28,
   "id": "8720d03e-fdd0-4130-97a7-2fbbcd09d027",
   "metadata": {},
   "outputs": [],
   "source": [
    "dtrain = xgb.dask.DaskDMatrix(client, train_x, train_y)\n",
    "dtest = xgb.dask.DaskDMatrix(client, test_x, test_y)"
   ]
  },
  {
   "cell_type": "code",
   "execution_count": null,
   "id": "8451a9b8-8578-4bce-b452-bf9009263caa",
   "metadata": {},
   "outputs": [],
   "source": []
  },
  {
   "cell_type": "code",
   "execution_count": 29,
   "id": "ee4d295d-abf5-4c51-8282-0c5d8a868ae8",
   "metadata": {},
   "outputs": [],
   "source": [
    "num_round = 1000\n",
    "\n",
    "def objective(trial):\n",
    "        \n",
    "    params = {\n",
    "        'objective': trial.suggest_categorical('objective',['reg:squarederror']), \n",
    "        'tree_method': trial.suggest_categorical('tree_method',['gpu_hist']),  # 'gpu_hist','hist'\n",
    "        'lambda': trial.suggest_loguniform('lambda',1e-3,10.0),\n",
    "        'alpha': trial.suggest_loguniform('alpha',1e-3,10.0),\n",
    "        'colsample_bytree': trial.suggest_uniform('colsample_bytree', 0.3,1.0),\n",
    "        'subsample': trial.suggest_uniform('subsample', 0.4, 1.0),\n",
    "        'learning_rate': trial.suggest_loguniform('learning_rate', 0.001,0.1),\n",
    "        #'n_estimators': trial.suggest_categorical('n_estimators', [1000]),\n",
    "        'max_depth': trial.suggest_categorical('max_depth', [3,5,7,9,11,13,15,17,20]),\n",
    "        #'random_state': trial.suggest_categorical('random_state', [24,48,2020]),\n",
    "        'min_child_weight': trial.suggest_int('min_child_weight', 1,300),\n",
    "        'eval_metric': trial.suggest_categorical('eval_metric',['rmse']),\n",
    "\n",
    "    }\n",
    "\n",
    "    output = xgb.dask.train(client, params, dtrain, num_round)\n",
    "    \n",
    "    booster = output['booster']  # booster is the trained model\n",
    "    booster.set_param({'predictor': 'gpu_predictor'})\n",
    "\n",
    "    predictions = xgb.dask.predict(client, booster, dtest)\n",
    "    \n",
    "    predictions = predictions.compute()\n",
    "    \n",
    "    predictions = np.clip(predictions, 0.12, None)\n",
    "\n",
    "    rmsle = mean_squared_log_error(test_y, predictions, squared=False)\n",
    "    \n",
    "    return rmsle"
   ]
  },
  {
   "cell_type": "code",
   "execution_count": 30,
   "id": "7c348b6e-7546-4a91-a7b6-89edf3488288",
   "metadata": {},
   "outputs": [
    {
     "name": "stderr",
     "output_type": "stream",
     "text": [
      "\u001b[32m[I 2022-05-12 13:38:13,805]\u001b[0m A new study created in memory with name: no-name-9cb21db6-f52e-4ebd-ae04-13c3edb55f72\u001b[0m\n"
     ]
    }
   ],
   "source": [
    "study = optuna.create_study(direction='minimize')"
   ]
  },
  {
   "cell_type": "code",
   "execution_count": 31,
   "id": "f6a909ec-6890-42fb-9cb2-fcb077a8b849",
   "metadata": {},
   "outputs": [
    {
     "name": "stderr",
     "output_type": "stream",
     "text": [
      "[13:38:14] task [xgboost.dask]:tcp://127.0.0.1:33033 got new rank 0\n",
      "\u001b[32m[I 2022-05-12 13:38:17,394]\u001b[0m Trial 0 finished with value: 0.1943629593317864 and parameters: {'objective': 'reg:squarederror', 'tree_method': 'gpu_hist', 'lambda': 2.8905479538914483, 'alpha': 0.33664051608014595, 'colsample_bytree': 0.4822018015433161, 'subsample': 0.6755708592188714, 'learning_rate': 0.09044449379217827, 'max_depth': 17, 'min_child_weight': 285, 'eval_metric': 'rmse'}. Best is trial 0 with value: 0.1943629593317864.\u001b[0m\n",
      "[13:38:17] task [xgboost.dask]:tcp://127.0.0.1:33033 got new rank 0\n",
      "\u001b[32m[I 2022-05-12 13:38:19,934]\u001b[0m Trial 1 finished with value: 0.2056777256169784 and parameters: {'objective': 'reg:squarederror', 'tree_method': 'gpu_hist', 'lambda': 0.2973644601761719, 'alpha': 3.2097376303622362, 'colsample_bytree': 0.6286006147393253, 'subsample': 0.6700012562377793, 'learning_rate': 0.0014180730709316535, 'max_depth': 17, 'min_child_weight': 237, 'eval_metric': 'rmse'}. Best is trial 0 with value: 0.1943629593317864.\u001b[0m\n",
      "[13:38:19] task [xgboost.dask]:tcp://127.0.0.1:33033 got new rank 0\n",
      "\u001b[32m[I 2022-05-12 13:38:20,934]\u001b[0m Trial 2 finished with value: 0.17756932596527455 and parameters: {'objective': 'reg:squarederror', 'tree_method': 'gpu_hist', 'lambda': 6.54748239061776, 'alpha': 0.6717040640942155, 'colsample_bytree': 0.35884670368928273, 'subsample': 0.4682400814520143, 'learning_rate': 0.08480849349354327, 'max_depth': 9, 'min_child_weight': 179, 'eval_metric': 'rmse'}. Best is trial 2 with value: 0.17756932596527455.\u001b[0m\n"
     ]
    },
    {
     "name": "stdout",
     "output_type": "stream",
     "text": [
      "CPU times: user 754 ms, sys: 541 ms, total: 1.3 s\n",
      "Wall time: 6.44 s\n"
     ]
    }
   ],
   "source": [
    "%%time\n",
    "study.optimize(objective, n_trials=3)"
   ]
  },
  {
   "cell_type": "code",
   "execution_count": 32,
   "id": "d7b68f5f-63da-4094-a6d6-9e2004028207",
   "metadata": {},
   "outputs": [
    {
     "name": "stderr",
     "output_type": "stream",
     "text": [
      "[13:38:23] task [xgboost.dask]:tcp://127.0.0.1:33033 got new rank 0\n",
      "\u001b[32m[I 2022-05-12 13:38:24,865]\u001b[0m Trial 3 finished with value: 0.18006588564038678 and parameters: {'objective': 'reg:squarederror', 'tree_method': 'gpu_hist', 'lambda': 0.03703545746837238, 'alpha': 0.05800293909685456, 'colsample_bytree': 0.7074504556541793, 'subsample': 0.7053057043799511, 'learning_rate': 0.07156951967566054, 'max_depth': 13, 'min_child_weight': 243, 'eval_metric': 'rmse'}. Best is trial 2 with value: 0.17756932596527455.\u001b[0m\n",
      "[13:38:24] task [xgboost.dask]:tcp://127.0.0.1:33033 got new rank 0\n",
      "\u001b[32m[I 2022-05-12 13:38:31,064]\u001b[0m Trial 4 finished with value: 0.12969033483634812 and parameters: {'objective': 'reg:squarederror', 'tree_method': 'gpu_hist', 'lambda': 0.08232481536879971, 'alpha': 2.0323962225395937, 'colsample_bytree': 0.9661293155727348, 'subsample': 0.5718113730311594, 'learning_rate': 0.004663140652711456, 'max_depth': 15, 'min_child_weight': 26, 'eval_metric': 'rmse'}. Best is trial 4 with value: 0.12969033483634812.\u001b[0m\n",
      "[13:38:31] task [xgboost.dask]:tcp://127.0.0.1:33033 got new rank 0\n",
      "\u001b[32m[I 2022-05-12 13:38:36,679]\u001b[0m Trial 5 finished with value: 0.15432692291483788 and parameters: {'objective': 'reg:squarederror', 'tree_method': 'gpu_hist', 'lambda': 0.08450355831087623, 'alpha': 9.606004117656939, 'colsample_bytree': 0.4891913828685701, 'subsample': 0.9391762389706864, 'learning_rate': 0.01460050454482747, 'max_depth': 20, 'min_child_weight': 159, 'eval_metric': 'rmse'}. Best is trial 4 with value: 0.12969033483634812.\u001b[0m\n",
      "[13:38:36] task [xgboost.dask]:tcp://127.0.0.1:33033 got new rank 0\n",
      "\u001b[32m[I 2022-05-12 13:38:38,388]\u001b[0m Trial 6 finished with value: 0.145864984612251 and parameters: {'objective': 'reg:squarederror', 'tree_method': 'gpu_hist', 'lambda': 0.47625660902967953, 'alpha': 7.454564630291847, 'colsample_bytree': 0.9981197248257114, 'subsample': 0.9204621381301495, 'learning_rate': 0.005923474465404724, 'max_depth': 5, 'min_child_weight': 136, 'eval_metric': 'rmse'}. Best is trial 4 with value: 0.12969033483634812.\u001b[0m\n",
      "[13:38:38] task [xgboost.dask]:tcp://127.0.0.1:33033 got new rank 0\n",
      "\u001b[32m[I 2022-05-12 13:38:46,435]\u001b[0m Trial 7 finished with value: 0.18897178534429318 and parameters: {'objective': 'reg:squarederror', 'tree_method': 'gpu_hist', 'lambda': 0.09716596624355059, 'alpha': 0.0017642413050597962, 'colsample_bytree': 0.5049375314609303, 'subsample': 0.6904303898370663, 'learning_rate': 0.0014731829274090176, 'max_depth': 20, 'min_child_weight': 97, 'eval_metric': 'rmse'}. Best is trial 4 with value: 0.12969033483634812.\u001b[0m\n",
      "[13:38:46] task [xgboost.dask]:tcp://127.0.0.1:33033 got new rank 0\n",
      "\u001b[32m[I 2022-05-12 13:38:48,379]\u001b[0m Trial 8 finished with value: 0.2806765793967097 and parameters: {'objective': 'reg:squarederror', 'tree_method': 'gpu_hist', 'lambda': 0.06371266102545628, 'alpha': 0.021359794443103586, 'colsample_bytree': 0.3210090374210851, 'subsample': 0.4530990492379377, 'learning_rate': 0.001029385523017209, 'max_depth': 17, 'min_child_weight': 237, 'eval_metric': 'rmse'}. Best is trial 4 with value: 0.12969033483634812.\u001b[0m\n",
      "[13:38:48] task [xgboost.dask]:tcp://127.0.0.1:33033 got new rank 0\n",
      "\u001b[32m[I 2022-05-12 13:38:51,916]\u001b[0m Trial 9 finished with value: 0.225913438143912 and parameters: {'objective': 'reg:squarederror', 'tree_method': 'gpu_hist', 'lambda': 0.5568562819913786, 'alpha': 0.0023494105933978583, 'colsample_bytree': 0.9939215120799478, 'subsample': 0.515864364193909, 'learning_rate': 0.0011256463696952001, 'max_depth': 13, 'min_child_weight': 81, 'eval_metric': 'rmse'}. Best is trial 4 with value: 0.12969033483634812.\u001b[0m\n",
      "[13:38:51] task [xgboost.dask]:tcp://127.0.0.1:33033 got new rank 0\n",
      "\u001b[32m[I 2022-05-12 13:39:06,092]\u001b[0m Trial 10 finished with value: 0.1251307144345306 and parameters: {'objective': 'reg:squarederror', 'tree_method': 'gpu_hist', 'lambda': 0.0039983281919243555, 'alpha': 1.191914715379126, 'colsample_bytree': 0.8251227437383526, 'subsample': 0.5744862196898062, 'learning_rate': 0.006227665613206053, 'max_depth': 15, 'min_child_weight': 8, 'eval_metric': 'rmse'}. Best is trial 10 with value: 0.1251307144345306.\u001b[0m\n",
      "[13:39:06] task [xgboost.dask]:tcp://127.0.0.1:33033 got new rank 0\n",
      "\u001b[32m[I 2022-05-12 13:39:21,915]\u001b[0m Trial 11 finished with value: 0.1255286144310454 and parameters: {'objective': 'reg:squarederror', 'tree_method': 'gpu_hist', 'lambda': 0.0017840414915987987, 'alpha': 1.0034160897024347, 'colsample_bytree': 0.8510932077868245, 'subsample': 0.5566390201755519, 'learning_rate': 0.005735825136975724, 'max_depth': 15, 'min_child_weight': 7, 'eval_metric': 'rmse'}. Best is trial 10 with value: 0.1251307144345306.\u001b[0m\n",
      "[13:39:21] task [xgboost.dask]:tcp://127.0.0.1:33033 got new rank 0\n",
      "\u001b[32m[I 2022-05-12 13:39:49,009]\u001b[0m Trial 12 finished with value: 0.12571933300558732 and parameters: {'objective': 'reg:squarederror', 'tree_method': 'gpu_hist', 'lambda': 0.001440158626917337, 'alpha': 0.3911814840526046, 'colsample_bytree': 0.8243410247153017, 'subsample': 0.5864591463938774, 'learning_rate': 0.015510913924188397, 'max_depth': 15, 'min_child_weight': 4, 'eval_metric': 'rmse'}. Best is trial 10 with value: 0.1251307144345306.\u001b[0m\n",
      "[13:39:49] task [xgboost.dask]:tcp://127.0.0.1:33033 got new rank 0\n",
      "\u001b[32m[I 2022-05-12 13:39:55,193]\u001b[0m Trial 13 finished with value: 0.13531709815655396 and parameters: {'objective': 'reg:squarederror', 'tree_method': 'gpu_hist', 'lambda': 0.0011090666984360782, 'alpha': 0.10923037014849167, 'colsample_bytree': 0.8379241429545135, 'subsample': 0.8058052482262634, 'learning_rate': 0.0038574016238521525, 'max_depth': 15, 'min_child_weight': 50, 'eval_metric': 'rmse'}. Best is trial 10 with value: 0.1251307144345306.\u001b[0m\n",
      "[13:39:55] task [xgboost.dask]:tcp://127.0.0.1:33033 got new rank 0\n",
      "\u001b[32m[I 2022-05-12 13:39:56,211]\u001b[0m Trial 14 finished with value: 0.13749668740226856 and parameters: {'objective': 'reg:squarederror', 'tree_method': 'gpu_hist', 'lambda': 0.007026354617259646, 'alpha': 1.2605631536476267, 'colsample_bytree': 0.8558419067979767, 'subsample': 0.5780883163550976, 'learning_rate': 0.03228040160873876, 'max_depth': 3, 'min_child_weight': 56, 'eval_metric': 'rmse'}. Best is trial 10 with value: 0.1251307144345306.\u001b[0m\n",
      "[13:39:56] task [xgboost.dask]:tcp://127.0.0.1:33033 got new rank 0\n",
      "\u001b[32m[I 2022-05-12 13:40:04,087]\u001b[0m Trial 15 finished with value: 0.13331851577087941 and parameters: {'objective': 'reg:squarederror', 'tree_method': 'gpu_hist', 'lambda': 0.00745098264895714, 'alpha': 0.1480028439447239, 'colsample_bytree': 0.7340049429338521, 'subsample': 0.814061484828714, 'learning_rate': 0.0028201196674155597, 'max_depth': 7, 'min_child_weight': 1, 'eval_metric': 'rmse'}. Best is trial 10 with value: 0.1251307144345306.\u001b[0m\n",
      "[13:40:04] task [xgboost.dask]:tcp://127.0.0.1:33033 got new rank 0\n",
      "\u001b[32m[I 2022-05-12 13:40:05,590]\u001b[0m Trial 16 finished with value: 0.15129900952504824 and parameters: {'objective': 'reg:squarederror', 'tree_method': 'gpu_hist', 'lambda': 0.004985968185945039, 'alpha': 0.03072177883026199, 'colsample_bytree': 0.8940538832120962, 'subsample': 0.42291890291184886, 'learning_rate': 0.008356826460236366, 'max_depth': 11, 'min_child_weight': 96, 'eval_metric': 'rmse'}. Best is trial 10 with value: 0.1251307144345306.\u001b[0m\n",
      "[13:40:05] task [xgboost.dask]:tcp://127.0.0.1:33033 got new rank 0\n",
      "\u001b[32m[I 2022-05-12 13:40:10,686]\u001b[0m Trial 17 finished with value: 0.14362525741082166 and parameters: {'objective': 'reg:squarederror', 'tree_method': 'gpu_hist', 'lambda': 0.019802261521685745, 'alpha': 0.9861789990167671, 'colsample_bytree': 0.7565379631938601, 'subsample': 0.6123806010865287, 'learning_rate': 0.0024776612446165158, 'max_depth': 15, 'min_child_weight': 41, 'eval_metric': 'rmse'}. Best is trial 10 with value: 0.1251307144345306.\u001b[0m\n"
     ]
    },
    {
     "name": "stdout",
     "output_type": "stream",
     "text": [
      "CPU times: user 11.2 s, sys: 5.04 s, total: 16.2 s\n",
      "Wall time: 1min 46s\n"
     ]
    }
   ],
   "source": [
    "%%time\n",
    "study.optimize(objective, n_trials=15)"
   ]
  },
  {
   "cell_type": "code",
   "execution_count": 33,
   "id": "a4ea5f19-d1cc-4855-a418-508b551f5ac0",
   "metadata": {},
   "outputs": [],
   "source": [
    "train_x = dd.read_csv('../input/xgtrain_1.csv')\n",
    "test_x = dd.read_csv('../input/xgval_1.csv')\n",
    "\n",
    "train_y = train_x['target']\n",
    "train_x = train_x[train_x.columns.difference(['target'])]\n",
    "\n",
    "test_y = test_x['target']\n",
    "test_x = test_x[test_x.columns.difference(['target'])]\n",
    "\n",
    "dtrain = xgb.dask.DaskDMatrix(client, train_x, train_y)\n",
    "dtest = xgb.dask.DaskDMatrix(client, test_x, test_y)"
   ]
  },
  {
   "cell_type": "code",
   "execution_count": 34,
   "id": "391785d0-304a-41b5-b13f-17dcfaac9c34",
   "metadata": {},
   "outputs": [
    {
     "name": "stderr",
     "output_type": "stream",
     "text": [
      "\u001b[32m[I 2022-05-12 13:40:41,563]\u001b[0m A new study created in memory with name: no-name-26e1c14e-f3e2-4e38-ad10-cc63543d5e63\u001b[0m\n"
     ]
    }
   ],
   "source": [
    "study = optuna.create_study(direction='minimize')"
   ]
  },
  {
   "cell_type": "code",
   "execution_count": 35,
   "id": "cbe6289b-86e9-4d56-8971-9665d8652246",
   "metadata": {},
   "outputs": [
    {
     "name": "stderr",
     "output_type": "stream",
     "text": [
      "[13:40:42] task [xgboost.dask]:tcp://127.0.0.1:41085 got new rank 0\n",
      "\u001b[32m[I 2022-05-12 13:40:43,827]\u001b[0m Trial 0 finished with value: 0.14955324414220167 and parameters: {'objective': 'reg:squarederror', 'tree_method': 'gpu_hist', 'lambda': 0.05712214128931429, 'alpha': 0.0031083208040796964, 'colsample_bytree': 0.4384384418983521, 'subsample': 0.5050665207470401, 'learning_rate': 0.012187960931748416, 'max_depth': 9, 'min_child_weight': 85, 'eval_metric': 'rmse'}. Best is trial 0 with value: 0.14955324414220167.\u001b[0m\n",
      "[13:40:43] task [xgboost.dask]:tcp://127.0.0.1:41085 got new rank 0\n",
      "\u001b[32m[I 2022-05-12 13:40:45,281]\u001b[0m Trial 1 finished with value: 0.17549204880117955 and parameters: {'objective': 'reg:squarederror', 'tree_method': 'gpu_hist', 'lambda': 0.7925675358326193, 'alpha': 0.0065090011972776625, 'colsample_bytree': 0.8542140857776161, 'subsample': 0.8776854270745142, 'learning_rate': 0.03779015312478453, 'max_depth': 17, 'min_child_weight': 231, 'eval_metric': 'rmse'}. Best is trial 0 with value: 0.14955324414220167.\u001b[0m\n",
      "[13:40:45] task [xgboost.dask]:tcp://127.0.0.1:41085 got new rank 0\n",
      "\u001b[32m[I 2022-05-12 13:40:49,004]\u001b[0m Trial 2 finished with value: 0.27947673194792283 and parameters: {'objective': 'reg:squarederror', 'tree_method': 'gpu_hist', 'lambda': 0.019721774982259088, 'alpha': 0.5140241529043381, 'colsample_bytree': 0.6199309127702004, 'subsample': 0.41363634743130673, 'learning_rate': 0.001258366244882844, 'max_depth': 9, 'min_child_weight': 49, 'eval_metric': 'rmse'}. Best is trial 0 with value: 0.14955324414220167.\u001b[0m\n"
     ]
    },
    {
     "name": "stdout",
     "output_type": "stream",
     "text": [
      "CPU times: user 897 ms, sys: 314 ms, total: 1.21 s\n",
      "Wall time: 6.72 s\n"
     ]
    }
   ],
   "source": [
    "%%time\n",
    "study.optimize(objective, n_trials=3)"
   ]
  },
  {
   "cell_type": "code",
   "execution_count": 36,
   "id": "e99bc4b3-29dc-4ad2-9725-f32025b834ae",
   "metadata": {},
   "outputs": [
    {
     "name": "stderr",
     "output_type": "stream",
     "text": [
      "[13:40:54] task [xgboost.dask]:tcp://127.0.0.1:41085 got new rank 0\n",
      "\u001b[32m[I 2022-05-12 13:40:56,127]\u001b[0m Trial 3 finished with value: 0.23352599555312775 and parameters: {'objective': 'reg:squarederror', 'tree_method': 'gpu_hist', 'lambda': 0.01811643629032782, 'alpha': 0.15214931481210697, 'colsample_bytree': 0.43867176061291974, 'subsample': 0.6481025569857708, 'learning_rate': 0.03307515246178771, 'max_depth': 17, 'min_child_weight': 187, 'eval_metric': 'rmse'}. Best is trial 0 with value: 0.14955324414220167.\u001b[0m\n",
      "[13:40:56] task [xgboost.dask]:tcp://127.0.0.1:41085 got new rank 0\n",
      "\u001b[32m[I 2022-05-12 13:40:58,301]\u001b[0m Trial 4 finished with value: 0.09644945801933723 and parameters: {'objective': 'reg:squarederror', 'tree_method': 'gpu_hist', 'lambda': 0.1590946768332015, 'alpha': 0.38767256583108983, 'colsample_bytree': 0.5745835291125709, 'subsample': 0.8823495449178121, 'learning_rate': 0.09833747527825465, 'max_depth': 9, 'min_child_weight': 33, 'eval_metric': 'rmse'}. Best is trial 4 with value: 0.09644945801933723.\u001b[0m\n",
      "[13:40:58] task [xgboost.dask]:tcp://127.0.0.1:41085 got new rank 0\n",
      "\u001b[32m[I 2022-05-12 13:40:59,207]\u001b[0m Trial 5 finished with value: 0.3067293725857464 and parameters: {'objective': 'reg:squarederror', 'tree_method': 'gpu_hist', 'lambda': 0.03640001758089719, 'alpha': 0.5686800596628824, 'colsample_bytree': 0.9515324392825368, 'subsample': 0.5803176533622181, 'learning_rate': 0.06032239442784846, 'max_depth': 13, 'min_child_weight': 291, 'eval_metric': 'rmse'}. Best is trial 4 with value: 0.09644945801933723.\u001b[0m\n",
      "[13:40:59] task [xgboost.dask]:tcp://127.0.0.1:41085 got new rank 0\n",
      "\u001b[32m[I 2022-05-12 13:41:00,668]\u001b[0m Trial 6 finished with value: 0.33887232675343326 and parameters: {'objective': 'reg:squarederror', 'tree_method': 'gpu_hist', 'lambda': 0.768637104609514, 'alpha': 0.017552496543700787, 'colsample_bytree': 0.4497301627969492, 'subsample': 0.4120087728703448, 'learning_rate': 0.017260287487423365, 'max_depth': 17, 'min_child_weight': 198, 'eval_metric': 'rmse'}. Best is trial 4 with value: 0.09644945801933723.\u001b[0m\n",
      "[13:41:00] task [xgboost.dask]:tcp://127.0.0.1:41085 got new rank 0\n",
      "\u001b[32m[I 2022-05-12 13:41:02,108]\u001b[0m Trial 7 finished with value: 0.11863101077152352 and parameters: {'objective': 'reg:squarederror', 'tree_method': 'gpu_hist', 'lambda': 0.0011067345368109727, 'alpha': 3.1745024058442337, 'colsample_bytree': 0.8377812314024806, 'subsample': 0.7942379625389133, 'learning_rate': 0.035142431364908806, 'max_depth': 7, 'min_child_weight': 98, 'eval_metric': 'rmse'}. Best is trial 4 with value: 0.09644945801933723.\u001b[0m\n",
      "[13:41:02] task [xgboost.dask]:tcp://127.0.0.1:41085 got new rank 0\n",
      "\u001b[32m[I 2022-05-12 13:41:03,978]\u001b[0m Trial 8 finished with value: 0.22234327955155928 and parameters: {'objective': 'reg:squarederror', 'tree_method': 'gpu_hist', 'lambda': 0.0017371416057314153, 'alpha': 0.7664653314168942, 'colsample_bytree': 0.5296114009900263, 'subsample': 0.956129660951535, 'learning_rate': 0.008553155978944854, 'max_depth': 17, 'min_child_weight': 252, 'eval_metric': 'rmse'}. Best is trial 4 with value: 0.09644945801933723.\u001b[0m\n",
      "[13:41:03] task [xgboost.dask]:tcp://127.0.0.1:41085 got new rank 0\n",
      "\u001b[32m[I 2022-05-12 13:41:05,160]\u001b[0m Trial 9 finished with value: 0.33195627165227687 and parameters: {'objective': 'reg:squarederror', 'tree_method': 'gpu_hist', 'lambda': 0.05800366031158522, 'alpha': 0.003908925148800026, 'colsample_bytree': 0.6669369950829956, 'subsample': 0.6640259785347378, 'learning_rate': 0.004431003614815711, 'max_depth': 5, 'min_child_weight': 293, 'eval_metric': 'rmse'}. Best is trial 4 with value: 0.09644945801933723.\u001b[0m\n",
      "[13:41:05] task [xgboost.dask]:tcp://127.0.0.1:41085 got new rank 0\n",
      "\u001b[32m[I 2022-05-12 13:41:07,900]\u001b[0m Trial 10 finished with value: 0.1098276613588643 and parameters: {'objective': 'reg:squarederror', 'tree_method': 'gpu_hist', 'lambda': 7.735791604395662, 'alpha': 0.04236892438074512, 'colsample_bytree': 0.32218717249519907, 'subsample': 0.7880660237422143, 'learning_rate': 0.08143825116654145, 'max_depth': 11, 'min_child_weight': 25, 'eval_metric': 'rmse'}. Best is trial 4 with value: 0.09644945801933723.\u001b[0m\n",
      "[13:41:07] task [xgboost.dask]:tcp://127.0.0.1:41085 got new rank 0\n",
      "\u001b[32m[I 2022-05-12 13:41:15,009]\u001b[0m Trial 11 finished with value: 0.10645127035679555 and parameters: {'objective': 'reg:squarederror', 'tree_method': 'gpu_hist', 'lambda': 9.349669807862602, 'alpha': 0.05086646962013898, 'colsample_bytree': 0.33911355968243895, 'subsample': 0.7929259652010076, 'learning_rate': 0.09955941049069374, 'max_depth': 11, 'min_child_weight': 15, 'eval_metric': 'rmse'}. Best is trial 4 with value: 0.09644945801933723.\u001b[0m\n",
      "[13:41:15] task [xgboost.dask]:tcp://127.0.0.1:41085 got new rank 0\n",
      "\u001b[32m[I 2022-05-12 13:41:32,054]\u001b[0m Trial 12 finished with value: 0.10809429184616447 and parameters: {'objective': 'reg:squarederror', 'tree_method': 'gpu_hist', 'lambda': 9.107938291386782, 'alpha': 0.10463012616715672, 'colsample_bytree': 0.3045258390410144, 'subsample': 0.9933579699582897, 'learning_rate': 0.08487472404573265, 'max_depth': 15, 'min_child_weight': 9, 'eval_metric': 'rmse'}. Best is trial 4 with value: 0.09644945801933723.\u001b[0m\n",
      "[13:41:32] task [xgboost.dask]:tcp://127.0.0.1:41085 got new rank 0\n",
      "\u001b[32m[I 2022-05-12 13:41:33,368]\u001b[0m Trial 13 finished with value: 0.12193348830416037 and parameters: {'objective': 'reg:squarederror', 'tree_method': 'gpu_hist', 'lambda': 0.5932222583349597, 'alpha': 3.907253850338912, 'colsample_bytree': 0.6896937411993589, 'subsample': 0.7833436762129435, 'learning_rate': 0.09308206038049069, 'max_depth': 11, 'min_child_weight': 106, 'eval_metric': 'rmse'}. Best is trial 4 with value: 0.09644945801933723.\u001b[0m\n",
      "[13:41:33] task [xgboost.dask]:tcp://127.0.0.1:41085 got new rank 0\n",
      "\u001b[32m[I 2022-05-12 13:41:42,885]\u001b[0m Trial 14 finished with value: 0.10658784504263384 and parameters: {'objective': 'reg:squarederror', 'tree_method': 'gpu_hist', 'lambda': 1.9305226981038401, 'alpha': 0.03137518779054971, 'colsample_bytree': 0.56992697216779, 'subsample': 0.8813444033407637, 'learning_rate': 0.0032296903077562956, 'max_depth': 20, 'min_child_weight': 58, 'eval_metric': 'rmse'}. Best is trial 4 with value: 0.09644945801933723.\u001b[0m\n",
      "[13:41:42] task [xgboost.dask]:tcp://127.0.0.1:41085 got new rank 0\n",
      "\u001b[32m[I 2022-05-12 13:41:43,734]\u001b[0m Trial 15 finished with value: 0.17244753413509353 and parameters: {'objective': 'reg:squarederror', 'tree_method': 'gpu_hist', 'lambda': 0.22368200343059927, 'alpha': 0.22767052836938068, 'colsample_bytree': 0.7431994753955204, 'subsample': 0.8822450749308077, 'learning_rate': 0.02004166808444757, 'max_depth': 3, 'min_child_weight': 144, 'eval_metric': 'rmse'}. Best is trial 4 with value: 0.09644945801933723.\u001b[0m\n",
      "[13:41:43] task [xgboost.dask]:tcp://127.0.0.1:41085 got new rank 0\n",
      "\u001b[32m[I 2022-05-12 13:42:00,235]\u001b[0m Trial 16 finished with value: 0.09529456179447723 and parameters: {'objective': 'reg:squarederror', 'tree_method': 'gpu_hist', 'lambda': 2.8191616879961376, 'alpha': 1.7885499167763668, 'colsample_bytree': 0.3783044424199026, 'subsample': 0.7299701945815156, 'learning_rate': 0.04990881530419972, 'max_depth': 11, 'min_child_weight': 2, 'eval_metric': 'rmse'}. Best is trial 16 with value: 0.09529456179447723.\u001b[0m\n",
      "[13:42:00] task [xgboost.dask]:tcp://127.0.0.1:41085 got new rank 0\n",
      "\u001b[32m[I 2022-05-12 13:42:01,508]\u001b[0m Trial 17 finished with value: 0.13813734740920017 and parameters: {'objective': 'reg:squarederror', 'tree_method': 'gpu_hist', 'lambda': 0.004952301475844142, 'alpha': 8.860550787121115, 'colsample_bytree': 0.5036527772877009, 'subsample': 0.7054804475841859, 'learning_rate': 0.050844593775798905, 'max_depth': 9, 'min_child_weight': 139, 'eval_metric': 'rmse'}. Best is trial 16 with value: 0.09529456179447723.\u001b[0m\n"
     ]
    },
    {
     "name": "stdout",
     "output_type": "stream",
     "text": [
      "CPU times: user 7.94 s, sys: 2.62 s, total: 10.6 s\n",
      "Wall time: 1min 6s\n"
     ]
    }
   ],
   "source": [
    "%%time\n",
    "study.optimize(objective, n_trials=15)"
   ]
  },
  {
   "cell_type": "code",
   "execution_count": 37,
   "id": "db71ed92-dce9-444b-9462-14eaf8d1f5f0",
   "metadata": {},
   "outputs": [],
   "source": [
    "def objective(trial):\n",
    "        \n",
    "    params = {\n",
    "        'objective': trial.suggest_categorical('objective',['reg:squarederror']), \n",
    "        'tree_method': trial.suggest_categorical('tree_method',['gpu_hist']),  # 'gpu_hist','hist'\n",
    "        'lambda': trial.suggest_loguniform('lambda',1e-3,10.0),\n",
    "        'alpha': trial.suggest_loguniform('alpha',1e-3,10.0),\n",
    "        'colsample_bytree': trial.suggest_uniform('colsample_bytree', 0.3,1.0),\n",
    "        'subsample': trial.suggest_uniform('subsample', 0.4, 1.0),\n",
    "        'learning_rate': trial.suggest_loguniform('learning_rate', 0.001,0.1),\n",
    "        #'n_estimators': trial.suggest_categorical('n_estimators', [1000]),\n",
    "        'max_depth': trial.suggest_categorical('max_depth', [3,5,7,9,11,13,15,17,20]),\n",
    "        #'random_state': trial.suggest_categorical('random_state', [24,48,2020]),\n",
    "        'min_child_weight': trial.suggest_int('min_child_weight', 1,300),\n",
    "        'eval_metric': trial.suggest_categorical('eval_metric',['rmse']),\n",
    "\n",
    "    }\n",
    "\n",
    "    output = xgb.dask.train(client, params, dtrain, num_round)\n",
    "    \n",
    "    booster = output['booster']  # booster is the trained model\n",
    "    booster.set_param({'predictor': 'gpu_predictor'})\n",
    "\n",
    "    predictions = xgb.dask.predict(client, booster, dtest)\n",
    "    \n",
    "    predictions = predictions.compute()\n",
    "    \n",
    "    predictions = np.clip(predictions, 2.50, None)\n",
    "\n",
    "    rmsle = mean_squared_log_error(test_y, predictions, squared=False)\n",
    "    \n",
    "    return rmsle"
   ]
  },
  {
   "cell_type": "code",
   "execution_count": 38,
   "id": "da64670d-6d10-4990-9093-ba56076cae33",
   "metadata": {},
   "outputs": [],
   "source": [
    "train_x = dd.read_csv('../input/xgtrain_2.csv')\n",
    "test_x = dd.read_csv('../input/xgval_2.csv')\n",
    "\n",
    "train_y = train_x['target']\n",
    "train_x = train_x[train_x.columns.difference(['target'])]\n",
    "\n",
    "test_y = test_x['target']\n",
    "test_x = test_x[test_x.columns.difference(['target'])]\n",
    "\n",
    "dtrain = xgb.dask.DaskDMatrix(client, train_x, train_y)\n",
    "dtest = xgb.dask.DaskDMatrix(client, test_x, test_y)"
   ]
  },
  {
   "cell_type": "code",
   "execution_count": 39,
   "id": "34d9df1f-1d3f-419d-90cb-ccfd3319158c",
   "metadata": {},
   "outputs": [
    {
     "name": "stderr",
     "output_type": "stream",
     "text": [
      "\u001b[32m[I 2022-05-12 13:43:24,039]\u001b[0m A new study created in memory with name: no-name-df13d2b2-0bed-4142-887d-4b1d1a06053f\u001b[0m\n"
     ]
    }
   ],
   "source": [
    "study = optuna.create_study(direction='minimize')"
   ]
  },
  {
   "cell_type": "code",
   "execution_count": 40,
   "id": "67c7087d-2a50-44ab-a221-d07ecc731008",
   "metadata": {},
   "outputs": [
    {
     "name": "stderr",
     "output_type": "stream",
     "text": [
      "[13:43:35] task [xgboost.dask]:tcp://127.0.0.1:33033 got new rank 0\n",
      "\u001b[32m[I 2022-05-12 13:43:37,063]\u001b[0m Trial 0 finished with value: 0.43837734985256377 and parameters: {'objective': 'reg:squarederror', 'tree_method': 'gpu_hist', 'lambda': 2.8438844479379846, 'alpha': 1.3828652151325207, 'colsample_bytree': 0.9826931936300745, 'subsample': 0.503545745096198, 'learning_rate': 0.0072964309844167, 'max_depth': 7, 'min_child_weight': 137, 'eval_metric': 'rmse'}. Best is trial 0 with value: 0.43837734985256377.\u001b[0m\n",
      "[13:43:37] task [xgboost.dask]:tcp://127.0.0.1:33033 got new rank 0\n",
      "\u001b[32m[I 2022-05-12 13:43:38,835]\u001b[0m Trial 1 finished with value: 0.5979920241097891 and parameters: {'objective': 'reg:squarederror', 'tree_method': 'gpu_hist', 'lambda': 0.03774197390988837, 'alpha': 0.006565594385780773, 'colsample_bytree': 0.5912482013352033, 'subsample': 0.5482690281325475, 'learning_rate': 0.0033041118916764625, 'max_depth': 17, 'min_child_weight': 288, 'eval_metric': 'rmse'}. Best is trial 0 with value: 0.43837734985256377.\u001b[0m\n",
      "[13:43:38] task [xgboost.dask]:tcp://127.0.0.1:33033 got new rank 0\n",
      "\u001b[32m[I 2022-05-12 13:43:39,724]\u001b[0m Trial 2 finished with value: 0.5308304996309356 and parameters: {'objective': 'reg:squarederror', 'tree_method': 'gpu_hist', 'lambda': 0.00559481666065743, 'alpha': 0.04799384987799394, 'colsample_bytree': 0.8773626109082522, 'subsample': 0.5196695431934562, 'learning_rate': 0.007859888659863718, 'max_depth': 3, 'min_child_weight': 214, 'eval_metric': 'rmse'}. Best is trial 0 with value: 0.43837734985256377.\u001b[0m\n"
     ]
    },
    {
     "name": "stdout",
     "output_type": "stream",
     "text": [
      "CPU times: user 733 ms, sys: 141 ms, total: 874 ms\n",
      "Wall time: 4.27 s\n"
     ]
    }
   ],
   "source": [
    "%%time\n",
    "study.optimize(objective, n_trials=3)"
   ]
  },
  {
   "cell_type": "code",
   "execution_count": 41,
   "id": "a1014e1a-9c63-418a-af0c-94a228f39695",
   "metadata": {},
   "outputs": [
    {
     "name": "stderr",
     "output_type": "stream",
     "text": [
      "[13:43:49] task [xgboost.dask]:tcp://127.0.0.1:33033 got new rank 0\n",
      "\u001b[32m[I 2022-05-12 13:43:50,228]\u001b[0m Trial 3 finished with value: 0.5607687155564576 and parameters: {'objective': 'reg:squarederror', 'tree_method': 'gpu_hist', 'lambda': 0.16694320340435903, 'alpha': 2.046901102435826, 'colsample_bytree': 0.7077055361896388, 'subsample': 0.6030265641365417, 'learning_rate': 0.010327900025591481, 'max_depth': 11, 'min_child_weight': 289, 'eval_metric': 'rmse'}. Best is trial 0 with value: 0.43837734985256377.\u001b[0m\n",
      "[13:43:50] task [xgboost.dask]:tcp://127.0.0.1:33033 got new rank 0\n",
      "\u001b[32m[I 2022-05-12 13:43:55,829]\u001b[0m Trial 4 finished with value: 0.3764866175645476 and parameters: {'objective': 'reg:squarederror', 'tree_method': 'gpu_hist', 'lambda': 0.11255172892735814, 'alpha': 0.05569792750956875, 'colsample_bytree': 0.7982863056659305, 'subsample': 0.9671230909904239, 'learning_rate': 0.0017571300193165067, 'max_depth': 17, 'min_child_weight': 94, 'eval_metric': 'rmse'}. Best is trial 4 with value: 0.3764866175645476.\u001b[0m\n",
      "[13:43:55] task [xgboost.dask]:tcp://127.0.0.1:33033 got new rank 0\n",
      "\u001b[32m[I 2022-05-12 13:43:56,582]\u001b[0m Trial 5 finished with value: 0.5015370439414142 and parameters: {'objective': 'reg:squarederror', 'tree_method': 'gpu_hist', 'lambda': 0.2178372677451683, 'alpha': 0.016218990799741855, 'colsample_bytree': 0.422557397863981, 'subsample': 0.943969863968538, 'learning_rate': 0.03847131518279712, 'max_depth': 3, 'min_child_weight': 197, 'eval_metric': 'rmse'}. Best is trial 4 with value: 0.3764866175645476.\u001b[0m\n",
      "[13:43:56] task [xgboost.dask]:tcp://127.0.0.1:33033 got new rank 0\n",
      "\u001b[32m[I 2022-05-12 13:43:57,432]\u001b[0m Trial 6 finished with value: 0.4744133410178666 and parameters: {'objective': 'reg:squarederror', 'tree_method': 'gpu_hist', 'lambda': 0.39829234753117343, 'alpha': 0.9166789175253425, 'colsample_bytree': 0.6164580774694752, 'subsample': 0.7256364003589789, 'learning_rate': 0.03444123369149496, 'max_depth': 5, 'min_child_weight': 177, 'eval_metric': 'rmse'}. Best is trial 4 with value: 0.3764866175645476.\u001b[0m\n",
      "[13:43:57] task [xgboost.dask]:tcp://127.0.0.1:33033 got new rank 0\n",
      "\u001b[32m[I 2022-05-12 13:43:59,605]\u001b[0m Trial 7 finished with value: 0.39935669660352197 and parameters: {'objective': 'reg:squarederror', 'tree_method': 'gpu_hist', 'lambda': 0.12661497267195848, 'alpha': 1.4593907996878541, 'colsample_bytree': 0.9673802085137009, 'subsample': 0.5330591856143251, 'learning_rate': 0.005737258232023817, 'max_depth': 7, 'min_child_weight': 79, 'eval_metric': 'rmse'}. Best is trial 4 with value: 0.3764866175645476.\u001b[0m\n",
      "[13:43:59] task [xgboost.dask]:tcp://127.0.0.1:33033 got new rank 0\n",
      "\u001b[32m[I 2022-05-12 13:44:00,485]\u001b[0m Trial 8 finished with value: 0.5355017919527626 and parameters: {'objective': 'reg:squarederror', 'tree_method': 'gpu_hist', 'lambda': 4.964838386364018, 'alpha': 0.01286740992708362, 'colsample_bytree': 0.5140326169020979, 'subsample': 0.5243802078814725, 'learning_rate': 0.030372821036825138, 'max_depth': 15, 'min_child_weight': 244, 'eval_metric': 'rmse'}. Best is trial 4 with value: 0.3764866175645476.\u001b[0m\n",
      "[13:44:00] task [xgboost.dask]:tcp://127.0.0.1:33033 got new rank 0\n",
      "\u001b[32m[I 2022-05-12 13:44:08,777]\u001b[0m Trial 9 finished with value: 0.401096749925381 and parameters: {'objective': 'reg:squarederror', 'tree_method': 'gpu_hist', 'lambda': 0.299087543794623, 'alpha': 2.5355915133499614, 'colsample_bytree': 0.3805465050463236, 'subsample': 0.9754437504930135, 'learning_rate': 0.004714210866749274, 'max_depth': 20, 'min_child_weight': 92, 'eval_metric': 'rmse'}. Best is trial 4 with value: 0.3764866175645476.\u001b[0m\n",
      "[13:44:08] task [xgboost.dask]:tcp://127.0.0.1:33033 got new rank 0\n",
      "\u001b[32m[I 2022-05-12 13:44:44,963]\u001b[0m Trial 10 finished with value: 0.453451815767731 and parameters: {'objective': 'reg:squarederror', 'tree_method': 'gpu_hist', 'lambda': 0.001339605813595188, 'alpha': 0.001034391450635088, 'colsample_bytree': 0.7529118334803183, 'subsample': 0.8145714378608876, 'learning_rate': 0.001103153366654012, 'max_depth': 13, 'min_child_weight': 8, 'eval_metric': 'rmse'}. Best is trial 4 with value: 0.3764866175645476.\u001b[0m\n",
      "[13:44:44] task [xgboost.dask]:tcp://127.0.0.1:33033 got new rank 0\n",
      "\u001b[32m[I 2022-05-12 13:44:50,328]\u001b[0m Trial 11 finished with value: 0.40898421011324027 and parameters: {'objective': 'reg:squarederror', 'tree_method': 'gpu_hist', 'lambda': 0.02279587146731437, 'alpha': 0.22104000767507698, 'colsample_bytree': 0.8611769501941089, 'subsample': 0.6725713523481172, 'learning_rate': 0.0013888549027988868, 'max_depth': 17, 'min_child_weight': 69, 'eval_metric': 'rmse'}. Best is trial 4 with value: 0.3764866175645476.\u001b[0m\n",
      "[13:44:50] task [xgboost.dask]:tcp://127.0.0.1:33033 got new rank 0\n",
      "\u001b[32m[I 2022-05-12 13:44:53,519]\u001b[0m Trial 12 finished with value: 0.3636646771684985 and parameters: {'objective': 'reg:squarederror', 'tree_method': 'gpu_hist', 'lambda': 1.0305851207165726, 'alpha': 8.442613078324738, 'colsample_bytree': 0.9687705315817068, 'subsample': 0.8513062460982109, 'learning_rate': 0.002492652193121156, 'max_depth': 7, 'min_child_weight': 81, 'eval_metric': 'rmse'}. Best is trial 12 with value: 0.3636646771684985.\u001b[0m\n",
      "[13:44:53] task [xgboost.dask]:tcp://127.0.0.1:33033 got new rank 0\n",
      "\u001b[32m[I 2022-05-12 13:45:07,892]\u001b[0m Trial 13 finished with value: 0.327967644786923 and parameters: {'objective': 'reg:squarederror', 'tree_method': 'gpu_hist', 'lambda': 1.0330135477666802, 'alpha': 0.19125744162429412, 'colsample_bytree': 0.820964360394452, 'subsample': 0.861571381414874, 'learning_rate': 0.002122863464809742, 'max_depth': 9, 'min_child_weight': 5, 'eval_metric': 'rmse'}. Best is trial 13 with value: 0.327967644786923.\u001b[0m\n",
      "[13:45:07] task [xgboost.dask]:tcp://127.0.0.1:33033 got new rank 0\n",
      "\u001b[32m[I 2022-05-12 13:45:17,814]\u001b[0m Trial 14 finished with value: 0.32560284892264624 and parameters: {'objective': 'reg:squarederror', 'tree_method': 'gpu_hist', 'lambda': 1.2283725606204539, 'alpha': 9.488595912936578, 'colsample_bytree': 0.8799222712156336, 'subsample': 0.8519822716813353, 'learning_rate': 0.0026482598260420404, 'max_depth': 9, 'min_child_weight': 15, 'eval_metric': 'rmse'}. Best is trial 14 with value: 0.32560284892264624.\u001b[0m\n",
      "[13:45:17] task [xgboost.dask]:tcp://127.0.0.1:33033 got new rank 0\n",
      "\u001b[32m[I 2022-05-12 13:45:23,547]\u001b[0m Trial 15 finished with value: 0.3885125719095316 and parameters: {'objective': 'reg:squarederror', 'tree_method': 'gpu_hist', 'lambda': 1.5904094763456609, 'alpha': 0.3109387590675549, 'colsample_bytree': 0.856889220256861, 'subsample': 0.8591251123055033, 'learning_rate': 0.09946893169622212, 'max_depth': 9, 'min_child_weight': 13, 'eval_metric': 'rmse'}. Best is trial 14 with value: 0.32560284892264624.\u001b[0m\n",
      "[13:45:23] task [xgboost.dask]:tcp://127.0.0.1:33033 got new rank 0\n",
      "\u001b[32m[I 2022-05-12 13:45:28,675]\u001b[0m Trial 16 finished with value: 0.34508939471370503 and parameters: {'objective': 'reg:squarederror', 'tree_method': 'gpu_hist', 'lambda': 6.594112624782727, 'alpha': 0.25870456618684756, 'colsample_bytree': 0.688424588611384, 'subsample': 0.7724240342184098, 'learning_rate': 0.002779648003541548, 'max_depth': 9, 'min_child_weight': 37, 'eval_metric': 'rmse'}. Best is trial 14 with value: 0.32560284892264624.\u001b[0m\n",
      "[13:45:28] task [xgboost.dask]:tcp://127.0.0.1:33033 got new rank 0\n",
      "\u001b[32m[I 2022-05-12 13:45:30,138]\u001b[0m Trial 17 finished with value: 0.4131475841027257 and parameters: {'objective': 'reg:squarederror', 'tree_method': 'gpu_hist', 'lambda': 0.7575133113691201, 'alpha': 9.685946017008048, 'colsample_bytree': 0.7805084281011804, 'subsample': 0.8935130984901128, 'learning_rate': 0.013186183575484149, 'max_depth': 9, 'min_child_weight': 134, 'eval_metric': 'rmse'}. Best is trial 14 with value: 0.32560284892264624.\u001b[0m\n"
     ]
    },
    {
     "name": "stdout",
     "output_type": "stream",
     "text": [
      "CPU times: user 11.1 s, sys: 4.4 s, total: 15.5 s\n",
      "Wall time: 1min 40s\n"
     ]
    }
   ],
   "source": [
    "%%time\n",
    "study.optimize(objective, n_trials=15)"
   ]
  },
  {
   "cell_type": "code",
   "execution_count": null,
   "id": "71d92450-6c5d-48da-a5f2-f4ea8ef838b1",
   "metadata": {},
   "outputs": [],
   "source": []
  }
 ],
 "metadata": {
  "kernelspec": {
   "display_name": "Python 3 (ipykernel)",
   "language": "python",
   "name": "python3"
  },
  "language_info": {
   "codemirror_mode": {
    "name": "ipython",
    "version": 3
   },
   "file_extension": ".py",
   "mimetype": "text/x-python",
   "name": "python",
   "nbconvert_exporter": "python",
   "pygments_lexer": "ipython3",
   "version": "3.8.10"
  }
 },
 "nbformat": 4,
 "nbformat_minor": 5
}
