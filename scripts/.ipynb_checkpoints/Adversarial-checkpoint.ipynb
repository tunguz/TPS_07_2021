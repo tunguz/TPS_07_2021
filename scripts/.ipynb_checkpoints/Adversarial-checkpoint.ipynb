{
 "cells": [
  {
   "cell_type": "code",
   "execution_count": 1,
   "id": "7a188a7e-de54-47d2-b29d-05db9f3a6acd",
   "metadata": {},
   "outputs": [
    {
     "name": "stdout",
     "output_type": "stream",
     "text": [
      "../input/sample_submission.csv\n",
      "../input/test.csv\n",
      "../input/train.csv\n"
     ]
    }
   ],
   "source": [
    "import numpy as np\n",
    "import pandas as pd\n",
    "from sklearn.model_selection import train_test_split\n",
    "from sklearn.metrics import roc_auc_score\n",
    "import shap\n",
    "import gc\n",
    "from random import shuffle\n",
    "from sklearn.preprocessing import LabelEncoder\n",
    "\n",
    "# Input data files are available in the read-only \"../input/\" directory\n",
    "# For example, running this (by clicking run or pressing Shift+Enter) will list all files under the input directory\n",
    "\n",
    "import os\n",
    "for dirname, _, filenames in os.walk('../input/'):\n",
    "    for filename in filenames:\n",
    "        print(os.path.join(dirname, filename))"
   ]
  },
  {
   "cell_type": "code",
   "execution_count": 2,
   "id": "92ee938a-9d32-4a6e-aa47-291ba6b02b81",
   "metadata": {},
   "outputs": [
    {
     "data": {
      "text/plain": [
       "'1.4.2'"
      ]
     },
     "execution_count": 2,
     "metadata": {},
     "output_type": "execute_result"
    }
   ],
   "source": [
    "import xgboost\n",
    "xgboost.__version__"
   ]
  },
  {
   "cell_type": "code",
   "execution_count": 3,
   "id": "c7d87f46-8e42-43d7-9e1c-a834cb57630f",
   "metadata": {},
   "outputs": [],
   "source": [
    "train = pd.read_csv('../input/train.csv')\n",
    "test = pd.read_csv('../input/test.csv')"
   ]
  },
  {
   "cell_type": "code",
   "execution_count": 4,
   "id": "13c7bb68-5170-4295-985e-0a25efc9616e",
   "metadata": {},
   "outputs": [
    {
     "data": {
      "text/html": [
       "<div>\n",
       "<style scoped>\n",
       "    .dataframe tbody tr th:only-of-type {\n",
       "        vertical-align: middle;\n",
       "    }\n",
       "\n",
       "    .dataframe tbody tr th {\n",
       "        vertical-align: top;\n",
       "    }\n",
       "\n",
       "    .dataframe thead th {\n",
       "        text-align: right;\n",
       "    }\n",
       "</style>\n",
       "<table border=\"1\" class=\"dataframe\">\n",
       "  <thead>\n",
       "    <tr style=\"text-align: right;\">\n",
       "      <th></th>\n",
       "      <th>date_time</th>\n",
       "      <th>deg_C</th>\n",
       "      <th>relative_humidity</th>\n",
       "      <th>absolute_humidity</th>\n",
       "      <th>sensor_1</th>\n",
       "      <th>sensor_2</th>\n",
       "      <th>sensor_3</th>\n",
       "      <th>sensor_4</th>\n",
       "      <th>sensor_5</th>\n",
       "      <th>target_carbon_monoxide</th>\n",
       "      <th>target_benzene</th>\n",
       "      <th>target_nitrogen_oxides</th>\n",
       "    </tr>\n",
       "  </thead>\n",
       "  <tbody>\n",
       "    <tr>\n",
       "      <th>0</th>\n",
       "      <td>2010-03-10 18:00:00</td>\n",
       "      <td>13.1</td>\n",
       "      <td>46.0</td>\n",
       "      <td>0.7578</td>\n",
       "      <td>1387.2</td>\n",
       "      <td>1087.8</td>\n",
       "      <td>1056.0</td>\n",
       "      <td>1742.8</td>\n",
       "      <td>1293.4</td>\n",
       "      <td>2.5</td>\n",
       "      <td>12.0</td>\n",
       "      <td>167.7</td>\n",
       "    </tr>\n",
       "    <tr>\n",
       "      <th>1</th>\n",
       "      <td>2010-03-10 19:00:00</td>\n",
       "      <td>13.2</td>\n",
       "      <td>45.3</td>\n",
       "      <td>0.7255</td>\n",
       "      <td>1279.1</td>\n",
       "      <td>888.2</td>\n",
       "      <td>1197.5</td>\n",
       "      <td>1449.9</td>\n",
       "      <td>1010.9</td>\n",
       "      <td>2.1</td>\n",
       "      <td>9.9</td>\n",
       "      <td>98.9</td>\n",
       "    </tr>\n",
       "    <tr>\n",
       "      <th>2</th>\n",
       "      <td>2010-03-10 20:00:00</td>\n",
       "      <td>12.6</td>\n",
       "      <td>56.2</td>\n",
       "      <td>0.7502</td>\n",
       "      <td>1331.9</td>\n",
       "      <td>929.6</td>\n",
       "      <td>1060.2</td>\n",
       "      <td>1586.1</td>\n",
       "      <td>1117.0</td>\n",
       "      <td>2.2</td>\n",
       "      <td>9.2</td>\n",
       "      <td>127.1</td>\n",
       "    </tr>\n",
       "    <tr>\n",
       "      <th>3</th>\n",
       "      <td>2010-03-10 21:00:00</td>\n",
       "      <td>11.0</td>\n",
       "      <td>62.4</td>\n",
       "      <td>0.7867</td>\n",
       "      <td>1321.0</td>\n",
       "      <td>929.0</td>\n",
       "      <td>1102.9</td>\n",
       "      <td>1536.5</td>\n",
       "      <td>1263.2</td>\n",
       "      <td>2.2</td>\n",
       "      <td>9.7</td>\n",
       "      <td>177.2</td>\n",
       "    </tr>\n",
       "    <tr>\n",
       "      <th>4</th>\n",
       "      <td>2010-03-10 22:00:00</td>\n",
       "      <td>11.9</td>\n",
       "      <td>59.0</td>\n",
       "      <td>0.7888</td>\n",
       "      <td>1272.0</td>\n",
       "      <td>852.7</td>\n",
       "      <td>1180.9</td>\n",
       "      <td>1415.5</td>\n",
       "      <td>1132.2</td>\n",
       "      <td>1.5</td>\n",
       "      <td>6.4</td>\n",
       "      <td>121.8</td>\n",
       "    </tr>\n",
       "  </tbody>\n",
       "</table>\n",
       "</div>"
      ],
      "text/plain": [
       "             date_time  deg_C  relative_humidity  absolute_humidity  sensor_1  \\\n",
       "0  2010-03-10 18:00:00   13.1               46.0             0.7578    1387.2   \n",
       "1  2010-03-10 19:00:00   13.2               45.3             0.7255    1279.1   \n",
       "2  2010-03-10 20:00:00   12.6               56.2             0.7502    1331.9   \n",
       "3  2010-03-10 21:00:00   11.0               62.4             0.7867    1321.0   \n",
       "4  2010-03-10 22:00:00   11.9               59.0             0.7888    1272.0   \n",
       "\n",
       "   sensor_2  sensor_3  sensor_4  sensor_5  target_carbon_monoxide  \\\n",
       "0    1087.8    1056.0    1742.8    1293.4                     2.5   \n",
       "1     888.2    1197.5    1449.9    1010.9                     2.1   \n",
       "2     929.6    1060.2    1586.1    1117.0                     2.2   \n",
       "3     929.0    1102.9    1536.5    1263.2                     2.2   \n",
       "4     852.7    1180.9    1415.5    1132.2                     1.5   \n",
       "\n",
       "   target_benzene  target_nitrogen_oxides  \n",
       "0            12.0                   167.7  \n",
       "1             9.9                    98.9  \n",
       "2             9.2                   127.1  \n",
       "3             9.7                   177.2  \n",
       "4             6.4                   121.8  "
      ]
     },
     "execution_count": 4,
     "metadata": {},
     "output_type": "execute_result"
    }
   ],
   "source": [
    "train.head()"
   ]
  },
  {
   "cell_type": "code",
   "execution_count": 5,
   "id": "2d8dca8f-79fc-4ad6-8037-4394bddfe2e2",
   "metadata": {},
   "outputs": [
    {
     "data": {
      "text/html": [
       "<div>\n",
       "<style scoped>\n",
       "    .dataframe tbody tr th:only-of-type {\n",
       "        vertical-align: middle;\n",
       "    }\n",
       "\n",
       "    .dataframe tbody tr th {\n",
       "        vertical-align: top;\n",
       "    }\n",
       "\n",
       "    .dataframe thead th {\n",
       "        text-align: right;\n",
       "    }\n",
       "</style>\n",
       "<table border=\"1\" class=\"dataframe\">\n",
       "  <thead>\n",
       "    <tr style=\"text-align: right;\">\n",
       "      <th></th>\n",
       "      <th>date_time</th>\n",
       "      <th>deg_C</th>\n",
       "      <th>relative_humidity</th>\n",
       "      <th>absolute_humidity</th>\n",
       "      <th>sensor_1</th>\n",
       "      <th>sensor_2</th>\n",
       "      <th>sensor_3</th>\n",
       "      <th>sensor_4</th>\n",
       "      <th>sensor_5</th>\n",
       "    </tr>\n",
       "  </thead>\n",
       "  <tbody>\n",
       "    <tr>\n",
       "      <th>0</th>\n",
       "      <td>2011-01-01 00:00:00</td>\n",
       "      <td>8.0</td>\n",
       "      <td>41.3</td>\n",
       "      <td>0.4375</td>\n",
       "      <td>1108.8</td>\n",
       "      <td>745.7</td>\n",
       "      <td>797.1</td>\n",
       "      <td>880.0</td>\n",
       "      <td>1273.1</td>\n",
       "    </tr>\n",
       "    <tr>\n",
       "      <th>1</th>\n",
       "      <td>2011-01-01 01:00:00</td>\n",
       "      <td>5.1</td>\n",
       "      <td>51.7</td>\n",
       "      <td>0.4564</td>\n",
       "      <td>1249.5</td>\n",
       "      <td>864.9</td>\n",
       "      <td>687.9</td>\n",
       "      <td>972.8</td>\n",
       "      <td>1714.0</td>\n",
       "    </tr>\n",
       "    <tr>\n",
       "      <th>2</th>\n",
       "      <td>2011-01-01 02:00:00</td>\n",
       "      <td>5.8</td>\n",
       "      <td>51.5</td>\n",
       "      <td>0.4689</td>\n",
       "      <td>1102.6</td>\n",
       "      <td>878.0</td>\n",
       "      <td>693.7</td>\n",
       "      <td>941.9</td>\n",
       "      <td>1300.8</td>\n",
       "    </tr>\n",
       "    <tr>\n",
       "      <th>3</th>\n",
       "      <td>2011-01-01 03:00:00</td>\n",
       "      <td>5.0</td>\n",
       "      <td>52.3</td>\n",
       "      <td>0.4693</td>\n",
       "      <td>1139.7</td>\n",
       "      <td>916.2</td>\n",
       "      <td>725.6</td>\n",
       "      <td>1011.0</td>\n",
       "      <td>1283.0</td>\n",
       "    </tr>\n",
       "    <tr>\n",
       "      <th>4</th>\n",
       "      <td>2011-01-01 04:00:00</td>\n",
       "      <td>4.5</td>\n",
       "      <td>57.5</td>\n",
       "      <td>0.4650</td>\n",
       "      <td>1022.4</td>\n",
       "      <td>838.5</td>\n",
       "      <td>871.5</td>\n",
       "      <td>967.0</td>\n",
       "      <td>1142.3</td>\n",
       "    </tr>\n",
       "  </tbody>\n",
       "</table>\n",
       "</div>"
      ],
      "text/plain": [
       "             date_time  deg_C  relative_humidity  absolute_humidity  sensor_1  \\\n",
       "0  2011-01-01 00:00:00    8.0               41.3             0.4375    1108.8   \n",
       "1  2011-01-01 01:00:00    5.1               51.7             0.4564    1249.5   \n",
       "2  2011-01-01 02:00:00    5.8               51.5             0.4689    1102.6   \n",
       "3  2011-01-01 03:00:00    5.0               52.3             0.4693    1139.7   \n",
       "4  2011-01-01 04:00:00    4.5               57.5             0.4650    1022.4   \n",
       "\n",
       "   sensor_2  sensor_3  sensor_4  sensor_5  \n",
       "0     745.7     797.1     880.0    1273.1  \n",
       "1     864.9     687.9     972.8    1714.0  \n",
       "2     878.0     693.7     941.9    1300.8  \n",
       "3     916.2     725.6    1011.0    1283.0  \n",
       "4     838.5     871.5     967.0    1142.3  "
      ]
     },
     "execution_count": 5,
     "metadata": {},
     "output_type": "execute_result"
    }
   ],
   "source": [
    "test.head()"
   ]
  },
  {
   "cell_type": "code",
   "execution_count": 6,
   "id": "f8e6b3bd-65ae-4058-844d-6963946b9ca4",
   "metadata": {},
   "outputs": [
    {
     "data": {
      "text/plain": [
       "Index(['deg_C', 'relative_humidity', 'absolute_humidity', 'sensor_1',\n",
       "       'sensor_2', 'sensor_3', 'sensor_4', 'sensor_5'],\n",
       "      dtype='object')"
      ]
     },
     "execution_count": 6,
     "metadata": {},
     "output_type": "execute_result"
    }
   ],
   "source": [
    "columns = test.columns[1:]\n",
    "columns"
   ]
  },
  {
   "cell_type": "code",
   "execution_count": 7,
   "id": "91c85091-7ef7-4315-aa42-d9ae3e643028",
   "metadata": {},
   "outputs": [],
   "source": [
    "target = np.hstack([np.ones(train.shape[0]), np.zeros(test.shape[0])])"
   ]
  },
  {
   "cell_type": "code",
   "execution_count": 8,
   "id": "3ff1832f-2994-4b3a-b1a1-e138be4ab8e7",
   "metadata": {},
   "outputs": [],
   "source": [
    "train_test = np.vstack([train[columns].values, test[columns].values])"
   ]
  },
  {
   "cell_type": "code",
   "execution_count": 9,
   "id": "743d988b-da78-4aa8-8d91-effc0cee2cd6",
   "metadata": {},
   "outputs": [
    {
     "data": {
      "text/plain": [
       "(9358, 8)"
      ]
     },
     "execution_count": 9,
     "metadata": {},
     "output_type": "execute_result"
    }
   ],
   "source": [
    "train_test.shape"
   ]
  },
  {
   "cell_type": "code",
   "execution_count": 10,
   "id": "ebd2c8ef-d9fc-4a77-88b8-14193c2c3b9e",
   "metadata": {},
   "outputs": [],
   "source": [
    "index = list(range(train_test.shape[0]))\n",
    "shuffle(index)"
   ]
  },
  {
   "cell_type": "code",
   "execution_count": 11,
   "id": "38fd13b6-3211-43d7-96e1-6817856d6454",
   "metadata": {},
   "outputs": [],
   "source": [
    "train_test = train_test[index, :]\n",
    "target = target[index]"
   ]
  },
  {
   "cell_type": "code",
   "execution_count": 12,
   "id": "775a4e1c-aeba-4c68-bd97-5b0885f54d77",
   "metadata": {},
   "outputs": [],
   "source": [
    "train_test = train_test.astype(np.float)\n"
   ]
  },
  {
   "cell_type": "code",
   "execution_count": 13,
   "id": "58af8ffb-1811-4022-92e5-757bcc218f6b",
   "metadata": {},
   "outputs": [],
   "source": [
    "train, test, y_train, y_test = train_test_split(train_test, target, test_size=0.33, random_state=42)"
   ]
  },
  {
   "cell_type": "code",
   "execution_count": 14,
   "id": "82393310-4b13-4c96-91e3-f0a645d5ec2d",
   "metadata": {},
   "outputs": [],
   "source": [
    "train = xgboost.DMatrix(train, label=y_train)\n",
    "val = xgboost.DMatrix(test, label=y_test)"
   ]
  },
  {
   "cell_type": "code",
   "execution_count": 89,
   "id": "5ae371ed-8ed4-41fe-8017-3e9876d6f6af",
   "metadata": {},
   "outputs": [
    {
     "name": "stdout",
     "output_type": "stream",
     "text": [
      "CPU times: user 2.91 s, sys: 15.9 ms, total: 2.92 s\n",
      "Wall time: 2.93 s\n"
     ]
    }
   ],
   "source": [
    "%%time\n",
    "param = {\n",
    "    'eta': 0.02,\n",
    "    'max_depth': 5,\n",
    "    'subsample': 0.8,\n",
    "    'colsample_bytree': 0.8,\n",
    "    'objective': 'reg:logistic',\n",
    "    'eval_metric': 'auc',\n",
    "    'tree_method': 'gpu_hist', \n",
    "    'predictor': 'gpu_predictor'\n",
    "}\n",
    "clf = xgboost.train(param, train, 2500)"
   ]
  },
  {
   "cell_type": "code",
   "execution_count": 90,
   "id": "e57accbb-bfe9-458a-92e6-6cc5c8fecae8",
   "metadata": {},
   "outputs": [
    {
     "data": {
      "text/plain": [
       "0.9898333614817317"
      ]
     },
     "execution_count": 90,
     "metadata": {},
     "output_type": "execute_result"
    }
   ],
   "source": [
    "preds = clf.predict(val)\n",
    "roc_auc_score(y_test, preds)\n"
   ]
  },
  {
   "cell_type": "markdown",
   "id": "8eb39c3c-e793-44b9-b33c-15e5cdcc5583",
   "metadata": {},
   "source": [
    "This is a rather significant AUC. It indicates that there is a significant shift in many of the variables. Let us look what variables are the most distinct between the train and test sets."
   ]
  },
  {
   "cell_type": "code",
   "execution_count": 57,
   "id": "00690f0c-d743-46c8-a1c8-6533837f1c86",
   "metadata": {},
   "outputs": [
    {
     "name": "stdout",
     "output_type": "stream",
     "text": [
      "CPU times: user 92.6 ms, sys: 8.09 ms, total: 101 ms\n",
      "Wall time: 99.6 ms\n"
     ]
    }
   ],
   "source": [
    "%%time\n",
    "shap_preds = clf.predict(val, pred_contribs=True) "
   ]
  },
  {
   "cell_type": "code",
   "execution_count": 58,
   "id": "f149a2d6-29ad-40a6-a3cf-4994c5a0268c",
   "metadata": {},
   "outputs": [
    {
     "data": {
      "image/png": "[encoded data removed]",
      "text/plain": [
       "<Figure size 576x338.4 with 2 Axes>"
      ]
     },
     "metadata": {
      "needs_background": "light"
     },
     "output_type": "display_data"
    }
   ],
   "source": [
    "shap.summary_plot(shap_preds[:,:-1], pd.DataFrame(test, columns=columns))"
   ]
  },
  {
   "cell_type": "markdown",
   "id": "d9dda014-2cb6-452f-8d91-6f0146a17b80",
   "metadata": {},
   "source": [
    "Looks like Sensor 3 data is the most different between the train and test sets. "
   ]
  },
  {
   "cell_type": "code",
   "execution_count": null,
   "id": "854eac2a-d235-4848-9aab-373315e65e64",
   "metadata": {},
   "outputs": [],
   "source": []
  }
 ],
 "metadata": {
  "kernelspec": {
   "display_name": "Python 3",
   "language": "python",
   "name": "python3"
  },
  "language_info": {
   "codemirror_mode": {
    "name": "ipython",
    "version": 3
   },
   "file_extension": ".py",
   "mimetype": "text/x-python",
   "name": "python",
   "nbconvert_exporter": "python",
   "pygments_lexer": "ipython3",
   "version": "3.8.10"
  }
 },
 "nbformat": 4,
 "nbformat_minor": 5
}
