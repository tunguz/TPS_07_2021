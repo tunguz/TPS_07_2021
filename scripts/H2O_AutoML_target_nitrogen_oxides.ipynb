{
 "cells": [
  {
   "cell_type": "code",
   "execution_count": 1,
   "metadata": {},
   "outputs": [],
   "source": [
    "import h2o\n",
    "import pandas as pd"
   ]
  },
  {
   "cell_type": "code",
   "execution_count": 2,
   "metadata": {},
   "outputs": [
    {
     "name": "stdout",
     "output_type": "stream",
     "text": [
      "Checking whether there is an H2O instance running at http://localhost:54321 ..... not found.\n",
      "Attempting to start a local H2O server...\n",
      "  Java Version: openjdk version \"11.0.11\" 2021-04-20; OpenJDK Runtime Environment (build 11.0.11+9-Ubuntu-0ubuntu2.18.04); OpenJDK 64-Bit Server VM (build 11.0.11+9-Ubuntu-0ubuntu2.18.04, mixed mode, sharing)\n",
      "  Starting server from /home/tunguz/.local/lib/python3.6/site-packages/h2o/backend/bin/h2o.jar\n",
      "  Ice root: /tmp/tmp2siro5pm\n",
      "  JVM stdout: /tmp/tmp2siro5pm/h2o_tunguz_started_from_python.out\n",
      "  JVM stderr: /tmp/tmp2siro5pm/h2o_tunguz_started_from_python.err\n",
      "  Server is running at http://127.0.0.1:54321\n",
      "Connecting to H2O server at http://127.0.0.1:54321 ... successful.\n"
     ]
    },
    {
     "data": {
      "text/html": [
       "<div style=\"overflow:auto\"><table style=\"width:50%\"><tr><td>H2O_cluster_uptime:</td>\n",
       "<td>01 secs</td></tr>\n",
       "<tr><td>H2O_cluster_timezone:</td>\n",
       "<td>America/Los_Angeles</td></tr>\n",
       "<tr><td>H2O_data_parsing_timezone:</td>\n",
       "<td>UTC</td></tr>\n",
       "<tr><td>H2O_cluster_version:</td>\n",
       "<td>3.32.1.3</td></tr>\n",
       "<tr><td>H2O_cluster_version_age:</td>\n",
       "<td>1 month and 16 days </td></tr>\n",
       "<tr><td>H2O_cluster_name:</td>\n",
       "<td>H2O_from_python_tunguz_ezvcea</td></tr>\n",
       "<tr><td>H2O_cluster_total_nodes:</td>\n",
       "<td>1</td></tr>\n",
       "<tr><td>H2O_cluster_free_memory:</td>\n",
       "<td>30 Gb</td></tr>\n",
       "<tr><td>H2O_cluster_total_cores:</td>\n",
       "<td>8</td></tr>\n",
       "<tr><td>H2O_cluster_allowed_cores:</td>\n",
       "<td>8</td></tr>\n",
       "<tr><td>H2O_cluster_status:</td>\n",
       "<td>accepting new members, healthy</td></tr>\n",
       "<tr><td>H2O_connection_url:</td>\n",
       "<td>http://127.0.0.1:54321</td></tr>\n",
       "<tr><td>H2O_connection_proxy:</td>\n",
       "<td>{\"http\": null, \"https\": null}</td></tr>\n",
       "<tr><td>H2O_internal_security:</td>\n",
       "<td>False</td></tr>\n",
       "<tr><td>H2O_API_Extensions:</td>\n",
       "<td>Amazon S3, XGBoost, Algos, AutoML, Core V3, TargetEncoder, Core V4</td></tr>\n",
       "<tr><td>Python_version:</td>\n",
       "<td>3.6.9 final</td></tr></table></div>"
      ],
      "text/plain": [
       "--------------------------  ------------------------------------------------------------------\n",
       "H2O_cluster_uptime:         01 secs\n",
       "H2O_cluster_timezone:       America/Los_Angeles\n",
       "H2O_data_parsing_timezone:  UTC\n",
       "H2O_cluster_version:        3.32.1.3\n",
       "H2O_cluster_version_age:    1 month and 16 days\n",
       "H2O_cluster_name:           H2O_from_python_tunguz_ezvcea\n",
       "H2O_cluster_total_nodes:    1\n",
       "H2O_cluster_free_memory:    30 Gb\n",
       "H2O_cluster_total_cores:    8\n",
       "H2O_cluster_allowed_cores:  8\n",
       "H2O_cluster_status:         accepting new members, healthy\n",
       "H2O_connection_url:         http://127.0.0.1:54321\n",
       "H2O_connection_proxy:       {\"http\": null, \"https\": null}\n",
       "H2O_internal_security:      False\n",
       "H2O_API_Extensions:         Amazon S3, XGBoost, Algos, AutoML, Core V3, TargetEncoder, Core V4\n",
       "Python_version:             3.6.9 final\n",
       "--------------------------  ------------------------------------------------------------------"
      ]
     },
     "metadata": {},
     "output_type": "display_data"
    }
   ],
   "source": [
    "from h2o.automl import H2OAutoML\n",
    "\n",
    "h2o.init(max_mem_size='30G')"
   ]
  },
  {
   "cell_type": "code",
   "execution_count": 3,
   "metadata": {},
   "outputs": [
    {
     "name": "stdout",
     "output_type": "stream",
     "text": [
      "Parse progress: |█████████████████████████████████████████████████████████| 100%\n",
      "Parse progress: |█████████████████████████████████████████████████████████| 100%\n"
     ]
    }
   ],
   "source": [
    "train = h2o.import_file(\"../input/train.csv\")\n",
    "test = h2o.import_file(\"../input/test.csv\")"
   ]
  },
  {
   "cell_type": "code",
   "execution_count": 4,
   "metadata": {},
   "outputs": [
    {
     "data": {
      "text/html": [
       "<table>\n",
       "<thead>\n",
       "<tr><th>date_time          </th><th style=\"text-align: right;\">  deg_C</th><th style=\"text-align: right;\">  relative_humidity</th><th style=\"text-align: right;\">  absolute_humidity</th><th style=\"text-align: right;\">  sensor_1</th><th style=\"text-align: right;\">  sensor_2</th><th style=\"text-align: right;\">  sensor_3</th><th style=\"text-align: right;\">  sensor_4</th><th style=\"text-align: right;\">  sensor_5</th><th style=\"text-align: right;\">  target_carbon_monoxide</th><th style=\"text-align: right;\">  target_benzene</th><th style=\"text-align: right;\">  target_nitrogen_oxides</th></tr>\n",
       "</thead>\n",
       "<tbody>\n",
       "<tr><td>2010-03-10 18:00:00</td><td style=\"text-align: right;\">   13.1</td><td style=\"text-align: right;\">               46  </td><td style=\"text-align: right;\">             0.7578</td><td style=\"text-align: right;\">    1387.2</td><td style=\"text-align: right;\">    1087.8</td><td style=\"text-align: right;\">    1056  </td><td style=\"text-align: right;\">    1742.8</td><td style=\"text-align: right;\">    1293.4</td><td style=\"text-align: right;\">                     2.5</td><td style=\"text-align: right;\">            12  </td><td style=\"text-align: right;\">                   167.7</td></tr>\n",
       "<tr><td>2010-03-10 19:00:00</td><td style=\"text-align: right;\">   13.2</td><td style=\"text-align: right;\">               45.3</td><td style=\"text-align: right;\">             0.7255</td><td style=\"text-align: right;\">    1279.1</td><td style=\"text-align: right;\">     888.2</td><td style=\"text-align: right;\">    1197.5</td><td style=\"text-align: right;\">    1449.9</td><td style=\"text-align: right;\">    1010.9</td><td style=\"text-align: right;\">                     2.1</td><td style=\"text-align: right;\">             9.9</td><td style=\"text-align: right;\">                    98.9</td></tr>\n",
       "<tr><td>2010-03-10 20:00:00</td><td style=\"text-align: right;\">   12.6</td><td style=\"text-align: right;\">               56.2</td><td style=\"text-align: right;\">             0.7502</td><td style=\"text-align: right;\">    1331.9</td><td style=\"text-align: right;\">     929.6</td><td style=\"text-align: right;\">    1060.2</td><td style=\"text-align: right;\">    1586.1</td><td style=\"text-align: right;\">    1117  </td><td style=\"text-align: right;\">                     2.2</td><td style=\"text-align: right;\">             9.2</td><td style=\"text-align: right;\">                   127.1</td></tr>\n",
       "<tr><td>2010-03-10 21:00:00</td><td style=\"text-align: right;\">   11  </td><td style=\"text-align: right;\">               62.4</td><td style=\"text-align: right;\">             0.7867</td><td style=\"text-align: right;\">    1321  </td><td style=\"text-align: right;\">     929  </td><td style=\"text-align: right;\">    1102.9</td><td style=\"text-align: right;\">    1536.5</td><td style=\"text-align: right;\">    1263.2</td><td style=\"text-align: right;\">                     2.2</td><td style=\"text-align: right;\">             9.7</td><td style=\"text-align: right;\">                   177.2</td></tr>\n",
       "<tr><td>2010-03-10 22:00:00</td><td style=\"text-align: right;\">   11.9</td><td style=\"text-align: right;\">               59  </td><td style=\"text-align: right;\">             0.7888</td><td style=\"text-align: right;\">    1272  </td><td style=\"text-align: right;\">     852.7</td><td style=\"text-align: right;\">    1180.9</td><td style=\"text-align: right;\">    1415.5</td><td style=\"text-align: right;\">    1132.2</td><td style=\"text-align: right;\">                     1.5</td><td style=\"text-align: right;\">             6.4</td><td style=\"text-align: right;\">                   121.8</td></tr>\n",
       "<tr><td>2010-03-10 23:00:00</td><td style=\"text-align: right;\">   11.2</td><td style=\"text-align: right;\">               56.8</td><td style=\"text-align: right;\">             0.7848</td><td style=\"text-align: right;\">    1220.9</td><td style=\"text-align: right;\">     697.5</td><td style=\"text-align: right;\">    1417.2</td><td style=\"text-align: right;\">    1462.6</td><td style=\"text-align: right;\">     949  </td><td style=\"text-align: right;\">                     1.2</td><td style=\"text-align: right;\">             4.4</td><td style=\"text-align: right;\">                    88.1</td></tr>\n",
       "<tr><td>2010-03-11 00:00:00</td><td style=\"text-align: right;\">   10.7</td><td style=\"text-align: right;\">               55.7</td><td style=\"text-align: right;\">             0.7603</td><td style=\"text-align: right;\">    1244.2</td><td style=\"text-align: right;\">     669.3</td><td style=\"text-align: right;\">    1491.2</td><td style=\"text-align: right;\">    1413  </td><td style=\"text-align: right;\">     769.6</td><td style=\"text-align: right;\">                     1.2</td><td style=\"text-align: right;\">             3.7</td><td style=\"text-align: right;\">                    59.5</td></tr>\n",
       "<tr><td>2010-03-11 01:00:00</td><td style=\"text-align: right;\">   10.3</td><td style=\"text-align: right;\">               57  </td><td style=\"text-align: right;\">             0.7702</td><td style=\"text-align: right;\">    1181.4</td><td style=\"text-align: right;\">     631.7</td><td style=\"text-align: right;\">    1511.1</td><td style=\"text-align: right;\">    1359.7</td><td style=\"text-align: right;\">     715.4</td><td style=\"text-align: right;\">                     1  </td><td style=\"text-align: right;\">             3.4</td><td style=\"text-align: right;\">                    63.9</td></tr>\n",
       "<tr><td>2010-03-11 02:00:00</td><td style=\"text-align: right;\">   10.1</td><td style=\"text-align: right;\">               62.7</td><td style=\"text-align: right;\">             0.7648</td><td style=\"text-align: right;\">    1159.6</td><td style=\"text-align: right;\">     602.9</td><td style=\"text-align: right;\">    1610.6</td><td style=\"text-align: right;\">    1212.2</td><td style=\"text-align: right;\">     657.2</td><td style=\"text-align: right;\">                     0.9</td><td style=\"text-align: right;\">             2.2</td><td style=\"text-align: right;\">                    46.4</td></tr>\n",
       "<tr><td>2010-03-11 03:00:00</td><td style=\"text-align: right;\">   10.5</td><td style=\"text-align: right;\">               59.6</td><td style=\"text-align: right;\">             0.7517</td><td style=\"text-align: right;\">    1030.2</td><td style=\"text-align: right;\">     521.7</td><td style=\"text-align: right;\">    1790.2</td><td style=\"text-align: right;\">    1148.6</td><td style=\"text-align: right;\">     491  </td><td style=\"text-align: right;\">                     0.6</td><td style=\"text-align: right;\">             1.6</td><td style=\"text-align: right;\">                    43  </td></tr>\n",
       "</tbody>\n",
       "</table>"
      ]
     },
     "metadata": {},
     "output_type": "display_data"
    },
    {
     "data": {
      "text/plain": []
     },
     "execution_count": 4,
     "metadata": {},
     "output_type": "execute_result"
    }
   ],
   "source": [
    "train.head()"
   ]
  },
  {
   "cell_type": "code",
   "execution_count": 5,
   "metadata": {},
   "outputs": [
    {
     "data": {
      "text/html": [
       "<table>\n",
       "<thead>\n",
       "<tr><th>date_time          </th><th style=\"text-align: right;\">  deg_C</th><th style=\"text-align: right;\">  relative_humidity</th><th style=\"text-align: right;\">  absolute_humidity</th><th style=\"text-align: right;\">  sensor_1</th><th style=\"text-align: right;\">  sensor_2</th><th style=\"text-align: right;\">  sensor_3</th><th style=\"text-align: right;\">  sensor_4</th><th style=\"text-align: right;\">  sensor_5</th></tr>\n",
       "</thead>\n",
       "<tbody>\n",
       "<tr><td>2011-01-01 00:00:00</td><td style=\"text-align: right;\">    8  </td><td style=\"text-align: right;\">               41.3</td><td style=\"text-align: right;\">             0.4375</td><td style=\"text-align: right;\">    1108.8</td><td style=\"text-align: right;\">     745.7</td><td style=\"text-align: right;\">     797.1</td><td style=\"text-align: right;\">     880  </td><td style=\"text-align: right;\">    1273.1</td></tr>\n",
       "<tr><td>2011-01-01 01:00:00</td><td style=\"text-align: right;\">    5.1</td><td style=\"text-align: right;\">               51.7</td><td style=\"text-align: right;\">             0.4564</td><td style=\"text-align: right;\">    1249.5</td><td style=\"text-align: right;\">     864.9</td><td style=\"text-align: right;\">     687.9</td><td style=\"text-align: right;\">     972.8</td><td style=\"text-align: right;\">    1714  </td></tr>\n",
       "<tr><td>2011-01-01 02:00:00</td><td style=\"text-align: right;\">    5.8</td><td style=\"text-align: right;\">               51.5</td><td style=\"text-align: right;\">             0.4689</td><td style=\"text-align: right;\">    1102.6</td><td style=\"text-align: right;\">     878  </td><td style=\"text-align: right;\">     693.7</td><td style=\"text-align: right;\">     941.9</td><td style=\"text-align: right;\">    1300.8</td></tr>\n",
       "<tr><td>2011-01-01 03:00:00</td><td style=\"text-align: right;\">    5  </td><td style=\"text-align: right;\">               52.3</td><td style=\"text-align: right;\">             0.4693</td><td style=\"text-align: right;\">    1139.7</td><td style=\"text-align: right;\">     916.2</td><td style=\"text-align: right;\">     725.6</td><td style=\"text-align: right;\">    1011  </td><td style=\"text-align: right;\">    1283  </td></tr>\n",
       "<tr><td>2011-01-01 04:00:00</td><td style=\"text-align: right;\">    4.5</td><td style=\"text-align: right;\">               57.5</td><td style=\"text-align: right;\">             0.465 </td><td style=\"text-align: right;\">    1022.4</td><td style=\"text-align: right;\">     838.5</td><td style=\"text-align: right;\">     871.5</td><td style=\"text-align: right;\">     967  </td><td style=\"text-align: right;\">    1142.3</td></tr>\n",
       "<tr><td>2011-01-01 05:00:00</td><td style=\"text-align: right;\">    4.5</td><td style=\"text-align: right;\">               53.7</td><td style=\"text-align: right;\">             0.4759</td><td style=\"text-align: right;\">    1004  </td><td style=\"text-align: right;\">     745.5</td><td style=\"text-align: right;\">     914.2</td><td style=\"text-align: right;\">     989.1</td><td style=\"text-align: right;\">     973.8</td></tr>\n",
       "<tr><td>2011-01-01 06:00:00</td><td style=\"text-align: right;\">    3.3</td><td style=\"text-align: right;\">               54.8</td><td style=\"text-align: right;\">             0.4636</td><td style=\"text-align: right;\">     940.9</td><td style=\"text-align: right;\">     738.2</td><td style=\"text-align: right;\">     816  </td><td style=\"text-align: right;\">     896.8</td><td style=\"text-align: right;\">    1049.4</td></tr>\n",
       "<tr><td>2011-01-01 07:00:00</td><td style=\"text-align: right;\">    3.2</td><td style=\"text-align: right;\">               60.7</td><td style=\"text-align: right;\">             0.4667</td><td style=\"text-align: right;\">     954.5</td><td style=\"text-align: right;\">     713.9</td><td style=\"text-align: right;\">     834.7</td><td style=\"text-align: right;\">     935.6</td><td style=\"text-align: right;\">     956.3</td></tr>\n",
       "<tr><td>2011-01-01 08:00:00</td><td style=\"text-align: right;\">    2.5</td><td style=\"text-align: right;\">               65.7</td><td style=\"text-align: right;\">             0.4721</td><td style=\"text-align: right;\">     969.9</td><td style=\"text-align: right;\">     679.1</td><td style=\"text-align: right;\">     943.8</td><td style=\"text-align: right;\">     959.3</td><td style=\"text-align: right;\">     892  </td></tr>\n",
       "<tr><td>2011-01-01 09:00:00</td><td style=\"text-align: right;\">    3.9</td><td style=\"text-align: right;\">               57.8</td><td style=\"text-align: right;\">             0.4807</td><td style=\"text-align: right;\">     976.6</td><td style=\"text-align: right;\">     655.5</td><td style=\"text-align: right;\">     996  </td><td style=\"text-align: right;\">     906  </td><td style=\"text-align: right;\">     817.5</td></tr>\n",
       "</tbody>\n",
       "</table>"
      ]
     },
     "metadata": {},
     "output_type": "display_data"
    },
    {
     "data": {
      "text/plain": []
     },
     "execution_count": 5,
     "metadata": {},
     "output_type": "execute_result"
    }
   ],
   "source": [
    "test.head()"
   ]
  },
  {
   "cell_type": "code",
   "execution_count": 9,
   "metadata": {},
   "outputs": [],
   "source": [
    "x = test.columns[1:]\n",
    "y = 'target_nitrogen_oxides'"
   ]
  },
  {
   "cell_type": "code",
   "execution_count": 10,
   "metadata": {},
   "outputs": [
    {
     "name": "stdout",
     "output_type": "stream",
     "text": [
      "AutoML progress: |████████████████████████████████████████████████████████| 100%\n"
     ]
    }
   ],
   "source": [
    "# Run AutoML for 20 base models (limited to 1 hour max runtime by default)\n",
    "aml = H2OAutoML(max_models=180, seed=47, max_runtime_secs=600)\n",
    "aml.train(x=x, y=y, training_frame=train)"
   ]
  },
  {
   "cell_type": "code",
   "execution_count": 11,
   "metadata": {},
   "outputs": [
    {
     "data": {
      "text/html": [
       "<table>\n",
       "<thead>\n",
       "<tr><th>model_id                                           </th><th style=\"text-align: right;\">  mean_residual_deviance</th><th style=\"text-align: right;\">    rmse</th><th style=\"text-align: right;\">     mse</th><th style=\"text-align: right;\">     mae</th><th style=\"text-align: right;\">     rmsle</th></tr>\n",
       "</thead>\n",
       "<tbody>\n",
       "<tr><td>StackedEnsemble_AllModels_AutoML_20210706_131247   </td><td style=\"text-align: right;\">                 5123.94</td><td style=\"text-align: right;\"> 71.5817</td><td style=\"text-align: right;\"> 5123.94</td><td style=\"text-align: right;\"> 41.6264</td><td style=\"text-align: right;\">nan       </td></tr>\n",
       "<tr><td>StackedEnsemble_BestOfFamily_AutoML_20210706_131247</td><td style=\"text-align: right;\">                 5226.05</td><td style=\"text-align: right;\"> 72.2914</td><td style=\"text-align: right;\"> 5226.05</td><td style=\"text-align: right;\"> 42.3988</td><td style=\"text-align: right;\">nan       </td></tr>\n",
       "<tr><td>GBM_4_AutoML_20210706_131247                       </td><td style=\"text-align: right;\">                 5591.92</td><td style=\"text-align: right;\"> 74.7791</td><td style=\"text-align: right;\"> 5591.92</td><td style=\"text-align: right;\"> 43.5369</td><td style=\"text-align: right;\">nan       </td></tr>\n",
       "<tr><td>GBM_2_AutoML_20210706_131247                       </td><td style=\"text-align: right;\">                 5595.25</td><td style=\"text-align: right;\"> 74.8014</td><td style=\"text-align: right;\"> 5595.25</td><td style=\"text-align: right;\"> 44.296 </td><td style=\"text-align: right;\">nan       </td></tr>\n",
       "<tr><td>GBM_grid__1_AutoML_20210706_131247_model_11        </td><td style=\"text-align: right;\">                 5630.57</td><td style=\"text-align: right;\"> 75.0371</td><td style=\"text-align: right;\"> 5630.57</td><td style=\"text-align: right;\"> 44.4433</td><td style=\"text-align: right;\">nan       </td></tr>\n",
       "<tr><td>XGBoost_grid__1_AutoML_20210706_131247_model_23    </td><td style=\"text-align: right;\">                 5641.46</td><td style=\"text-align: right;\"> 75.1097</td><td style=\"text-align: right;\"> 5641.46</td><td style=\"text-align: right;\"> 45.1818</td><td style=\"text-align: right;\">nan       </td></tr>\n",
       "<tr><td>GBM_1_AutoML_20210706_131247                       </td><td style=\"text-align: right;\">                 5667.19</td><td style=\"text-align: right;\"> 75.2808</td><td style=\"text-align: right;\"> 5667.19</td><td style=\"text-align: right;\"> 44.766 </td><td style=\"text-align: right;\">nan       </td></tr>\n",
       "<tr><td>GBM_3_AutoML_20210706_131247                       </td><td style=\"text-align: right;\">                 5672.95</td><td style=\"text-align: right;\"> 75.319 </td><td style=\"text-align: right;\"> 5672.95</td><td style=\"text-align: right;\"> 44.0662</td><td style=\"text-align: right;\">  0.34619 </td></tr>\n",
       "<tr><td>GBM_grid__1_AutoML_20210706_131247_model_4         </td><td style=\"text-align: right;\">                 5691.26</td><td style=\"text-align: right;\"> 75.4404</td><td style=\"text-align: right;\"> 5691.26</td><td style=\"text-align: right;\"> 44.113 </td><td style=\"text-align: right;\">nan       </td></tr>\n",
       "<tr><td>GBM_grid__1_AutoML_20210706_131247_model_9         </td><td style=\"text-align: right;\">                 5701.87</td><td style=\"text-align: right;\"> 75.5107</td><td style=\"text-align: right;\"> 5701.87</td><td style=\"text-align: right;\"> 44.357 </td><td style=\"text-align: right;\">nan       </td></tr>\n",
       "<tr><td>XGBoost_grid__1_AutoML_20210706_131247_model_54    </td><td style=\"text-align: right;\">                 5711.36</td><td style=\"text-align: right;\"> 75.5736</td><td style=\"text-align: right;\"> 5711.36</td><td style=\"text-align: right;\"> 45.5605</td><td style=\"text-align: right;\">nan       </td></tr>\n",
       "<tr><td>GBM_grid__1_AutoML_20210706_131247_model_2         </td><td style=\"text-align: right;\">                 5716.16</td><td style=\"text-align: right;\"> 75.6053</td><td style=\"text-align: right;\"> 5716.16</td><td style=\"text-align: right;\"> 43.9307</td><td style=\"text-align: right;\">nan       </td></tr>\n",
       "<tr><td>GBM_grid__1_AutoML_20210706_131247_model_18        </td><td style=\"text-align: right;\">                 5719.53</td><td style=\"text-align: right;\"> 75.6276</td><td style=\"text-align: right;\"> 5719.53</td><td style=\"text-align: right;\"> 44.8969</td><td style=\"text-align: right;\">nan       </td></tr>\n",
       "<tr><td>XGBoost_grid__1_AutoML_20210706_131247_model_25    </td><td style=\"text-align: right;\">                 5725.06</td><td style=\"text-align: right;\"> 75.6642</td><td style=\"text-align: right;\"> 5725.06</td><td style=\"text-align: right;\"> 46.0128</td><td style=\"text-align: right;\">nan       </td></tr>\n",
       "<tr><td>GBM_grid__1_AutoML_20210706_131247_model_6         </td><td style=\"text-align: right;\">                 5766.23</td><td style=\"text-align: right;\"> 75.9357</td><td style=\"text-align: right;\"> 5766.23</td><td style=\"text-align: right;\"> 43.7689</td><td style=\"text-align: right;\">nan       </td></tr>\n",
       "<tr><td>XGBoost_grid__1_AutoML_20210706_131247_model_49    </td><td style=\"text-align: right;\">                 5809.12</td><td style=\"text-align: right;\"> 76.2176</td><td style=\"text-align: right;\"> 5809.12</td><td style=\"text-align: right;\"> 45.8966</td><td style=\"text-align: right;\">nan       </td></tr>\n",
       "<tr><td>XRT_1_AutoML_20210706_131247                       </td><td style=\"text-align: right;\">                 5812.73</td><td style=\"text-align: right;\"> 76.2413</td><td style=\"text-align: right;\"> 5812.73</td><td style=\"text-align: right;\"> 44.1183</td><td style=\"text-align: right;\">  0.334058</td></tr>\n",
       "<tr><td>XGBoost_grid__1_AutoML_20210706_131247_model_3     </td><td style=\"text-align: right;\">                 5829.76</td><td style=\"text-align: right;\"> 76.3528</td><td style=\"text-align: right;\"> 5829.76</td><td style=\"text-align: right;\"> 46.1508</td><td style=\"text-align: right;\">nan       </td></tr>\n",
       "<tr><td>XGBoost_grid__1_AutoML_20210706_131247_model_56    </td><td style=\"text-align: right;\">                 5845.41</td><td style=\"text-align: right;\"> 76.4553</td><td style=\"text-align: right;\"> 5845.41</td><td style=\"text-align: right;\"> 44.8421</td><td style=\"text-align: right;\">nan       </td></tr>\n",
       "<tr><td>GBM_grid__1_AutoML_20210706_131247_model_12        </td><td style=\"text-align: right;\">                 5849.8 </td><td style=\"text-align: right;\"> 76.484 </td><td style=\"text-align: right;\"> 5849.8 </td><td style=\"text-align: right;\"> 44.8591</td><td style=\"text-align: right;\">nan       </td></tr>\n",
       "<tr><td>XGBoost_grid__1_AutoML_20210706_131247_model_70    </td><td style=\"text-align: right;\">                 5865.25</td><td style=\"text-align: right;\"> 76.5849</td><td style=\"text-align: right;\"> 5865.25</td><td style=\"text-align: right;\"> 45.9141</td><td style=\"text-align: right;\">nan       </td></tr>\n",
       "<tr><td>XGBoost_grid__1_AutoML_20210706_131247_model_62    </td><td style=\"text-align: right;\">                 5868.84</td><td style=\"text-align: right;\"> 76.6083</td><td style=\"text-align: right;\"> 5868.84</td><td style=\"text-align: right;\"> 46.3884</td><td style=\"text-align: right;\">nan       </td></tr>\n",
       "<tr><td>XGBoost_grid__1_AutoML_20210706_131247_model_30    </td><td style=\"text-align: right;\">                 5909.05</td><td style=\"text-align: right;\"> 76.8704</td><td style=\"text-align: right;\"> 5909.05</td><td style=\"text-align: right;\"> 45.9373</td><td style=\"text-align: right;\">nan       </td></tr>\n",
       "<tr><td>XGBoost_grid__1_AutoML_20210706_131247_model_42    </td><td style=\"text-align: right;\">                 5909.48</td><td style=\"text-align: right;\"> 76.8731</td><td style=\"text-align: right;\"> 5909.48</td><td style=\"text-align: right;\"> 45.841 </td><td style=\"text-align: right;\">nan       </td></tr>\n",
       "<tr><td>XGBoost_grid__1_AutoML_20210706_131247_model_71    </td><td style=\"text-align: right;\">                 5910.21</td><td style=\"text-align: right;\"> 76.8779</td><td style=\"text-align: right;\"> 5910.21</td><td style=\"text-align: right;\"> 45.1008</td><td style=\"text-align: right;\">nan       </td></tr>\n",
       "<tr><td>XGBoost_grid__1_AutoML_20210706_131247_model_10    </td><td style=\"text-align: right;\">                 5914.17</td><td style=\"text-align: right;\"> 76.9037</td><td style=\"text-align: right;\"> 5914.17</td><td style=\"text-align: right;\"> 46.918 </td><td style=\"text-align: right;\">nan       </td></tr>\n",
       "<tr><td>XGBoost_grid__1_AutoML_20210706_131247_model_72    </td><td style=\"text-align: right;\">                 5918.04</td><td style=\"text-align: right;\"> 76.9288</td><td style=\"text-align: right;\"> 5918.04</td><td style=\"text-align: right;\"> 45.8532</td><td style=\"text-align: right;\">nan       </td></tr>\n",
       "<tr><td>XGBoost_grid__1_AutoML_20210706_131247_model_28    </td><td style=\"text-align: right;\">                 5929.81</td><td style=\"text-align: right;\"> 77.0053</td><td style=\"text-align: right;\"> 5929.81</td><td style=\"text-align: right;\"> 45.5803</td><td style=\"text-align: right;\">nan       </td></tr>\n",
       "<tr><td>XGBoost_grid__1_AutoML_20210706_131247_model_9     </td><td style=\"text-align: right;\">                 5951.29</td><td style=\"text-align: right;\"> 77.1446</td><td style=\"text-align: right;\"> 5951.29</td><td style=\"text-align: right;\"> 45.9123</td><td style=\"text-align: right;\">nan       </td></tr>\n",
       "<tr><td>GBM_grid__1_AutoML_20210706_131247_model_7         </td><td style=\"text-align: right;\">                 5951.7 </td><td style=\"text-align: right;\"> 77.1473</td><td style=\"text-align: right;\"> 5951.7 </td><td style=\"text-align: right;\"> 46.4511</td><td style=\"text-align: right;\">nan       </td></tr>\n",
       "<tr><td>GBM_grid__1_AutoML_20210706_131247_model_15        </td><td style=\"text-align: right;\">                 5952   </td><td style=\"text-align: right;\"> 77.1492</td><td style=\"text-align: right;\"> 5952   </td><td style=\"text-align: right;\"> 46.116 </td><td style=\"text-align: right;\">nan       </td></tr>\n",
       "<tr><td>DRF_1_AutoML_20210706_131247                       </td><td style=\"text-align: right;\">                 5959.08</td><td style=\"text-align: right;\"> 77.1951</td><td style=\"text-align: right;\"> 5959.08</td><td style=\"text-align: right;\"> 44.5366</td><td style=\"text-align: right;\">  0.333932</td></tr>\n",
       "<tr><td>GBM_grid__1_AutoML_20210706_131247_model_13        </td><td style=\"text-align: right;\">                 5995.96</td><td style=\"text-align: right;\"> 77.4336</td><td style=\"text-align: right;\"> 5995.96</td><td style=\"text-align: right;\"> 47.6121</td><td style=\"text-align: right;\">nan       </td></tr>\n",
       "<tr><td>XGBoost_grid__1_AutoML_20210706_131247_model_40    </td><td style=\"text-align: right;\">                 5998.11</td><td style=\"text-align: right;\"> 77.4474</td><td style=\"text-align: right;\"> 5998.11</td><td style=\"text-align: right;\"> 45.7814</td><td style=\"text-align: right;\">nan       </td></tr>\n",
       "<tr><td>XGBoost_grid__1_AutoML_20210706_131247_model_43    </td><td style=\"text-align: right;\">                 6011.46</td><td style=\"text-align: right;\"> 77.5336</td><td style=\"text-align: right;\"> 6011.46</td><td style=\"text-align: right;\"> 46.5091</td><td style=\"text-align: right;\">nan       </td></tr>\n",
       "<tr><td>XGBoost_grid__1_AutoML_20210706_131247_model_55    </td><td style=\"text-align: right;\">                 6015.56</td><td style=\"text-align: right;\"> 77.5601</td><td style=\"text-align: right;\"> 6015.56</td><td style=\"text-align: right;\"> 46.4856</td><td style=\"text-align: right;\">nan       </td></tr>\n",
       "<tr><td>XGBoost_grid__1_AutoML_20210706_131247_model_1     </td><td style=\"text-align: right;\">                 6016.94</td><td style=\"text-align: right;\"> 77.5689</td><td style=\"text-align: right;\"> 6016.94</td><td style=\"text-align: right;\"> 47.4846</td><td style=\"text-align: right;\">nan       </td></tr>\n",
       "<tr><td>GBM_grid__1_AutoML_20210706_131247_model_10        </td><td style=\"text-align: right;\">                 6025.39</td><td style=\"text-align: right;\"> 77.6234</td><td style=\"text-align: right;\"> 6025.39</td><td style=\"text-align: right;\"> 46.0032</td><td style=\"text-align: right;\">nan       </td></tr>\n",
       "<tr><td>XGBoost_grid__1_AutoML_20210706_131247_model_39    </td><td style=\"text-align: right;\">                 6028.21</td><td style=\"text-align: right;\"> 77.6416</td><td style=\"text-align: right;\"> 6028.21</td><td style=\"text-align: right;\"> 47.039 </td><td style=\"text-align: right;\">nan       </td></tr>\n",
       "<tr><td>XGBoost_grid__1_AutoML_20210706_131247_model_29    </td><td style=\"text-align: right;\">                 6029.31</td><td style=\"text-align: right;\"> 77.6486</td><td style=\"text-align: right;\"> 6029.31</td><td style=\"text-align: right;\"> 45.8914</td><td style=\"text-align: right;\">nan       </td></tr>\n",
       "<tr><td>GBM_grid__1_AutoML_20210706_131247_model_14        </td><td style=\"text-align: right;\">                 6036.04</td><td style=\"text-align: right;\"> 77.6919</td><td style=\"text-align: right;\"> 6036.04</td><td style=\"text-align: right;\"> 43.5737</td><td style=\"text-align: right;\">  0.327937</td></tr>\n",
       "<tr><td>XGBoost_grid__1_AutoML_20210706_131247_model_36    </td><td style=\"text-align: right;\">                 6037.33</td><td style=\"text-align: right;\"> 77.7003</td><td style=\"text-align: right;\"> 6037.33</td><td style=\"text-align: right;\"> 47.8035</td><td style=\"text-align: right;\">nan       </td></tr>\n",
       "<tr><td>GBM_grid__1_AutoML_20210706_131247_model_1         </td><td style=\"text-align: right;\">                 6041.52</td><td style=\"text-align: right;\"> 77.7272</td><td style=\"text-align: right;\"> 6041.52</td><td style=\"text-align: right;\"> 47.0617</td><td style=\"text-align: right;\">nan       </td></tr>\n",
       "<tr><td>XGBoost_grid__1_AutoML_20210706_131247_model_48    </td><td style=\"text-align: right;\">                 6043.71</td><td style=\"text-align: right;\"> 77.7413</td><td style=\"text-align: right;\"> 6043.71</td><td style=\"text-align: right;\"> 45.3158</td><td style=\"text-align: right;\">nan       </td></tr>\n",
       "<tr><td>XGBoost_grid__1_AutoML_20210706_131247_model_13    </td><td style=\"text-align: right;\">                 6049.81</td><td style=\"text-align: right;\"> 77.7805</td><td style=\"text-align: right;\"> 6049.81</td><td style=\"text-align: right;\"> 44.6914</td><td style=\"text-align: right;\">nan       </td></tr>\n",
       "<tr><td>XGBoost_grid__1_AutoML_20210706_131247_model_77    </td><td style=\"text-align: right;\">                 6059.24</td><td style=\"text-align: right;\"> 77.8411</td><td style=\"text-align: right;\"> 6059.24</td><td style=\"text-align: right;\"> 46.1876</td><td style=\"text-align: right;\">nan       </td></tr>\n",
       "<tr><td>XGBoost_grid__1_AutoML_20210706_131247_model_22    </td><td style=\"text-align: right;\">                 6064.89</td><td style=\"text-align: right;\"> 77.8774</td><td style=\"text-align: right;\"> 6064.89</td><td style=\"text-align: right;\"> 46.6854</td><td style=\"text-align: right;\">nan       </td></tr>\n",
       "<tr><td>XGBoost_grid__1_AutoML_20210706_131247_model_16    </td><td style=\"text-align: right;\">                 6074.03</td><td style=\"text-align: right;\"> 77.9361</td><td style=\"text-align: right;\"> 6074.03</td><td style=\"text-align: right;\"> 47.0855</td><td style=\"text-align: right;\">nan       </td></tr>\n",
       "<tr><td>GBM_grid__1_AutoML_20210706_131247_model_17        </td><td style=\"text-align: right;\">                 6122.49</td><td style=\"text-align: right;\"> 78.2464</td><td style=\"text-align: right;\"> 6122.49</td><td style=\"text-align: right;\"> 48.0499</td><td style=\"text-align: right;\">nan       </td></tr>\n",
       "<tr><td>XGBoost_grid__1_AutoML_20210706_131247_model_52    </td><td style=\"text-align: right;\">                 6142.09</td><td style=\"text-align: right;\"> 78.3715</td><td style=\"text-align: right;\"> 6142.09</td><td style=\"text-align: right;\"> 48.0864</td><td style=\"text-align: right;\">nan       </td></tr>\n",
       "<tr><td>XGBoost_grid__1_AutoML_20210706_131247_model_61    </td><td style=\"text-align: right;\">                 6144.63</td><td style=\"text-align: right;\"> 78.3877</td><td style=\"text-align: right;\"> 6144.63</td><td style=\"text-align: right;\"> 47.709 </td><td style=\"text-align: right;\">nan       </td></tr>\n",
       "<tr><td>XGBoost_grid__1_AutoML_20210706_131247_model_65    </td><td style=\"text-align: right;\">                 6151.57</td><td style=\"text-align: right;\"> 78.432 </td><td style=\"text-align: right;\"> 6151.57</td><td style=\"text-align: right;\"> 47.458 </td><td style=\"text-align: right;\">nan       </td></tr>\n",
       "<tr><td>XGBoost_grid__1_AutoML_20210706_131247_model_60    </td><td style=\"text-align: right;\">                 6154.57</td><td style=\"text-align: right;\"> 78.451 </td><td style=\"text-align: right;\"> 6154.57</td><td style=\"text-align: right;\"> 46.8184</td><td style=\"text-align: right;\">nan       </td></tr>\n",
       "<tr><td>XGBoost_grid__1_AutoML_20210706_131247_model_7     </td><td style=\"text-align: right;\">                 6156.84</td><td style=\"text-align: right;\"> 78.4655</td><td style=\"text-align: right;\"> 6156.84</td><td style=\"text-align: right;\"> 47.4986</td><td style=\"text-align: right;\">nan       </td></tr>\n",
       "<tr><td>XGBoost_3_AutoML_20210706_131247                   </td><td style=\"text-align: right;\">                 6167.19</td><td style=\"text-align: right;\"> 78.5315</td><td style=\"text-align: right;\"> 6167.19</td><td style=\"text-align: right;\"> 47.7883</td><td style=\"text-align: right;\">nan       </td></tr>\n",
       "<tr><td>XGBoost_grid__1_AutoML_20210706_131247_model_73    </td><td style=\"text-align: right;\">                 6180.13</td><td style=\"text-align: right;\"> 78.6138</td><td style=\"text-align: right;\"> 6180.13</td><td style=\"text-align: right;\"> 46.8484</td><td style=\"text-align: right;\">nan       </td></tr>\n",
       "<tr><td>XGBoost_grid__1_AutoML_20210706_131247_model_41    </td><td style=\"text-align: right;\">                 6210.28</td><td style=\"text-align: right;\"> 78.8053</td><td style=\"text-align: right;\"> 6210.28</td><td style=\"text-align: right;\"> 45.9225</td><td style=\"text-align: right;\">nan       </td></tr>\n",
       "<tr><td>XGBoost_grid__1_AutoML_20210706_131247_model_32    </td><td style=\"text-align: right;\">                 6211.43</td><td style=\"text-align: right;\"> 78.8126</td><td style=\"text-align: right;\"> 6211.43</td><td style=\"text-align: right;\"> 48.1927</td><td style=\"text-align: right;\">nan       </td></tr>\n",
       "<tr><td>XGBoost_grid__1_AutoML_20210706_131247_model_76    </td><td style=\"text-align: right;\">                 6217.24</td><td style=\"text-align: right;\"> 78.8495</td><td style=\"text-align: right;\"> 6217.24</td><td style=\"text-align: right;\"> 47.6464</td><td style=\"text-align: right;\">nan       </td></tr>\n",
       "<tr><td>XGBoost_grid__1_AutoML_20210706_131247_model_53    </td><td style=\"text-align: right;\">                 6219.02</td><td style=\"text-align: right;\"> 78.8608</td><td style=\"text-align: right;\"> 6219.02</td><td style=\"text-align: right;\"> 46.0429</td><td style=\"text-align: right;\">nan       </td></tr>\n",
       "<tr><td>XGBoost_grid__1_AutoML_20210706_131247_model_19    </td><td style=\"text-align: right;\">                 6230.1 </td><td style=\"text-align: right;\"> 78.931 </td><td style=\"text-align: right;\"> 6230.1 </td><td style=\"text-align: right;\"> 46.8893</td><td style=\"text-align: right;\">nan       </td></tr>\n",
       "<tr><td>XGBoost_grid__1_AutoML_20210706_131247_model_15    </td><td style=\"text-align: right;\">                 6245.92</td><td style=\"text-align: right;\"> 79.0311</td><td style=\"text-align: right;\"> 6245.92</td><td style=\"text-align: right;\"> 46.6025</td><td style=\"text-align: right;\">nan       </td></tr>\n",
       "<tr><td>XGBoost_grid__1_AutoML_20210706_131247_model_4     </td><td style=\"text-align: right;\">                 6250.87</td><td style=\"text-align: right;\"> 79.0624</td><td style=\"text-align: right;\"> 6250.87</td><td style=\"text-align: right;\"> 46.8541</td><td style=\"text-align: right;\">nan       </td></tr>\n",
       "<tr><td>XGBoost_grid__1_AutoML_20210706_131247_model_18    </td><td style=\"text-align: right;\">                 6251.05</td><td style=\"text-align: right;\"> 79.0636</td><td style=\"text-align: right;\"> 6251.05</td><td style=\"text-align: right;\"> 48.7136</td><td style=\"text-align: right;\">nan       </td></tr>\n",
       "<tr><td>XGBoost_grid__1_AutoML_20210706_131247_model_44    </td><td style=\"text-align: right;\">                 6255.24</td><td style=\"text-align: right;\"> 79.0901</td><td style=\"text-align: right;\"> 6255.24</td><td style=\"text-align: right;\"> 47.8587</td><td style=\"text-align: right;\">nan       </td></tr>\n",
       "<tr><td>GBM_grid__1_AutoML_20210706_131247_model_3         </td><td style=\"text-align: right;\">                 6264.74</td><td style=\"text-align: right;\"> 79.1501</td><td style=\"text-align: right;\"> 6264.74</td><td style=\"text-align: right;\"> 47.2863</td><td style=\"text-align: right;\">nan       </td></tr>\n",
       "<tr><td>XGBoost_grid__1_AutoML_20210706_131247_model_37    </td><td style=\"text-align: right;\">                 6274.26</td><td style=\"text-align: right;\"> 79.2102</td><td style=\"text-align: right;\"> 6274.26</td><td style=\"text-align: right;\"> 47.0717</td><td style=\"text-align: right;\">nan       </td></tr>\n",
       "<tr><td>XGBoost_grid__1_AutoML_20210706_131247_model_35    </td><td style=\"text-align: right;\">                 6289.39</td><td style=\"text-align: right;\"> 79.3057</td><td style=\"text-align: right;\"> 6289.39</td><td style=\"text-align: right;\"> 46.8491</td><td style=\"text-align: right;\">nan       </td></tr>\n",
       "<tr><td>XGBoost_grid__1_AutoML_20210706_131247_model_74    </td><td style=\"text-align: right;\">                 6291.09</td><td style=\"text-align: right;\"> 79.3164</td><td style=\"text-align: right;\"> 6291.09</td><td style=\"text-align: right;\"> 45.0472</td><td style=\"text-align: right;\">  0.339363</td></tr>\n",
       "<tr><td>XGBoost_2_AutoML_20210706_131247                   </td><td style=\"text-align: right;\">                 6305.86</td><td style=\"text-align: right;\"> 79.4095</td><td style=\"text-align: right;\"> 6305.86</td><td style=\"text-align: right;\"> 47.8609</td><td style=\"text-align: right;\">nan       </td></tr>\n",
       "<tr><td>XGBoost_grid__1_AutoML_20210706_131247_model_57    </td><td style=\"text-align: right;\">                 6316.87</td><td style=\"text-align: right;\"> 79.4787</td><td style=\"text-align: right;\"> 6316.87</td><td style=\"text-align: right;\"> 47.3978</td><td style=\"text-align: right;\">nan       </td></tr>\n",
       "<tr><td>XGBoost_grid__1_AutoML_20210706_131247_model_50    </td><td style=\"text-align: right;\">                 6323.19</td><td style=\"text-align: right;\"> 79.5185</td><td style=\"text-align: right;\"> 6323.19</td><td style=\"text-align: right;\"> 45.6919</td><td style=\"text-align: right;\">nan       </td></tr>\n",
       "<tr><td>XGBoost_grid__1_AutoML_20210706_131247_model_51    </td><td style=\"text-align: right;\">                 6329.35</td><td style=\"text-align: right;\"> 79.5572</td><td style=\"text-align: right;\"> 6329.35</td><td style=\"text-align: right;\"> 48.225 </td><td style=\"text-align: right;\">nan       </td></tr>\n",
       "<tr><td>XGBoost_grid__1_AutoML_20210706_131247_model_45    </td><td style=\"text-align: right;\">                 6358.27</td><td style=\"text-align: right;\"> 79.7388</td><td style=\"text-align: right;\"> 6358.27</td><td style=\"text-align: right;\"> 47.7911</td><td style=\"text-align: right;\">nan       </td></tr>\n",
       "<tr><td>XGBoost_grid__1_AutoML_20210706_131247_model_69    </td><td style=\"text-align: right;\">                 6363.45</td><td style=\"text-align: right;\"> 79.7713</td><td style=\"text-align: right;\"> 6363.45</td><td style=\"text-align: right;\"> 47.9524</td><td style=\"text-align: right;\">nan       </td></tr>\n",
       "<tr><td>XGBoost_grid__1_AutoML_20210706_131247_model_27    </td><td style=\"text-align: right;\">                 6370.14</td><td style=\"text-align: right;\"> 79.8131</td><td style=\"text-align: right;\"> 6370.14</td><td style=\"text-align: right;\"> 46.5262</td><td style=\"text-align: right;\">nan       </td></tr>\n",
       "<tr><td>XGBoost_grid__1_AutoML_20210706_131247_model_14    </td><td style=\"text-align: right;\">                 6392.08</td><td style=\"text-align: right;\"> 79.9505</td><td style=\"text-align: right;\"> 6392.08</td><td style=\"text-align: right;\"> 47.2827</td><td style=\"text-align: right;\">nan       </td></tr>\n",
       "<tr><td>XGBoost_grid__1_AutoML_20210706_131247_model_11    </td><td style=\"text-align: right;\">                 6403.7 </td><td style=\"text-align: right;\"> 80.0231</td><td style=\"text-align: right;\"> 6403.7 </td><td style=\"text-align: right;\"> 48.7186</td><td style=\"text-align: right;\">nan       </td></tr>\n",
       "<tr><td>XGBoost_grid__1_AutoML_20210706_131247_model_66    </td><td style=\"text-align: right;\">                 6406.52</td><td style=\"text-align: right;\"> 80.0407</td><td style=\"text-align: right;\"> 6406.52</td><td style=\"text-align: right;\"> 48.3658</td><td style=\"text-align: right;\">nan       </td></tr>\n",
       "<tr><td>XGBoost_grid__1_AutoML_20210706_131247_model_59    </td><td style=\"text-align: right;\">                 6428.07</td><td style=\"text-align: right;\"> 80.1752</td><td style=\"text-align: right;\"> 6428.07</td><td style=\"text-align: right;\"> 47.6175</td><td style=\"text-align: right;\">nan       </td></tr>\n",
       "<tr><td>XGBoost_grid__1_AutoML_20210706_131247_model_21    </td><td style=\"text-align: right;\">                 6433.05</td><td style=\"text-align: right;\"> 80.2063</td><td style=\"text-align: right;\"> 6433.05</td><td style=\"text-align: right;\"> 48.1504</td><td style=\"text-align: right;\">nan       </td></tr>\n",
       "<tr><td>XGBoost_1_AutoML_20210706_131247                   </td><td style=\"text-align: right;\">                 6459.38</td><td style=\"text-align: right;\"> 80.3703</td><td style=\"text-align: right;\"> 6459.38</td><td style=\"text-align: right;\"> 47.7028</td><td style=\"text-align: right;\">nan       </td></tr>\n",
       "<tr><td>XGBoost_grid__1_AutoML_20210706_131247_model_38    </td><td style=\"text-align: right;\">                 6493.45</td><td style=\"text-align: right;\"> 80.582 </td><td style=\"text-align: right;\"> 6493.45</td><td style=\"text-align: right;\"> 49.4744</td><td style=\"text-align: right;\">nan       </td></tr>\n",
       "<tr><td>GBM_grid__1_AutoML_20210706_131247_model_5         </td><td style=\"text-align: right;\">                 6500.01</td><td style=\"text-align: right;\"> 80.6227</td><td style=\"text-align: right;\"> 6500.01</td><td style=\"text-align: right;\"> 50.0371</td><td style=\"text-align: right;\">nan       </td></tr>\n",
       "<tr><td>XGBoost_grid__1_AutoML_20210706_131247_model_75    </td><td style=\"text-align: right;\">                 6509.62</td><td style=\"text-align: right;\"> 80.6822</td><td style=\"text-align: right;\"> 6509.62</td><td style=\"text-align: right;\"> 47.876 </td><td style=\"text-align: right;\">nan       </td></tr>\n",
       "<tr><td>XGBoost_grid__1_AutoML_20210706_131247_model_64    </td><td style=\"text-align: right;\">                 6513.76</td><td style=\"text-align: right;\"> 80.7079</td><td style=\"text-align: right;\"> 6513.76</td><td style=\"text-align: right;\"> 47.0656</td><td style=\"text-align: right;\">nan       </td></tr>\n",
       "<tr><td>XGBoost_grid__1_AutoML_20210706_131247_model_33    </td><td style=\"text-align: right;\">                 6521.96</td><td style=\"text-align: right;\"> 80.7587</td><td style=\"text-align: right;\"> 6521.96</td><td style=\"text-align: right;\"> 47.518 </td><td style=\"text-align: right;\">nan       </td></tr>\n",
       "<tr><td>XGBoost_grid__1_AutoML_20210706_131247_model_6     </td><td style=\"text-align: right;\">                 6547.78</td><td style=\"text-align: right;\"> 80.9183</td><td style=\"text-align: right;\"> 6547.78</td><td style=\"text-align: right;\"> 48.1706</td><td style=\"text-align: right;\">nan       </td></tr>\n",
       "<tr><td>XGBoost_grid__1_AutoML_20210706_131247_model_8     </td><td style=\"text-align: right;\">                 6550.81</td><td style=\"text-align: right;\"> 80.9371</td><td style=\"text-align: right;\"> 6550.81</td><td style=\"text-align: right;\"> 46.9852</td><td style=\"text-align: right;\">nan       </td></tr>\n",
       "<tr><td>XGBoost_grid__1_AutoML_20210706_131247_model_17    </td><td style=\"text-align: right;\">                 6554.58</td><td style=\"text-align: right;\"> 80.9604</td><td style=\"text-align: right;\"> 6554.58</td><td style=\"text-align: right;\"> 46.7975</td><td style=\"text-align: right;\">nan       </td></tr>\n",
       "<tr><td>XGBoost_grid__1_AutoML_20210706_131247_model_26    </td><td style=\"text-align: right;\">                 6576.25</td><td style=\"text-align: right;\"> 81.0941</td><td style=\"text-align: right;\"> 6576.25</td><td style=\"text-align: right;\"> 46.9362</td><td style=\"text-align: right;\">  0.349524</td></tr>\n",
       "<tr><td>XGBoost_grid__1_AutoML_20210706_131247_model_67    </td><td style=\"text-align: right;\">                 6627   </td><td style=\"text-align: right;\"> 81.4064</td><td style=\"text-align: right;\"> 6627   </td><td style=\"text-align: right;\"> 49.2316</td><td style=\"text-align: right;\">nan       </td></tr>\n",
       "<tr><td>XGBoost_grid__1_AutoML_20210706_131247_model_63    </td><td style=\"text-align: right;\">                 6642.77</td><td style=\"text-align: right;\"> 81.5032</td><td style=\"text-align: right;\"> 6642.77</td><td style=\"text-align: right;\"> 47.6647</td><td style=\"text-align: right;\">nan       </td></tr>\n",
       "<tr><td>XGBoost_grid__1_AutoML_20210706_131247_model_20    </td><td style=\"text-align: right;\">                 6653.35</td><td style=\"text-align: right;\"> 81.5681</td><td style=\"text-align: right;\"> 6653.35</td><td style=\"text-align: right;\"> 45.1605</td><td style=\"text-align: right;\">  0.343667</td></tr>\n",
       "<tr><td>XGBoost_grid__1_AutoML_20210706_131247_model_46    </td><td style=\"text-align: right;\">                 6700.14</td><td style=\"text-align: right;\"> 81.8544</td><td style=\"text-align: right;\"> 6700.14</td><td style=\"text-align: right;\"> 49.8163</td><td style=\"text-align: right;\">nan       </td></tr>\n",
       "<tr><td>XGBoost_grid__1_AutoML_20210706_131247_model_47    </td><td style=\"text-align: right;\">                 6704.89</td><td style=\"text-align: right;\"> 81.8834</td><td style=\"text-align: right;\"> 6704.89</td><td style=\"text-align: right;\"> 49.6994</td><td style=\"text-align: right;\">nan       </td></tr>\n",
       "<tr><td>XGBoost_grid__1_AutoML_20210706_131247_model_31    </td><td style=\"text-align: right;\">                 6735.82</td><td style=\"text-align: right;\"> 82.072 </td><td style=\"text-align: right;\"> 6735.82</td><td style=\"text-align: right;\"> 48.6547</td><td style=\"text-align: right;\">nan       </td></tr>\n",
       "<tr><td>XGBoost_grid__1_AutoML_20210706_131247_model_5     </td><td style=\"text-align: right;\">                 6736.5 </td><td style=\"text-align: right;\"> 82.0762</td><td style=\"text-align: right;\"> 6736.5 </td><td style=\"text-align: right;\"> 46.6596</td><td style=\"text-align: right;\">nan       </td></tr>\n",
       "<tr><td>XGBoost_grid__1_AutoML_20210706_131247_model_34    </td><td style=\"text-align: right;\">                 6737.65</td><td style=\"text-align: right;\"> 82.0832</td><td style=\"text-align: right;\"> 6737.65</td><td style=\"text-align: right;\"> 49.3914</td><td style=\"text-align: right;\">nan       </td></tr>\n",
       "<tr><td>XGBoost_grid__1_AutoML_20210706_131247_model_2     </td><td style=\"text-align: right;\">                 6777.82</td><td style=\"text-align: right;\"> 82.3275</td><td style=\"text-align: right;\"> 6777.82</td><td style=\"text-align: right;\"> 48.4368</td><td style=\"text-align: right;\">nan       </td></tr>\n",
       "<tr><td>XGBoost_grid__1_AutoML_20210706_131247_model_24    </td><td style=\"text-align: right;\">                 6848.47</td><td style=\"text-align: right;\"> 82.7555</td><td style=\"text-align: right;\"> 6848.47</td><td style=\"text-align: right;\"> 49.1513</td><td style=\"text-align: right;\">nan       </td></tr>\n",
       "<tr><td>GBM_5_AutoML_20210706_131247                       </td><td style=\"text-align: right;\">                 6863.34</td><td style=\"text-align: right;\"> 82.8453</td><td style=\"text-align: right;\"> 6863.34</td><td style=\"text-align: right;\"> 48.0974</td><td style=\"text-align: right;\">nan       </td></tr>\n",
       "<tr><td>GBM_grid__1_AutoML_20210706_131247_model_16        </td><td style=\"text-align: right;\">                 6911.94</td><td style=\"text-align: right;\"> 83.1381</td><td style=\"text-align: right;\"> 6911.94</td><td style=\"text-align: right;\"> 51.9817</td><td style=\"text-align: right;\">nan       </td></tr>\n",
       "<tr><td>XGBoost_grid__1_AutoML_20210706_131247_model_12    </td><td style=\"text-align: right;\">                 6926.89</td><td style=\"text-align: right;\"> 83.228 </td><td style=\"text-align: right;\"> 6926.89</td><td style=\"text-align: right;\"> 50.189 </td><td style=\"text-align: right;\">nan       </td></tr>\n",
       "<tr><td>GBM_grid__1_AutoML_20210706_131247_model_8         </td><td style=\"text-align: right;\">                 7005.59</td><td style=\"text-align: right;\"> 83.6994</td><td style=\"text-align: right;\"> 7005.59</td><td style=\"text-align: right;\"> 49.6742</td><td style=\"text-align: right;\">nan       </td></tr>\n",
       "<tr><td>XGBoost_grid__1_AutoML_20210706_131247_model_68    </td><td style=\"text-align: right;\">                 8003.42</td><td style=\"text-align: right;\"> 89.4618</td><td style=\"text-align: right;\"> 8003.42</td><td style=\"text-align: right;\"> 52.1421</td><td style=\"text-align: right;\">  0.381718</td></tr>\n",
       "<tr><td>XGBoost_grid__1_AutoML_20210706_131247_model_58    </td><td style=\"text-align: right;\">                 8050.07</td><td style=\"text-align: right;\"> 89.7222</td><td style=\"text-align: right;\"> 8050.07</td><td style=\"text-align: right;\"> 49.059 </td><td style=\"text-align: right;\">  0.372387</td></tr>\n",
       "<tr><td>GLM_1_AutoML_20210706_131247                       </td><td style=\"text-align: right;\">                12335.8 </td><td style=\"text-align: right;\">111.067 </td><td style=\"text-align: right;\">12335.8 </td><td style=\"text-align: right;\"> 71.5926</td><td style=\"text-align: right;\">nan       </td></tr>\n",
       "<tr><td>DeepLearning_1_AutoML_20210706_131247              </td><td style=\"text-align: right;\">                15237.8 </td><td style=\"text-align: right;\">123.441 </td><td style=\"text-align: right;\">15237.8 </td><td style=\"text-align: right;\"> 74.7994</td><td style=\"text-align: right;\">nan       </td></tr>\n",
       "<tr><td>DeepLearning_grid__1_AutoML_20210706_131247_model_1</td><td style=\"text-align: right;\">                18658.5 </td><td style=\"text-align: right;\">136.596 </td><td style=\"text-align: right;\">18658.5 </td><td style=\"text-align: right;\"> 78.6383</td><td style=\"text-align: right;\">nan       </td></tr>\n",
       "<tr><td>DeepLearning_grid__1_AutoML_20210706_131247_model_3</td><td style=\"text-align: right;\">                21256.8 </td><td style=\"text-align: right;\">145.797 </td><td style=\"text-align: right;\">21256.8 </td><td style=\"text-align: right;\"> 78.5149</td><td style=\"text-align: right;\">nan       </td></tr>\n",
       "<tr><td>DeepLearning_grid__1_AutoML_20210706_131247_model_6</td><td style=\"text-align: right;\">                21302.5 </td><td style=\"text-align: right;\">145.954 </td><td style=\"text-align: right;\">21302.5 </td><td style=\"text-align: right;\"> 86.8111</td><td style=\"text-align: right;\">nan       </td></tr>\n",
       "<tr><td>DeepLearning_grid__1_AutoML_20210706_131247_model_4</td><td style=\"text-align: right;\">                22556.9 </td><td style=\"text-align: right;\">150.19  </td><td style=\"text-align: right;\">22556.9 </td><td style=\"text-align: right;\"> 83.2413</td><td style=\"text-align: right;\">nan       </td></tr>\n",
       "<tr><td>DeepLearning_grid__1_AutoML_20210706_131247_model_2</td><td style=\"text-align: right;\">                22618.9 </td><td style=\"text-align: right;\">150.396 </td><td style=\"text-align: right;\">22618.9 </td><td style=\"text-align: right;\"> 88.9285</td><td style=\"text-align: right;\">nan       </td></tr>\n",
       "<tr><td>DeepLearning_grid__1_AutoML_20210706_131247_model_5</td><td style=\"text-align: right;\">                23017.2 </td><td style=\"text-align: right;\">151.714 </td><td style=\"text-align: right;\">23017.2 </td><td style=\"text-align: right;\"> 84.2713</td><td style=\"text-align: right;\">  0.573118</td></tr>\n",
       "<tr><td>DeepLearning_grid__2_AutoML_20210706_131247_model_2</td><td style=\"text-align: right;\">                23404.7 </td><td style=\"text-align: right;\">152.986 </td><td style=\"text-align: right;\">23404.7 </td><td style=\"text-align: right;\"> 83.8235</td><td style=\"text-align: right;\">  0.537076</td></tr>\n",
       "<tr><td>DeepLearning_grid__2_AutoML_20210706_131247_model_1</td><td style=\"text-align: right;\">                24005.1 </td><td style=\"text-align: right;\">154.936 </td><td style=\"text-align: right;\">24005.1 </td><td style=\"text-align: right;\"> 95.4174</td><td style=\"text-align: right;\">  0.690401</td></tr>\n",
       "<tr><td>DeepLearning_grid__2_AutoML_20210706_131247_model_3</td><td style=\"text-align: right;\">                24204   </td><td style=\"text-align: right;\">155.576 </td><td style=\"text-align: right;\">24204   </td><td style=\"text-align: right;\"> 93.9573</td><td style=\"text-align: right;\">nan       </td></tr>\n",
       "<tr><td>DeepLearning_grid__3_AutoML_20210706_131247_model_3</td><td style=\"text-align: right;\">                25616   </td><td style=\"text-align: right;\">160.05  </td><td style=\"text-align: right;\">25616   </td><td style=\"text-align: right;\"> 89.6933</td><td style=\"text-align: right;\">  0.591831</td></tr>\n",
       "<tr><td>DeepLearning_grid__3_AutoML_20210706_131247_model_1</td><td style=\"text-align: right;\">                26650   </td><td style=\"text-align: right;\">163.248 </td><td style=\"text-align: right;\">26650   </td><td style=\"text-align: right;\">121.508 </td><td style=\"text-align: right;\">  0.898744</td></tr>\n",
       "<tr><td>DeepLearning_grid__3_AutoML_20210706_131247_model_4</td><td style=\"text-align: right;\">                27220.5 </td><td style=\"text-align: right;\">164.986 </td><td style=\"text-align: right;\">27220.5 </td><td style=\"text-align: right;\"> 92.9741</td><td style=\"text-align: right;\">  0.642593</td></tr>\n",
       "<tr><td>DeepLearning_grid__2_AutoML_20210706_131247_model_4</td><td style=\"text-align: right;\">                29552.5 </td><td style=\"text-align: right;\">171.908 </td><td style=\"text-align: right;\">29552.5 </td><td style=\"text-align: right;\">102.119 </td><td style=\"text-align: right;\">  0.720504</td></tr>\n",
       "<tr><td>DeepLearning_grid__3_AutoML_20210706_131247_model_2</td><td style=\"text-align: right;\">                32217.9 </td><td style=\"text-align: right;\">179.493 </td><td style=\"text-align: right;\">32217.9 </td><td style=\"text-align: right;\">126.297 </td><td style=\"text-align: right;\">  0.889106</td></tr>\n",
       "</tbody>\n",
       "</table>"
      ]
     },
     "metadata": {},
     "output_type": "display_data"
    },
    {
     "data": {
      "text/plain": []
     },
     "execution_count": 11,
     "metadata": {},
     "output_type": "execute_result"
    }
   ],
   "source": [
    "# View the AutoML Leaderboard\n",
    "lb = aml.leaderboard\n",
    "lb.head(rows=lb.nrows)  # Print all rows instead of default (10 rows)"
   ]
  },
  {
   "cell_type": "code",
   "execution_count": 12,
   "metadata": {},
   "outputs": [
    {
     "name": "stdout",
     "output_type": "stream",
     "text": [
      "Model Details\n",
      "=============\n",
      "H2OStackedEnsembleEstimator :  Stacked Ensemble\n",
      "Model Key:  StackedEnsemble_AllModels_AutoML_20210706_131247\n",
      "\n",
      "No model summary for this model\n",
      "\n",
      "ModelMetricsRegressionGLM: stackedensemble\n",
      "** Reported on train data. **\n",
      "\n",
      "MSE: 428.685034003604\n",
      "RMSE: 20.704710430324884\n",
      "MAE: 13.637089516957934\n",
      "RMSLE: 0.13412549996383472\n",
      "R^2: 0.9885996128133562\n",
      "Mean Residual Deviance: 428.685034003604\n",
      "Null degrees of freedom: 7110\n",
      "Residual degrees of freedom: 7089\n",
      "Null deviance: 267392609.29409403\n",
      "Residual deviance: 3048379.276799628\n",
      "AIC: 63323.94125227418\n",
      "\n",
      "ModelMetricsRegressionGLM: stackedensemble\n",
      "** Reported on cross-validation data. **\n",
      "\n",
      "MSE: 5123.938702087915\n",
      "RMSE: 71.58169250644968\n",
      "MAE: 41.626377491006394\n",
      "RMSLE: NaN\n",
      "R^2: 0.8637347224863932\n",
      "Mean Residual Deviance: 5123.938702087915\n",
      "Null degrees of freedom: 7110\n",
      "Residual degrees of freedom: 7085\n",
      "Null deviance: 267449293.38178974\n",
      "Residual deviance: 36436328.11054716\n",
      "AIC: 80974.02105524001\n"
     ]
    },
    {
     "data": {
      "text/plain": []
     },
     "execution_count": 12,
     "metadata": {},
     "output_type": "execute_result"
    }
   ],
   "source": [
    "# The leader model is stored here\n",
    "aml.leader"
   ]
  },
  {
   "cell_type": "code",
   "execution_count": 13,
   "metadata": {},
   "outputs": [
    {
     "name": "stdout",
     "output_type": "stream",
     "text": [
      "stackedensemble prediction progress: |████████████████████████████████████| 100%\n"
     ]
    }
   ],
   "source": [
    "# If you need to generate predictions on a test set, you can make\n",
    "# predictions directly on the `\"H2OAutoML\"` object, or on the leader\n",
    "# model object directly\n",
    "\n",
    "preds = aml.predict(test)"
   ]
  },
  {
   "cell_type": "code",
   "execution_count": 14,
   "metadata": {},
   "outputs": [],
   "source": [
    "sample_submission = pd.read_csv('../input/sample_submission.csv')\n",
    "sample_submission[y] = preds.as_data_frame().values.flatten()\n",
    "sample_submission.to_csv(f'../submissions/h2o_submission_{y}_1.csv', index=False)"
   ]
  },
  {
   "cell_type": "code",
   "execution_count": null,
   "metadata": {},
   "outputs": [],
   "source": []
  }
 ],
 "metadata": {
  "kernelspec": {
   "display_name": "Python 3",
   "language": "python",
   "name": "python3"
  },
  "language_info": {
   "codemirror_mode": {
    "name": "ipython",
    "version": 3
   },
   "file_extension": ".py",
   "mimetype": "text/x-python",
   "name": "python",
   "nbconvert_exporter": "python",
   "pygments_lexer": "ipython3",
   "version": "3.6.9"
  }
 },
 "nbformat": 4,
 "nbformat_minor": 2
}
